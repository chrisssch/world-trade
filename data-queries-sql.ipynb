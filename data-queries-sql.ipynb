{
 "cells": [
  {
   "cell_type": "markdown",
   "metadata": {},
   "source": [
    "# World Trade: Queries with Spark's SQL API"
   ]
  },
  {
   "cell_type": "code",
   "execution_count": 11,
   "metadata": {},
   "outputs": [],
   "source": [
    "# Initialization and configuration\n",
    "import findspark\n",
    "findspark.init()\n",
    "\n",
    "from pyspark import SparkConf, SparkContext, SQLContext\n",
    "from pyspark.sql import SparkSession\n",
    "\n",
    "# Spark\n",
    "from pyspark.sql.types import *\n",
    "import pyspark.sql.functions as F\n",
    "from pyspark.sql.window import Window"
   ]
  },
  {
   "cell_type": "markdown",
   "metadata": {},
   "source": [
    "## Initialize and configure Spark\n",
    "\n",
    "http://localhost:4040/"
   ]
  },
  {
   "cell_type": "code",
   "execution_count": 2,
   "metadata": {},
   "outputs": [],
   "source": [
    "# Configuration\n",
    "conf = SparkConf().setAppName(\"WorldTrade\").setMaster(\"local[4]\")\n",
    "conf.set(\"spark.driver.maxResultSize\", \"2g\")\n",
    "conf.set(\"spark.driver.memory\", \"2g\")\n",
    "conf.set(\"spark.executor.memory\", \"2g\") \n",
    "conf.set(\"spark.executor.pyspark.memory\", \"2g\")\n",
    "\n",
    "# Initialization\n",
    "sc = SparkContext(conf=conf)\n",
    "sqlc = SQLContext(sc)\n",
    "spark = SparkSession(sc)"
   ]
  },
  {
   "cell_type": "markdown",
   "metadata": {},
   "source": [
    "## Load data\n",
    "\n",
    "* Facts: flows\n",
    "* Dimensions: reporters, partners, products"
   ]
  },
  {
   "cell_type": "markdown",
   "metadata": {},
   "source": [
    "## Flows\n",
    "\n",
    "*TO BE UPDATED*\n",
    "```python\n",
    "\n",
    "flows = spark.read.parquet(\"data/parquet/full2018.parquet\")\n",
    "\n",
    "flows = flows.withColumn(\"YEAR\", flows[\"PERIOD\"].substr(1, 4).cast(IntegerType()))\n",
    "flows = flows \\\n",
    "    .select(\"REPORTER\", \"REPORTER_ISO\", \"PARTNER\", \"PARTNER_ISO\", \"TRADE_TYPE\", \"PRODUCT_NC\", \"FLOW\", \"YEAR\", \"VALUE_IN_EUROS\") \\\n",
    "    .filter(flows[\"YEAR\"] == 2018) \\\n",
    "    .filter(flows[\"PRODUCT_NC\"] != \"TOTAL\") \\\n",
    "    .groupBy(\"REPORTER\", \"REPORTER_ISO\", \"PARTNER\", \"PARTNER_ISO\", \"TRADE_TYPE\", \"PRODUCT_NC\", \"FLOW\", \"YEAR\").agg({\"VALUE_IN_EUROS\": \"sum\"}) \\\n",
    "    .groupBy(\"REPORTER\", \"REPORTER_ISO\", \"PARTNER\", \"PARTNER_ISO\", \"TRADE_TYPE\", \"PRODUCT_NC\", \"YEAR\").pivot(\"FLOW\", [1, 2]).sum(\"sum(VALUE_IN_EUROS)\") \\\n",
    "    .withColumnRenamed(\"1\", \"IMPORTS\").withColumnRenamed(\"2\", \"EXPORTS\") \\\n",
    "    .cache()\n",
    "```\n",
    "\n",
    "What's going on here:\n",
    "1. Read from parquet files\n",
    "2. Select relevnat columns\n",
    "3. Generate column \"YEAR\"; probably better to use date functions\n",
    "4. Aggregate values for all months over each year as well as all other columns\n",
    "5. Pivot: Generate columns \"1\" and \"2\" from \"sum(VALUE_IN_EUROS)\" and the categories of \"FLOW\"\n",
    "6. Rename \"1\" and \"2\" to \"IMPORTS and \"EXPORTS"
   ]
  },
  {
   "cell_type": "code",
   "execution_count": 61,
   "metadata": {},
   "outputs": [],
   "source": [
    "flows = spark.read.parquet(\"data/parquet/full2018.parquet\")\n",
    "\n",
    "flows = flows.withColumn(\"YEAR\", flows[\"PERIOD\"].substr(1, 4).cast(IntegerType()))\n",
    "flows = flows \\\n",
    "    .select(\"REPORTER\", \"REPORTER_ISO\", \"PARTNER\", \"PARTNER_ISO\", \"TRADE_TYPE\", \"PRODUCT_NC\", \"FLOW\", \"YEAR\", \"VALUE_IN_EUROS\") \\\n",
    "    .filter(flows[\"YEAR\"] == 2018) \\\n",
    "    .filter(flows[\"PRODUCT_NC\"] != \"TOTAL\") \\\n",
    "    .groupBy(\"REPORTER\", \"REPORTER_ISO\", \"PARTNER\", \"PARTNER_ISO\", \"TRADE_TYPE\", \"PRODUCT_NC\", \"FLOW\", \"YEAR\").agg({\"VALUE_IN_EUROS\": \"sum\"}) \\\n",
    "    .groupBy(\"REPORTER\", \"REPORTER_ISO\", \"PARTNER\", \"PARTNER_ISO\", \"TRADE_TYPE\", \"PRODUCT_NC\", \"YEAR\").pivot(\"FLOW\", [1, 2]).sum(\"sum(VALUE_IN_EUROS)\") \\\n",
    "    .withColumnRenamed(\"1\", \"IMPORTS\").withColumnRenamed(\"2\", \"EXPORTS\") \\\n",
    "    .cache()"
   ]
  },
  {
   "cell_type": "code",
   "execution_count": 62,
   "metadata": {},
   "outputs": [
    {
     "name": "stdout",
     "output_type": "stream",
     "text": [
      "root\n",
      " |-- REPORTER: integer (nullable = true)\n",
      " |-- REPORTER_ISO: string (nullable = true)\n",
      " |-- PARTNER: integer (nullable = true)\n",
      " |-- PARTNER_ISO: string (nullable = true)\n",
      " |-- TRADE_TYPE: string (nullable = true)\n",
      " |-- PRODUCT_NC: string (nullable = true)\n",
      " |-- YEAR: integer (nullable = true)\n",
      " |-- IMPORTS: long (nullable = true)\n",
      " |-- EXPORTS: long (nullable = true)\n",
      "\n"
     ]
    }
   ],
   "source": [
    "flows.printSchema()"
   ]
  },
  {
   "cell_type": "code",
   "execution_count": 63,
   "metadata": {},
   "outputs": [
    {
     "data": {
      "text/plain": [
       "200"
      ]
     },
     "execution_count": 63,
     "metadata": {},
     "output_type": "execute_result"
    }
   ],
   "source": [
    "flows.rdd.getNumPartitions()"
   ]
  },
  {
   "cell_type": "code",
   "execution_count": 64,
   "metadata": {},
   "outputs": [
    {
     "data": {
      "text/plain": [
       "6787984"
      ]
     },
     "execution_count": 64,
     "metadata": {},
     "output_type": "execute_result"
    }
   ],
   "source": [
    "flows.count()"
   ]
  },
  {
   "cell_type": "code",
   "execution_count": 65,
   "metadata": {},
   "outputs": [
    {
     "name": "stdout",
     "output_type": "stream",
     "text": [
      "+--------+------------+-------+-----------+----------+----------+----+-------+-------+\n",
      "|REPORTER|REPORTER_ISO|PARTNER|PARTNER_ISO|TRADE_TYPE|PRODUCT_NC|YEAR|IMPORTS|EXPORTS|\n",
      "+--------+------------+-------+-----------+----------+----------+----+-------+-------+\n",
      "|       1|          FR|      6|         GB|         I|  68159100|2018| 451553|    923|\n",
      "|       1|          FR|     17|         BE|         I|  44199010|2018| 565042|  12173|\n",
      "|       1|          FR|     30|         SE|         I|  96132000|2018|   null|   7134|\n",
      "|       1|          FR|     39|         CH|         E|  15159060|2018|   8608| 109757|\n",
      "|       1|          FR|     60|         PL|         I|  84804900|2018| 303859|   null|\n",
      "|       1|          FR|    212|         TN|         E|  39261000|2018|2472112| 388639|\n",
      "|       1|          FR|    346|         KE|         E|  84818063|2018|   null|  90489|\n",
      "|       1|          FR|    664|         IN|         E|  85051910|2018|  49750|  11527|\n",
      "|       1|          FR|    706|         SG|         E|  73202089|2018|    780|  67807|\n",
      "|       3|          NL|      7|         IE|         I|  29031100|2018|   null|    412|\n",
      "+--------+------------+-------+-----------+----------+----------+----+-------+-------+\n",
      "only showing top 10 rows\n",
      "\n"
     ]
    }
   ],
   "source": [
    "flows.show(10)"
   ]
  },
  {
   "cell_type": "code",
   "execution_count": 78,
   "metadata": {},
   "outputs": [
    {
     "data": {
      "text/plain": [
       "28"
      ]
     },
     "execution_count": 78,
     "metadata": {},
     "output_type": "execute_result"
    }
   ],
   "source": [
    "flows.select(\"REPORTER\").distinct().count()"
   ]
  },
  {
   "cell_type": "code",
   "execution_count": 79,
   "metadata": {},
   "outputs": [
    {
     "data": {
      "text/plain": [
       "246"
      ]
     },
     "execution_count": 79,
     "metadata": {},
     "output_type": "execute_result"
    }
   ],
   "source": [
    "flows.select(\"PARTNER\").distinct().count()"
   ]
  },
  {
   "cell_type": "code",
   "execution_count": 80,
   "metadata": {},
   "outputs": [
    {
     "data": {
      "text/plain": [
       "9965"
      ]
     },
     "execution_count": 80,
     "metadata": {},
     "output_type": "execute_result"
    }
   ],
   "source": [
    "flows.select(\"PRODUCT_NC\").distinct().count()"
   ]
  },
  {
   "cell_type": "markdown",
   "metadata": {},
   "source": [
    "### Reporters"
   ]
  },
  {
   "cell_type": "code",
   "execution_count": 81,
   "metadata": {},
   "outputs": [],
   "source": [
    "schema = StructType([\n",
    "    StructField(\"REPORTER\", IntegerType(), True),\n",
    "    StructField(\"START_DATE\", StringType(), True),\n",
    "    StructField(\"END_DATE\", StringType(), True),\n",
    "    StructField(\"REPORTER_NAME\", StringType(), True),\n",
    "    StructField(\"_c1\", StringType(), True),\n",
    "    StructField(\"_c2\", StringType(), True)\n",
    "])\n",
    "\n",
    "reporters = spark.read.csv(\"data/REPORTERS.txt\", sep=\"\\t\", header=False, schema=schema)\n",
    "reporters = reporters \\\n",
    "    .select(\"REPORTER\", \"REPORTER_NAME\") \\\n",
    "    .withColumn(\"REPORTER_NAME\", F.trim(reporters[\"REPORTER_NAME\"])) \\\n",
    "    .cache()   "
   ]
  },
  {
   "cell_type": "code",
   "execution_count": 82,
   "metadata": {},
   "outputs": [
    {
     "data": {
      "text/plain": [
       "29"
      ]
     },
     "execution_count": 82,
     "metadata": {},
     "output_type": "execute_result"
    }
   ],
   "source": [
    "reporters.count()"
   ]
  },
  {
   "cell_type": "code",
   "execution_count": 83,
   "metadata": {},
   "outputs": [
    {
     "name": "stdout",
     "output_type": "stream",
     "text": [
      "+--------+-------------+\n",
      "|REPORTER|REPORTER_NAME|\n",
      "+--------+-------------+\n",
      "|       1|       France|\n",
      "|       2|  Belg.-Luxbg|\n",
      "|       3|  Netherlands|\n",
      "|       4|   Fr Germany|\n",
      "|       5|        Italy|\n",
      "|       6| Utd. Kingdom|\n",
      "|       7|      Ireland|\n",
      "|       8|      Denmark|\n",
      "|       9|       Greece|\n",
      "|      10|     Portugal|\n",
      "+--------+-------------+\n",
      "only showing top 10 rows\n",
      "\n"
     ]
    }
   ],
   "source": [
    "reporters.show(10)"
   ]
  },
  {
   "cell_type": "markdown",
   "metadata": {},
   "source": [
    "### Partners\n",
    "\n",
    "* `partners.filter(partners[\"END_DATE\"] == \"31/12/2500\")`: Filters out countries or territories that don't exist as legal entities anymore"
   ]
  },
  {
   "cell_type": "code",
   "execution_count": 84,
   "metadata": {},
   "outputs": [],
   "source": [
    "schema = StructType([\n",
    "    StructField(\"PARTNER\", IntegerType(), True),\n",
    "    StructField(\"START_DATE\", StringType(), True),\n",
    "    StructField(\"END_DATE\", StringType(), True),\n",
    "    StructField(\"PARTNER_NAME\", StringType(), True),\n",
    "    StructField(\"_c1\", StringType(), True),\n",
    "    StructField(\"_c2\", StringType(), True)\n",
    "])\n",
    "\n",
    "partners = spark.read.csv(\"data/PARTNERS.txt\", sep=\"\\t\", header=False, schema=schema)\n",
    "partners = partners.filter(partners[\"END_DATE\"] == \"31/12/2500\") \\\n",
    "    .withColumn(\"PARTNER_NAME\", F.trim(partners[\"PARTNER_NAME\"])) \\\n",
    "    .select(\"PARTNER\", \"PARTNER_NAME\") \\\n",
    "    .cache()"
   ]
  },
  {
   "cell_type": "code",
   "execution_count": 85,
   "metadata": {},
   "outputs": [
    {
     "name": "stdout",
     "output_type": "stream",
     "text": [
      "root\n",
      " |-- PARTNER: integer (nullable = true)\n",
      " |-- PARTNER_NAME: string (nullable = true)\n",
      "\n"
     ]
    }
   ],
   "source": [
    "partners.printSchema()"
   ]
  },
  {
   "cell_type": "code",
   "execution_count": 86,
   "metadata": {},
   "outputs": [
    {
     "data": {
      "text/plain": [
       "249"
      ]
     },
     "execution_count": 86,
     "metadata": {},
     "output_type": "execute_result"
    }
   ],
   "source": [
    "partners.count()"
   ]
  },
  {
   "cell_type": "code",
   "execution_count": 87,
   "metadata": {},
   "outputs": [
    {
     "name": "stdout",
     "output_type": "stream",
     "text": [
      "+-------+--------------+\n",
      "|PARTNER|  PARTNER_NAME|\n",
      "+-------+--------------+\n",
      "|      1|        France|\n",
      "|      3|   Netherlands|\n",
      "|      4|       Germany|\n",
      "|      5|         Italy|\n",
      "|      6|United Kingdom|\n",
      "|      7|       Ireland|\n",
      "|      8|       Denmark|\n",
      "|      9|        Greece|\n",
      "|     10|      Portugal|\n",
      "|     11|         Spain|\n",
      "+-------+--------------+\n",
      "only showing top 10 rows\n",
      "\n"
     ]
    }
   ],
   "source": [
    "partners.show(10)"
   ]
  },
  {
   "cell_type": "markdown",
   "metadata": {},
   "source": [
    "### Product codes (Combined Nomenclature)\n",
    "\n",
    "* https://ec.europa.eu/taxation_customs/business/calculation-customs-duties/what-is-common-customs-tariff/combined-nomenclature_en\n",
    "\n",
    "* `.withColumn(\"HS2\", products[\"PRODUCT_NC\"].substr(1, 2))`: Matches all 8-digit categories with their broader 2-digit categories (Harmonized System Chapters)"
   ]
  },
  {
   "cell_type": "code",
   "execution_count": 88,
   "metadata": {},
   "outputs": [],
   "source": [
    "schema = StructType([\n",
    "    StructField(\"PRODUCT_NC\", StringType(), True),\n",
    "    StructField(\"START_DATE\", StringType(), True),\n",
    "    StructField(\"END_DATE\", StringType(), True),\n",
    "    StructField(\"_c1\", StringType(), True),\n",
    "    StructField(\"PRODUCT_NC_NAME\", StringType(), True),\n",
    "    StructField(\"_c2\", StringType(), True),\n",
    "    StructField(\"_c3\", StringType(), True)   \n",
    "])\n",
    "\n",
    "products = spark.read.csv(\"data/CN.txt\", sep=\"\\t\", header=False, schema=schema)\n",
    "products = products \\\n",
    "    .select(\"PRODUCT_NC\", \"PRODUCT_NC_NAME\") \\\n",
    "    .withColumn(\"PRODUCT_NC_NAME\", F.trim(products[\"PRODUCT_NC_NAME\"])) \\\n",
    "    .withColumn(\"HS2\", products[\"PRODUCT_NC\"].substr(1, 2)) \\\n",
    "    .cache()"
   ]
  },
  {
   "cell_type": "code",
   "execution_count": 89,
   "metadata": {},
   "outputs": [
    {
     "name": "stdout",
     "output_type": "stream",
     "text": [
      "root\n",
      " |-- PRODUCT_NC: string (nullable = true)\n",
      " |-- PRODUCT_NC_NAME: string (nullable = true)\n",
      " |-- HS2: string (nullable = true)\n",
      "\n"
     ]
    }
   ],
   "source": [
    "products.printSchema()"
   ]
  },
  {
   "cell_type": "code",
   "execution_count": 90,
   "metadata": {},
   "outputs": [
    {
     "data": {
      "text/plain": [
       "31154"
      ]
     },
     "execution_count": 90,
     "metadata": {},
     "output_type": "execute_result"
    }
   ],
   "source": [
    "products.count()"
   ]
  },
  {
   "cell_type": "code",
   "execution_count": 91,
   "metadata": {},
   "outputs": [
    {
     "name": "stdout",
     "output_type": "stream",
     "text": [
      "+----------+--------------------+---+\n",
      "|PRODUCT_NC|     PRODUCT_NC_NAME|HS2|\n",
      "+----------+--------------------+---+\n",
      "|        01|        LIVE ANIMALS| 01|\n",
      "|      0101|LIVE HORSES, ASSE...| 01|\n",
      "|    010110|PURE-BRED BREEDIN...| 01|\n",
      "|  01011010|PURE-BRED BREEDIN...| 01|\n",
      "|  01011090|PURE-BRED BREEDIN...| 01|\n",
      "+----------+--------------------+---+\n",
      "only showing top 5 rows\n",
      "\n"
     ]
    }
   ],
   "source": [
    "products.show(5)"
   ]
  },
  {
   "cell_type": "markdown",
   "metadata": {},
   "source": [
    "## Query examples (SQL)\n",
    "\n",
    "### Register views"
   ]
  },
  {
   "cell_type": "code",
   "execution_count": 103,
   "metadata": {},
   "outputs": [],
   "source": [
    "flows.createOrReplaceTempView(\"flows\")\n",
    "reporters.createOrReplaceTempView(\"reporters\")\n",
    "partners.createOrReplaceTempView(\"partners\")\n",
    "products.createOrReplaceTempView(\"products\")"
   ]
  },
  {
   "cell_type": "markdown",
   "metadata": {},
   "source": [
    "### Total German exports, imports, and trade balance in 2018 in bn"
   ]
  },
  {
   "cell_type": "code",
   "execution_count": 104,
   "metadata": {},
   "outputs": [
    {
     "name": "stdout",
     "output_type": "stream",
     "text": [
      "+-----------+-----------+----------+\n",
      "| EXPORTS_BN| IMPORTS_BN|BALANCE_BN|\n",
      "+-----------+-----------+----------+\n",
      "|1320.840158|1088.541680|232.295922|\n",
      "+-----------+-----------+----------+\n",
      "\n"
     ]
    }
   ],
   "source": [
    "query = \"\"\"\n",
    "    select\n",
    "        sum(EXPORTS/1e9) as EXPORTS_BN,\n",
    "        sum(IMPORTS/1e9) as IMPORTS_BN,\n",
    "        (sum(EXPORTS) - sum(IMPORTS))/1e9 as BALANCE_BN \n",
    "    from flows \n",
    "    where \n",
    "        REPORTER_ISO = 'DE' and\n",
    "        YEAR = 2018 \n",
    "\"\"\"\n",
    "sqlc.sql(query).show()"
   ]
  },
  {
   "cell_type": "markdown",
   "metadata": {},
   "source": [
    "### Example: Top 10 German export destinations in 2018"
   ]
  },
  {
   "cell_type": "code",
   "execution_count": 105,
   "metadata": {},
   "outputs": [
    {
     "name": "stdout",
     "output_type": "stream",
     "text": [
      "+-----------+--------------------+----------+\n",
      "|PARTNER_ISO|        PARTNER_NAME|EXPORTS_BN|\n",
      "+-----------+--------------------+----------+\n",
      "|         US|United States of ...|114.480834|\n",
      "|         FR|              France|105.137964|\n",
      "|         CN|               China| 93.680048|\n",
      "|         NL|         Netherlands| 84.295506|\n",
      "|         GB|      United Kingdom| 81.773771|\n",
      "|         IT|               Italy| 69.716666|\n",
      "|         AT|             Austria| 63.726222|\n",
      "|         PL|              Poland| 63.290483|\n",
      "|         CH|         Switzerland| 53.626724|\n",
      "|         BE|             Belgium| 44.238112|\n",
      "+-----------+--------------------+----------+\n",
      "only showing top 10 rows\n",
      "\n"
     ]
    }
   ],
   "source": [
    "query = \"\"\"\n",
    "    select\n",
    "        PARTNER_ISO,\n",
    "        PARTNER_NAME,\n",
    "        sum(EXPORTS/1e9) as EXPORTS_BN\n",
    "    from flows \n",
    "    join partners on partners.PARTNER = flows.PARTNER\n",
    "    where \n",
    "        REPORTER_ISO = 'DE' and\n",
    "        YEAR = 2018 \n",
    "    group by\n",
    "        PARTNER_ISO,\n",
    "        PARTNER_NAME\n",
    "    order by EXPORTS_BN desc\n",
    "\"\"\"\n",
    "sqlc.sql(query).show(10)"
   ]
  },
  {
   "cell_type": "markdown",
   "metadata": {},
   "source": [
    "### Top 10 countries with the highest trade deficit with Germany in 2018 in bn"
   ]
  },
  {
   "cell_type": "code",
   "execution_count": 106,
   "metadata": {},
   "outputs": [
    {
     "name": "stdout",
     "output_type": "stream",
     "text": [
      "+-----------+--------------------+----------+----------+----------+\n",
      "|PARTNER_ISO|        PARTNER_NAME|EXPORTS_BN|IMPORTS_BN|BALANCE_BN|\n",
      "+-----------+--------------------+----------+----------+----------+\n",
      "|         US|United States of ...|114.480834| 48.559429| 65.921338|\n",
      "|         GB|      United Kingdom| 81.773771| 40.509202| 41.264567|\n",
      "|         FR|              France|105.137964| 69.173274| 35.964740|\n",
      "|         CN|               China| 93.680048| 75.466817| 18.213171|\n",
      "|         AT|             Austria| 63.726222| 45.955059| 17.771104|\n",
      "|         ES|               Spain| 44.191083| 32.897243| 11.293842|\n",
      "|         CH|         Switzerland| 53.626724| 42.857159| 10.769528|\n",
      "|         SE|              Sweden| 26.219577| 15.966888| 10.252658|\n",
      "|         IT|               Italy| 69.716666| 60.399467|  9.317248|\n",
      "|         KR| Korea (Republic of)| 17.774181|  9.191087|  8.583074|\n",
      "|         AU|           Australia| 10.090758|  1.718844|  8.371927|\n",
      "|         MX|              Mexico| 13.986662|  6.596369|  7.390323|\n",
      "|         AE|United Arab Emirates|  8.242698|  1.097420|  7.145232|\n",
      "|         CA|              Canada| 10.257298|  3.926883|  6.330395|\n",
      "|         TR|              Turkey| 19.647851| 13.954839|  5.693026|\n",
      "|         IN|               India| 12.502497|  7.088233|  5.414211|\n",
      "|         DK|             Denmark| 19.988692| 14.645903|  5.342741|\n",
      "|         SA|        Saudi Arabia|  6.228817|  0.888422|  5.340416|\n",
      "|         HK|           Hong Kong|  6.050518|  1.465019|  4.585502|\n",
      "|         BR|              Brazil|  9.449423|  4.938916|  4.510523|\n",
      "+-----------+--------------------+----------+----------+----------+\n",
      "only showing top 20 rows\n",
      "\n"
     ]
    }
   ],
   "source": [
    "query = \"\"\"\n",
    "    select\n",
    "        PARTNER_ISO,\n",
    "        PARTNER_NAME,\n",
    "        sum(EXPORTS/1e9) as EXPORTS_BN,\n",
    "        sum(IMPORTS/1e9) as IMPORTS_BN,\n",
    "        (sum(EXPORTS) - sum(IMPORTS))/1e9 as BALANCE_BN \n",
    "    from flows \n",
    "    join partners on partners.PARTNER = flows.PARTNER\n",
    "    where \n",
    "        REPORTER_ISO = 'DE' and\n",
    "        YEAR = 2018 \n",
    "    group by\n",
    "        PARTNER_ISO,\n",
    "        PARTNER_NAME\n",
    "    order by BALANCE_BN desc\n",
    "\"\"\"\n",
    "sqlc.sql(query).show(20)"
   ]
  },
  {
   "cell_type": "markdown",
   "metadata": {},
   "source": [
    "### Example: EU exports, imports, trade balance"
   ]
  },
  {
   "cell_type": "code",
   "execution_count": 107,
   "metadata": {},
   "outputs": [
    {
     "name": "stdout",
     "output_type": "stream",
     "text": [
      "+-----------+-----------+----------+\n",
      "| EXPORTS_BN| IMPORTS_BN|BALANCE_BN|\n",
      "+-----------+-----------+----------+\n",
      "|1956.318791|1979.205124|-22.875961|\n",
      "+-----------+-----------+----------+\n",
      "\n"
     ]
    }
   ],
   "source": [
    "query = \"\"\"\n",
    "    select\n",
    "        sum(EXPORTS/1e9) as EXPORTS_BN,\n",
    "        sum(IMPORTS/1e9) as IMPORTS_BN,\n",
    "        (sum(EXPORTS) - sum(IMPORTS))/1e9 as BALANCE_BN \n",
    "    from flows \n",
    "    where \n",
    "        TRADE_TYPE = 'E' and\n",
    "        YEAR = 2018 \n",
    "\"\"\"\n",
    "sqlc.sql(query).show()"
   ]
  },
  {
   "cell_type": "markdown",
   "metadata": {},
   "source": [
    "### Example with ranks: Partner by reporter, ranked by exports"
   ]
  },
  {
   "cell_type": "code",
   "execution_count": 108,
   "metadata": {},
   "outputs": [],
   "source": [
    "# TBD"
   ]
  },
  {
   "cell_type": "markdown",
   "metadata": {},
   "source": [
    "### Exports from Argentina to Germany (CN8)"
   ]
  },
  {
   "cell_type": "code",
   "execution_count": 122,
   "metadata": {},
   "outputs": [
    {
     "name": "stdout",
     "output_type": "stream",
     "text": [
      "+----------+--------------------+----------+\n",
      "|PRODUCT_NC|     PRODUCT_NC_NAME|IMPORTS_MN|\n",
      "+----------+--------------------+----------+\n",
      "|  26030000|COPPER ORES AND C...|198.439966|\n",
      "|  02013000|FRESH OR CHILLED ...|194.604795|\n",
      "|  29371900|POLYPEPTIDE HORMO...| 85.198660|\n",
      "|  51052900|WOOL, COMBED (EXC...| 46.657958|\n",
      "|  23040000|OILCAKE AND OTHER...| 34.440129|\n",
      "|  04090000|       NATURAL HONEY| 34.256382|\n",
      "|  87082990|PARTS AND ACCESSO...| 28.150679|\n",
      "|  71069100|SILVER, INCL. SIL...| 27.794690|\n",
      "|  23080040|ACORNS AND HORSE-...| 21.072345|\n",
      "|  38231990|FATTY ACIDS, INDU...| 19.457899|\n",
      "+----------+--------------------+----------+\n",
      "only showing top 10 rows\n",
      "\n"
     ]
    }
   ],
   "source": [
    "query = \"\"\"\n",
    "    select\n",
    "        flows.PRODUCT_NC,\n",
    "        PRODUCT_NC_NAME,\n",
    "        sum(IMPORTS/1e6) as IMPORTS_MN\n",
    "    from flows\n",
    "    join products on products.PRODUCT_NC = flows.PRODUCT_NC\n",
    "    where \n",
    "        YEAR = 2018 and\n",
    "        REPORTER_ISO = 'DE' and\n",
    "        PARTNER_ISO = 'AR'\n",
    "    group by\n",
    "        flows.PRODUCT_NC,\n",
    "        PRODUCT_NC_NAME\n",
    "    order by IMPORTS_MN desc\n",
    "\"\"\"\n",
    "sqlc.sql(query).show(10)"
   ]
  },
  {
   "cell_type": "markdown",
   "metadata": {},
   "source": [
    "### Exports from Argentina to Germany (HS2)"
   ]
  },
  {
   "cell_type": "code",
   "execution_count": 137,
   "metadata": {},
   "outputs": [
    {
     "name": "stdout",
     "output_type": "stream",
     "text": [
      "+---+--------------------+----------+\n",
      "|HS2|     PRODUCT_NC_NAME|IMPORTS_MN|\n",
      "+---+--------------------+----------+\n",
      "| 26|  ORES, SLAG AND ASH|217.186164|\n",
      "| 02|MEAT AND EDIBLE M...|198.467026|\n",
      "| 87|VEHICLES OTHER TH...| 96.472690|\n",
      "| 29|   ORGANIC CHEMICALS| 87.133348|\n",
      "| 23|RESIDUES AND WAST...| 55.514820|\n",
      "| 51|WOOL, FINE OR COA...| 48.437369|\n",
      "| 22|BEVERAGES, SPIRIT...| 39.100959|\n",
      "| 04|DAIRY PRODUCE; BI...| 34.256823|\n",
      "| 84|NUCLEAR REACTORS,...| 34.110421|\n",
      "| 71|NATURAL OR CULTUR...| 29.720306|\n",
      "+---+--------------------+----------+\n",
      "only showing top 10 rows\n",
      "\n"
     ]
    }
   ],
   "source": [
    "query = \"\"\"\n",
    "    select\n",
    "        PX1.HS2,\n",
    "        PX2.PRODUCT_NC_NAME,\n",
    "        sum(IMPORTS/1e6) as IMPORTS_MN\n",
    "    from flows as FX\n",
    "    join products as PX1 on PX1.PRODUCT_NC = FX.PRODUCT_NC\n",
    "    join products as PX2 on PX1.HS2 = PX2.PRODUCT_NC\n",
    "\n",
    "    where \n",
    "        YEAR = 2018 and\n",
    "        REPORTER_ISO = 'DE' and\n",
    "        PARTNER_ISO = 'AR'\n",
    "    group by\n",
    "        PX1.HS2,\n",
    "        PX2.PRODUCT_NC_NAME\n",
    "\n",
    "    order by IMPORTS_MN desc\n",
    "\"\"\"\n",
    "sqlc.sql(query).show(10, truncate=True)"
   ]
  },
  {
   "cell_type": "markdown",
   "metadata": {},
   "source": [
    "### Exports from Argentina to the EU >= 80 mn"
   ]
  },
  {
   "cell_type": "code",
   "execution_count": null,
   "metadata": {},
   "outputs": [],
   "source": [
    "# TBD"
   ]
  }
 ],
 "metadata": {
  "kernelspec": {
   "display_name": "Python 3",
   "language": "python",
   "name": "python3"
  },
  "language_info": {
   "codemirror_mode": {
    "name": "ipython",
    "version": 3
   },
   "file_extension": ".py",
   "mimetype": "text/x-python",
   "name": "python",
   "nbconvert_exporter": "python",
   "pygments_lexer": "ipython3",
   "version": "3.7.3"
  }
 },
 "nbformat": 4,
 "nbformat_minor": 2
}
