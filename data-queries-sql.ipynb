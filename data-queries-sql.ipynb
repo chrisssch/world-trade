{
 "cells": [
  {
   "cell_type": "markdown",
   "metadata": {},
   "source": [
    "# World Trade: Queries with Spark's SQL API\n",
    "\n",
    "<b> Spark Web UI: </b> http://localhost:4040/\n",
    "\n",
    "\n",
    "## Introduction\n",
    "\n",
    "This notebook contains a number of query examples using Spark's SQL API on the compiled trade dataset, stored in parquet files, showcasing common ETL-like operations and analyses such as generating columns, filtering, converting data types, aggregations, joining tables, pivots, calculating ranks, finding the top 10 of something, etc.\n",
    "\n",
    "\n",
    "### Data\n",
    "\n",
    "This dataset consists of monthly data on bilateral trade flows between all EU countries and all other countries on the globe for the last 20 years plus metadata, compiled from data downloaded from [Eurostat's COMEXT database] with scripts in the notebook `convert-data-to-parquet.ipynb`. This dataset is about 60 GB large.\n",
    "\n",
    "\n",
    "## Imports"
   ]
  },
  {
   "cell_type": "code",
   "execution_count": 1,
   "metadata": {},
   "outputs": [],
   "source": [
    "# Initialization and configuration\n",
    "import findspark\n",
    "findspark.init()\n",
    "\n",
    "from pyspark import SparkConf, SparkContext, SQLContext\n",
    "from pyspark.sql import SparkSession\n",
    "\n",
    "# Spark\n",
    "from pyspark.sql.types import *\n",
    "import pyspark.sql.functions as F\n",
    "from pyspark.sql.window import Window\n",
    "\n",
    "# Python\n",
    "import numpy as np\n",
    "import pandas as pd\n",
    "import matplotlib.pyplot as plt\n",
    "plt.style.use(\"seaborn-whitegrid\")"
   ]
  },
  {
   "cell_type": "markdown",
   "metadata": {},
   "source": [
    "## Initialize and configure Spark"
   ]
  },
  {
   "cell_type": "code",
   "execution_count": 2,
   "metadata": {},
   "outputs": [],
   "source": [
    "# Configuration\n",
    "conf = SparkConf().setAppName(\"WorldTrade\").setMaster(\"local[4]\")\n",
    "conf.set(\"spark.driver.maxResultSize\", \"2g\")\n",
    "conf.set(\"spark.driver.memory\", \"2g\")\n",
    "conf.set(\"spark.executor.memory\", \"2g\") \n",
    "conf.set(\"spark.executor.pyspark.memory\", \"2g\")\n",
    "\n",
    "# Initialization\n",
    "sc = SparkContext(conf=conf)\n",
    "sqlc = SQLContext(sc)\n",
    "spark = SparkSession(sc)"
   ]
  },
  {
   "cell_type": "markdown",
   "metadata": {},
   "source": [
    "## Load and prepare data\n",
    "\n",
    "The dataset consists of the following DataFrames:\n",
    "* Fact tables: `flows`\n",
    "* Dimension tables: `reporters`, `partners`, `products`\n",
    "\n",
    "### Flows (year 2018, aggregated to yearly values)\n",
    "\n",
    "Most query examples use this cached DataFrame instead of reading from all parquet files on my SSD drive to speed things up."
   ]
  },
  {
   "cell_type": "code",
   "execution_count": 3,
   "metadata": {},
   "outputs": [],
   "source": [
    "flows = spark.read.parquet(\"data/parquet/*\")\n",
    "flows = flows.withColumn(\"YEAR\", flows[\"PERIOD\"].substr(1, 4).cast(IntegerType()))\n",
    "flows = flows \\\n",
    "    .select(\"REPORTER\", \"REPORTER_ISO\", \"PARTNER\", \"PARTNER_ISO\", \"TRADE_TYPE\", \"PRODUCT_NC\", \"FLOW\", \"YEAR\", \"VALUE_IN_EUROS\") \\\n",
    "    .filter(flows[\"YEAR\"] == 2018) \\\n",
    "    .filter(flows[\"PRODUCT_NC\"] != \"TOTAL\") \\\n",
    "    .groupBy(\"YEAR\", \"REPORTER\", \"REPORTER_ISO\", \"PARTNER\", \"PARTNER_ISO\", \"TRADE_TYPE\", \"PRODUCT_NC\", \"FLOW\", \"YEAR\").agg({\"VALUE_IN_EUROS\": \"sum\"}) \\\n",
    "    .groupBy(\"YEAR\", \"REPORTER\", \"REPORTER_ISO\", \"PARTNER\", \"PARTNER_ISO\", \"TRADE_TYPE\", \"PRODUCT_NC\", \"YEAR\").pivot(\"FLOW\", [1, 2]).sum(\"sum(VALUE_IN_EUROS)\") \\\n",
    "    .withColumnRenamed(\"1\", \"IMPORTS\").withColumnRenamed(\"2\", \"EXPORTS\") \\\n",
    "    .cache()"
   ]
  },
  {
   "cell_type": "code",
   "execution_count": 4,
   "metadata": {},
   "outputs": [
    {
     "name": "stdout",
     "output_type": "stream",
     "text": [
      "+----+--------+------------+-------+-----------+----------+----------+----+-------+-------+\n",
      "|YEAR|REPORTER|REPORTER_ISO|PARTNER|PARTNER_ISO|TRADE_TYPE|PRODUCT_NC|YEAR|IMPORTS|EXPORTS|\n",
      "+----+--------+------------+-------+-----------+----------+----------+----+-------+-------+\n",
      "|2018|       1|          FR|      3|         NL|         I|  94051091|2018|1534458| 573191|\n",
      "|2018|       1|          FR|      7|         IE|         I|  25223000|2018|   null| 213320|\n",
      "|2018|       1|          FR|      9|         GR|         I|  10051015|2018| 342378|9670677|\n",
      "|2018|       1|          FR|     30|         SE|         I|  61142000|2018|  10248| 199622|\n",
      "|2018|       1|          FR|     54|         LV|         I|  39119019|2018|   2005|  28602|\n",
      "|2018|       1|          FR|     55|         LT|         I|  87037000|2018|   null|   3781|\n",
      "|2018|       1|          FR|    212|         TN|         E|  70071190|2018|   6476|   7426|\n",
      "|2018|       1|          FR|    248|         SN|         E|  16041390|2018|   null|   4169|\n",
      "|2018|       1|          FR|    400|         US|         E|  03069990|2018|  22231| 100366|\n",
      "|2018|       1|          FR|    480|         CO|         E|  90275000|2018|    833| 389513|\n",
      "+----+--------+------------+-------+-----------+----------+----------+----+-------+-------+\n",
      "only showing top 10 rows\n",
      "\n"
     ]
    }
   ],
   "source": [
    "flows.show(10)"
   ]
  },
  {
   "cell_type": "code",
   "execution_count": 5,
   "metadata": {},
   "outputs": [
    {
     "name": "stdout",
     "output_type": "stream",
     "text": [
      "root\n",
      " |-- YEAR: integer (nullable = true)\n",
      " |-- REPORTER: integer (nullable = true)\n",
      " |-- REPORTER_ISO: string (nullable = true)\n",
      " |-- PARTNER: integer (nullable = true)\n",
      " |-- PARTNER_ISO: string (nullable = true)\n",
      " |-- TRADE_TYPE: string (nullable = true)\n",
      " |-- PRODUCT_NC: string (nullable = true)\n",
      " |-- YEAR: integer (nullable = true)\n",
      " |-- IMPORTS: long (nullable = true)\n",
      " |-- EXPORTS: long (nullable = true)\n",
      "\n"
     ]
    }
   ],
   "source": [
    "flows.printSchema()"
   ]
  },
  {
   "cell_type": "code",
   "execution_count": 6,
   "metadata": {},
   "outputs": [
    {
     "name": "stdout",
     "output_type": "stream",
     "text": [
      "+----+--------+------------+-------+-----------+----------+----------+----+-------+-------+\n",
      "|YEAR|REPORTER|REPORTER_ISO|PARTNER|PARTNER_ISO|TRADE_TYPE|PRODUCT_NC|YEAR|IMPORTS|EXPORTS|\n",
      "+----+--------+------------+-------+-----------+----------+----------+----+-------+-------+\n",
      "|2018|       1|          FR|      3|         NL|         I|  94051091|2018|1534458| 573191|\n",
      "|2018|       1|          FR|      7|         IE|         I|  25223000|2018|   null| 213320|\n",
      "|2018|       1|          FR|      9|         GR|         I|  10051015|2018| 342378|9670677|\n",
      "|2018|       1|          FR|     30|         SE|         I|  61142000|2018|  10248| 199622|\n",
      "|2018|       1|          FR|     54|         LV|         I|  39119019|2018|   2005|  28602|\n",
      "|2018|       1|          FR|     55|         LT|         I|  87037000|2018|   null|   3781|\n",
      "|2018|       1|          FR|    212|         TN|         E|  70071190|2018|   6476|   7426|\n",
      "|2018|       1|          FR|    248|         SN|         E|  16041390|2018|   null|   4169|\n",
      "|2018|       1|          FR|    400|         US|         E|  03069990|2018|  22231| 100366|\n",
      "|2018|       1|          FR|    480|         CO|         E|  90275000|2018|    833| 389513|\n",
      "+----+--------+------------+-------+-----------+----------+----------+----+-------+-------+\n",
      "only showing top 10 rows\n",
      "\n"
     ]
    }
   ],
   "source": [
    "flows.show(10)"
   ]
  },
  {
   "cell_type": "code",
   "execution_count": 7,
   "metadata": {},
   "outputs": [
    {
     "data": {
      "text/plain": [
       "28"
      ]
     },
     "execution_count": 7,
     "metadata": {},
     "output_type": "execute_result"
    }
   ],
   "source": [
    "# Number of reporting countries\n",
    "flows.select(\"REPORTER\").distinct().count()"
   ]
  },
  {
   "cell_type": "code",
   "execution_count": 8,
   "metadata": {},
   "outputs": [
    {
     "data": {
      "text/plain": [
       "246"
      ]
     },
     "execution_count": 8,
     "metadata": {},
     "output_type": "execute_result"
    }
   ],
   "source": [
    "# Number of trade partners\n",
    "flows.select(\"PARTNER\").distinct().count()"
   ]
  },
  {
   "cell_type": "code",
   "execution_count": 9,
   "metadata": {},
   "outputs": [
    {
     "data": {
      "text/plain": [
       "9965"
      ]
     },
     "execution_count": 9,
     "metadata": {},
     "output_type": "execute_result"
    }
   ],
   "source": [
    "# Number of distinct products\n",
    "flows.select(\"PRODUCT_NC\").distinct().count()"
   ]
  },
  {
   "cell_type": "markdown",
   "metadata": {},
   "source": [
    "### Reporters"
   ]
  },
  {
   "cell_type": "code",
   "execution_count": 10,
   "metadata": {},
   "outputs": [],
   "source": [
    "schema = StructType([\n",
    "    StructField(\"REPORTER\", IntegerType(), True),\n",
    "    StructField(\"START_DATE\", StringType(), True),\n",
    "    StructField(\"END_DATE\", StringType(), True),\n",
    "    StructField(\"REPORTER_NAME\", StringType(), True),\n",
    "    StructField(\"_c1\", StringType(), True),\n",
    "    StructField(\"_c2\", StringType(), True)\n",
    "])\n",
    "\n",
    "reporters = spark.read.csv(\"data/REPORTERS.txt\", sep=\"\\t\", header=False, schema=schema)\n",
    "reporters = reporters \\\n",
    "    .select(\"REPORTER\", \"REPORTER_NAME\") \\\n",
    "    .withColumn(\"REPORTER_NAME\", F.trim(reporters[\"REPORTER_NAME\"])) \\\n",
    "    .cache()   "
   ]
  },
  {
   "cell_type": "code",
   "execution_count": 11,
   "metadata": {},
   "outputs": [
    {
     "data": {
      "text/plain": [
       "29"
      ]
     },
     "execution_count": 11,
     "metadata": {},
     "output_type": "execute_result"
    }
   ],
   "source": [
    "reporters.count()"
   ]
  },
  {
   "cell_type": "code",
   "execution_count": 12,
   "metadata": {},
   "outputs": [
    {
     "name": "stdout",
     "output_type": "stream",
     "text": [
      "+--------+-------------+\n",
      "|REPORTER|REPORTER_NAME|\n",
      "+--------+-------------+\n",
      "|       1|       France|\n",
      "|       2|  Belg.-Luxbg|\n",
      "|       3|  Netherlands|\n",
      "|       4|   Fr Germany|\n",
      "|       5|        Italy|\n",
      "|       6| Utd. Kingdom|\n",
      "|       7|      Ireland|\n",
      "|       8|      Denmark|\n",
      "|       9|       Greece|\n",
      "|      10|     Portugal|\n",
      "+--------+-------------+\n",
      "only showing top 10 rows\n",
      "\n"
     ]
    }
   ],
   "source": [
    "# Number of reporters\n",
    "reporters.show(10)"
   ]
  },
  {
   "cell_type": "markdown",
   "metadata": {},
   "source": [
    "### Partners\n",
    "\n",
    "The operation `partners.filter(partners[\"END_DATE\"] == \"31/12/2500\")` removes countries or territories that don't exist as legal entities anymore."
   ]
  },
  {
   "cell_type": "code",
   "execution_count": 13,
   "metadata": {},
   "outputs": [],
   "source": [
    "schema = StructType([\n",
    "    StructField(\"PARTNER\", IntegerType(), True),\n",
    "    StructField(\"START_DATE\", StringType(), True),\n",
    "    StructField(\"END_DATE\", StringType(), True),\n",
    "    StructField(\"PARTNER_NAME\", StringType(), True),\n",
    "    StructField(\"_c1\", StringType(), True),\n",
    "    StructField(\"_c2\", StringType(), True)\n",
    "])\n",
    "\n",
    "partners = spark.read.csv(\"data/PARTNERS.txt\", sep=\"\\t\", header=False, schema=schema)\n",
    "partners = partners.filter(partners[\"END_DATE\"] == \"31/12/2500\") \\\n",
    "    .withColumn(\"PARTNER_NAME\", F.trim(partners[\"PARTNER_NAME\"])) \\\n",
    "    .select(\"PARTNER\", \"PARTNER_NAME\") \\\n",
    "    .cache()"
   ]
  },
  {
   "cell_type": "code",
   "execution_count": 14,
   "metadata": {},
   "outputs": [
    {
     "name": "stdout",
     "output_type": "stream",
     "text": [
      "+-------+--------------+\n",
      "|PARTNER|  PARTNER_NAME|\n",
      "+-------+--------------+\n",
      "|      1|        France|\n",
      "|      3|   Netherlands|\n",
      "|      4|       Germany|\n",
      "|      5|         Italy|\n",
      "|      6|United Kingdom|\n",
      "|      7|       Ireland|\n",
      "|      8|       Denmark|\n",
      "|      9|        Greece|\n",
      "|     10|      Portugal|\n",
      "|     11|         Spain|\n",
      "+-------+--------------+\n",
      "only showing top 10 rows\n",
      "\n"
     ]
    }
   ],
   "source": [
    "partners.show(10)"
   ]
  },
  {
   "cell_type": "code",
   "execution_count": 15,
   "metadata": {},
   "outputs": [
    {
     "data": {
      "text/plain": [
       "249"
      ]
     },
     "execution_count": 15,
     "metadata": {},
     "output_type": "execute_result"
    }
   ],
   "source": [
    "# Number of partners\n",
    "partners.count()"
   ]
  },
  {
   "cell_type": "markdown",
   "metadata": {},
   "source": [
    "### Product codes (Combined Nomenclature & Harmonized System)\n",
    "\n",
    "The traded goods in this sample of the dataset are classified according to two systems: The Harmonized System and the Combined Nomenclature. The Harmonized System at the 2-digit level used here distinguishes between about 100 product categories; the Combined Nomenclature at the 8-digit level used here between about 30,000 products. For more on these systems see:\n",
    "* Harmonized System: https://en.wikipedia.org/wiki/Harmonized_System\n",
    "* Combined Nomenclature: https://en.wikipedia.org/wiki/Combined_Nomenclature"
   ]
  },
  {
   "cell_type": "code",
   "execution_count": 16,
   "metadata": {},
   "outputs": [],
   "source": [
    "schema = StructType([\n",
    "    StructField(\"PRODUCT_NC\", StringType(), True),\n",
    "    StructField(\"START_DATE\", StringType(), True),\n",
    "    StructField(\"END_DATE\", StringType(), True),\n",
    "    StructField(\"_c1\", StringType(), True),\n",
    "    StructField(\"PRODUCT_NC_NAME\", StringType(), True),\n",
    "    StructField(\"_c2\", StringType(), True),\n",
    "    StructField(\"_c3\", StringType(), True)   \n",
    "])\n",
    "\n",
    "products = spark.read.csv(\"data/CN.txt\", sep=\"\\t\", header=False, schema=schema)\n",
    "products = products \\\n",
    "    .select(\"PRODUCT_NC\", \"PRODUCT_NC_NAME\") \\\n",
    "    .withColumn(\"PRODUCT_NC_NAME\", F.trim(products[\"PRODUCT_NC_NAME\"])) \\\n",
    "    .withColumn(\"HS2\", products[\"PRODUCT_NC\"].substr(1, 2)) \\\n",
    "    .cache()"
   ]
  },
  {
   "cell_type": "code",
   "execution_count": 17,
   "metadata": {},
   "outputs": [
    {
     "name": "stdout",
     "output_type": "stream",
     "text": [
      "+----------+--------------------+---+\n",
      "|PRODUCT_NC|     PRODUCT_NC_NAME|HS2|\n",
      "+----------+--------------------+---+\n",
      "|        01|        LIVE ANIMALS| 01|\n",
      "|      0101|LIVE HORSES, ASSE...| 01|\n",
      "|    010110|PURE-BRED BREEDIN...| 01|\n",
      "|  01011010|PURE-BRED BREEDIN...| 01|\n",
      "|  01011090|PURE-BRED BREEDIN...| 01|\n",
      "|    010111|PURE-BRED BREEDIN...| 01|\n",
      "|  01011100|PURE-BRED BREEDIN...| 01|\n",
      "|    010119|LIVE HORSES (EXCL...| 01|\n",
      "|  01011910|HORSES FOR SLAUGHTER| 01|\n",
      "|  01011990|HORSES (EXCL. THO...| 01|\n",
      "+----------+--------------------+---+\n",
      "only showing top 10 rows\n",
      "\n"
     ]
    }
   ],
   "source": [
    "products.show(10)"
   ]
  },
  {
   "cell_type": "code",
   "execution_count": 18,
   "metadata": {},
   "outputs": [
    {
     "data": {
      "text/plain": [
       "31154"
      ]
     },
     "execution_count": 18,
     "metadata": {},
     "output_type": "execute_result"
    }
   ],
   "source": [
    "# Number of product categories (CN8)\n",
    "products.count()"
   ]
  },
  {
   "cell_type": "markdown",
   "metadata": {},
   "source": [
    "## Query examples (SQL API)"
   ]
  },
  {
   "cell_type": "code",
   "execution_count": 19,
   "metadata": {},
   "outputs": [],
   "source": [
    "# Register table views\n",
    "flows.createOrReplaceTempView(\"flows\")\n",
    "reporters.createOrReplaceTempView(\"reporters\")\n",
    "partners.createOrReplaceTempView(\"partners\")\n",
    "products.createOrReplaceTempView(\"products\")"
   ]
  },
  {
   "cell_type": "markdown",
   "metadata": {},
   "source": [
    "### Total imports, exports, and trade balance of all EU countries in 2018"
   ]
  },
  {
   "cell_type": "code",
   "execution_count": 20,
   "metadata": {},
   "outputs": [],
   "source": [
    "# TO BE DONE"
   ]
  },
  {
   "cell_type": "markdown",
   "metadata": {},
   "source": [
    "### Total German exports, imports, and trade balance in 2018 in bn"
   ]
  },
  {
   "cell_type": "code",
   "execution_count": 21,
   "metadata": {},
   "outputs": [
    {
     "name": "stdout",
     "output_type": "stream",
     "text": [
      "+-----------+-----------+----------+\n",
      "| EXPORTS_BN| IMPORTS_BN|BALANCE_BN|\n",
      "+-----------+-----------+----------+\n",
      "|1320.840158|1088.541680|232.295922|\n",
      "+-----------+-----------+----------+\n",
      "\n"
     ]
    }
   ],
   "source": [
    "query = \"\"\"\n",
    "    select\n",
    "        sum(EXPORTS/1e9) as EXPORTS_BN,\n",
    "        sum(IMPORTS/1e9) as IMPORTS_BN,\n",
    "        (sum(EXPORTS) - sum(IMPORTS))/1e9 as BALANCE_BN \n",
    "    from flows \n",
    "    where \n",
    "        REPORTER_ISO = 'DE' and\n",
    "        YEAR = 2018 \n",
    "\"\"\"\n",
    "sqlc.sql(query).show()"
   ]
  },
  {
   "cell_type": "markdown",
   "metadata": {},
   "source": [
    "### Top 10 German export destinations in 2018"
   ]
  },
  {
   "cell_type": "code",
   "execution_count": 22,
   "metadata": {},
   "outputs": [
    {
     "name": "stdout",
     "output_type": "stream",
     "text": [
      "+-----------+--------------------+----------+\n",
      "|PARTNER_ISO|        PARTNER_NAME|EXPORTS_BN|\n",
      "+-----------+--------------------+----------+\n",
      "|         US|United States of ...|114.480834|\n",
      "|         FR|              France|105.137964|\n",
      "|         CN|               China| 93.680048|\n",
      "|         NL|         Netherlands| 84.295506|\n",
      "|         GB|      United Kingdom| 81.773771|\n",
      "|         IT|               Italy| 69.716666|\n",
      "|         AT|             Austria| 63.726222|\n",
      "|         PL|              Poland| 63.290483|\n",
      "|         CH|         Switzerland| 53.626724|\n",
      "|         BE|             Belgium| 44.238112|\n",
      "+-----------+--------------------+----------+\n",
      "only showing top 10 rows\n",
      "\n"
     ]
    }
   ],
   "source": [
    "query = \"\"\"\n",
    "    select\n",
    "        PARTNER_ISO,\n",
    "        PARTNER_NAME,\n",
    "        sum(EXPORTS/1e9) as EXPORTS_BN\n",
    "    from flows \n",
    "    join partners on partners.PARTNER = flows.PARTNER\n",
    "    where \n",
    "        REPORTER_ISO = 'DE' and\n",
    "        YEAR = 2018 \n",
    "    group by\n",
    "        PARTNER_ISO,\n",
    "        PARTNER_NAME\n",
    "    order by EXPORTS_BN desc\n",
    "\"\"\"\n",
    "sqlc.sql(query).show(10)"
   ]
  },
  {
   "cell_type": "markdown",
   "metadata": {},
   "source": [
    "### Top 10 countries with the highest trade deficit with Germany in 2018"
   ]
  },
  {
   "cell_type": "code",
   "execution_count": 23,
   "metadata": {},
   "outputs": [
    {
     "name": "stdout",
     "output_type": "stream",
     "text": [
      "+-----------+--------------------+----------+----------+----------+\n",
      "|PARTNER_ISO|        PARTNER_NAME|EXPORTS_BN|IMPORTS_BN|BALANCE_BN|\n",
      "+-----------+--------------------+----------+----------+----------+\n",
      "|         US|United States of ...|114.480834| 48.559429| 65.921338|\n",
      "|         GB|      United Kingdom| 81.773771| 40.509202| 41.264567|\n",
      "|         FR|              France|105.137964| 69.173274| 35.964740|\n",
      "|         CN|               China| 93.680048| 75.466817| 18.213171|\n",
      "|         AT|             Austria| 63.726222| 45.955059| 17.771104|\n",
      "|         ES|               Spain| 44.191083| 32.897243| 11.293842|\n",
      "|         CH|         Switzerland| 53.626724| 42.857159| 10.769528|\n",
      "|         SE|              Sweden| 26.219577| 15.966888| 10.252658|\n",
      "|         IT|               Italy| 69.716666| 60.399467|  9.317248|\n",
      "|         KR| Korea (Republic of)| 17.774181|  9.191087|  8.583074|\n",
      "|         AU|           Australia| 10.090758|  1.718844|  8.371927|\n",
      "|         MX|              Mexico| 13.986662|  6.596369|  7.390323|\n",
      "|         AE|United Arab Emirates|  8.242698|  1.097420|  7.145232|\n",
      "|         CA|              Canada| 10.257298|  3.926883|  6.330395|\n",
      "|         TR|              Turkey| 19.647851| 13.954839|  5.693026|\n",
      "|         IN|               India| 12.502497|  7.088233|  5.414211|\n",
      "|         DK|             Denmark| 19.988692| 14.645903|  5.342741|\n",
      "|         SA|        Saudi Arabia|  6.228817|  0.888422|  5.340416|\n",
      "|         HK|           Hong Kong|  6.050518|  1.465019|  4.585502|\n",
      "|         BR|              Brazil|  9.449423|  4.938916|  4.510523|\n",
      "+-----------+--------------------+----------+----------+----------+\n",
      "only showing top 20 rows\n",
      "\n"
     ]
    }
   ],
   "source": [
    "query = \"\"\"\n",
    "    select\n",
    "        PARTNER_ISO,\n",
    "        PARTNER_NAME,\n",
    "        sum(EXPORTS/1e9) as EXPORTS_BN,\n",
    "        sum(IMPORTS/1e9) as IMPORTS_BN,\n",
    "        (sum(EXPORTS) - sum(IMPORTS))/1e9 as BALANCE_BN \n",
    "    from flows \n",
    "    join partners on partners.PARTNER = flows.PARTNER\n",
    "    where \n",
    "        REPORTER_ISO = 'DE' and\n",
    "        YEAR = 2018 \n",
    "    group by\n",
    "        PARTNER_ISO,\n",
    "        PARTNER_NAME\n",
    "    order by BALANCE_BN desc\n",
    "\"\"\"\n",
    "sqlc.sql(query).show(20)"
   ]
  },
  {
   "cell_type": "markdown",
   "metadata": {},
   "source": [
    "### EU exports, imports, trade balance"
   ]
  },
  {
   "cell_type": "code",
   "execution_count": 24,
   "metadata": {},
   "outputs": [
    {
     "name": "stdout",
     "output_type": "stream",
     "text": [
      "+-----------+-----------+----------+\n",
      "| EXPORTS_BN| IMPORTS_BN|BALANCE_BN|\n",
      "+-----------+-----------+----------+\n",
      "|1956.318791|1979.205124|-22.875961|\n",
      "+-----------+-----------+----------+\n",
      "\n"
     ]
    }
   ],
   "source": [
    "query = \"\"\"\n",
    "    select\n",
    "        sum(EXPORTS/1e9) as EXPORTS_BN,\n",
    "        sum(IMPORTS/1e9) as IMPORTS_BN,\n",
    "        (sum(EXPORTS) - sum(IMPORTS))/1e9 as BALANCE_BN \n",
    "    from flows \n",
    "    where \n",
    "        TRADE_TYPE = 'E' and\n",
    "        YEAR = 2018 \n",
    "\"\"\"\n",
    "sqlc.sql(query).show()"
   ]
  },
  {
   "cell_type": "markdown",
   "metadata": {},
   "source": [
    "### Top trade partners per reporter in 2018, ranked by total exports "
   ]
  },
  {
   "cell_type": "code",
   "execution_count": 25,
   "metadata": {},
   "outputs": [],
   "source": [
    "# TO BE DONE"
   ]
  },
  {
   "cell_type": "markdown",
   "metadata": {},
   "source": [
    "### Exports from Argentina to Germany in 2018 by product category (CN8)"
   ]
  },
  {
   "cell_type": "code",
   "execution_count": 26,
   "metadata": {},
   "outputs": [
    {
     "name": "stdout",
     "output_type": "stream",
     "text": [
      "+----------+--------------------+----------+\n",
      "|PRODUCT_NC|     PRODUCT_NC_NAME|IMPORTS_MN|\n",
      "+----------+--------------------+----------+\n",
      "|  26030000|COPPER ORES AND C...|198.439966|\n",
      "|  02013000|FRESH OR CHILLED ...|194.604795|\n",
      "|  29371900|POLYPEPTIDE HORMO...| 85.198660|\n",
      "|  51052900|WOOL, COMBED (EXC...| 46.657958|\n",
      "|  23040000|OILCAKE AND OTHER...| 34.440129|\n",
      "|  04090000|       NATURAL HONEY| 34.256382|\n",
      "|  87082990|PARTS AND ACCESSO...| 28.150679|\n",
      "|  71069100|SILVER, INCL. SIL...| 27.794690|\n",
      "|  23080040|ACORNS AND HORSE-...| 21.072345|\n",
      "|  38231990|FATTY ACIDS, INDU...| 19.457899|\n",
      "+----------+--------------------+----------+\n",
      "only showing top 10 rows\n",
      "\n"
     ]
    }
   ],
   "source": [
    "query = \"\"\"\n",
    "    select\n",
    "        flows.PRODUCT_NC,\n",
    "        PRODUCT_NC_NAME,\n",
    "        sum(IMPORTS/1e6) as IMPORTS_MN\n",
    "    from flows\n",
    "    join products on products.PRODUCT_NC = flows.PRODUCT_NC\n",
    "    where \n",
    "        YEAR = 2018 and\n",
    "        REPORTER_ISO = 'DE' and\n",
    "        PARTNER_ISO = 'AR'\n",
    "    group by\n",
    "        flows.PRODUCT_NC,\n",
    "        PRODUCT_NC_NAME\n",
    "    order by IMPORTS_MN desc\n",
    "\"\"\"\n",
    "sqlc.sql(query).show(10)"
   ]
  },
  {
   "cell_type": "markdown",
   "metadata": {},
   "source": [
    "### Exports from Argentina to Germany in 2018 by product category (HS2)"
   ]
  },
  {
   "cell_type": "code",
   "execution_count": 27,
   "metadata": {},
   "outputs": [
    {
     "name": "stdout",
     "output_type": "stream",
     "text": [
      "+---+--------------------+----------+\n",
      "|HS2|     PRODUCT_NC_NAME|IMPORTS_MN|\n",
      "+---+--------------------+----------+\n",
      "| 26|  ORES, SLAG AND ASH|217.186164|\n",
      "| 02|MEAT AND EDIBLE M...|198.467026|\n",
      "| 87|VEHICLES OTHER TH...| 96.472690|\n",
      "| 29|   ORGANIC CHEMICALS| 87.133348|\n",
      "| 23|RESIDUES AND WAST...| 55.514820|\n",
      "| 51|WOOL, FINE OR COA...| 48.437369|\n",
      "| 22|BEVERAGES, SPIRIT...| 39.100959|\n",
      "| 04|DAIRY PRODUCE; BI...| 34.256823|\n",
      "| 84|NUCLEAR REACTORS,...| 34.110421|\n",
      "| 71|NATURAL OR CULTUR...| 29.720306|\n",
      "+---+--------------------+----------+\n",
      "only showing top 10 rows\n",
      "\n"
     ]
    }
   ],
   "source": [
    "query = \"\"\"\n",
    "    select\n",
    "        PX1.HS2,\n",
    "        PX2.PRODUCT_NC_NAME,\n",
    "        sum(IMPORTS/1e6) as IMPORTS_MN\n",
    "    from flows as FX\n",
    "    join products as PX1 on PX1.PRODUCT_NC = FX.PRODUCT_NC\n",
    "    join products as PX2 on PX1.HS2 = PX2.PRODUCT_NC\n",
    "\n",
    "    where \n",
    "        YEAR = 2018 and\n",
    "        REPORTER_ISO = 'DE' and\n",
    "        PARTNER_ISO = 'AR'\n",
    "    group by\n",
    "        PX1.HS2,\n",
    "        PX2.PRODUCT_NC_NAME\n",
    "\n",
    "    order by IMPORTS_MN desc\n",
    "\"\"\"\n",
    "sqlc.sql(query).show(10, truncate=True)"
   ]
  },
  {
   "cell_type": "markdown",
   "metadata": {},
   "source": [
    "### Exports from Argentina to the EU in 2018 larger than 80 mn by product category (CN8)"
   ]
  },
  {
   "cell_type": "code",
   "execution_count": 28,
   "metadata": {},
   "outputs": [],
   "source": [
    "# TO BE DONE"
   ]
  },
  {
   "cell_type": "markdown",
   "metadata": {},
   "source": [
    "### Monthly imports into to the EU by partner"
   ]
  },
  {
   "cell_type": "code",
   "execution_count": 29,
   "metadata": {},
   "outputs": [],
   "source": [
    "# TO BE DONE"
   ]
  },
  {
   "cell_type": "markdown",
   "metadata": {},
   "source": [
    "### Finding trade volumnes based on product descriptions"
   ]
  },
  {
   "cell_type": "code",
   "execution_count": 30,
   "metadata": {},
   "outputs": [],
   "source": [
    "# TO BE DONE"
   ]
  }
 ],
 "metadata": {
  "kernelspec": {
   "display_name": "Python 3",
   "language": "python",
   "name": "python3"
  },
  "language_info": {
   "codemirror_mode": {
    "name": "ipython",
    "version": 3
   },
   "file_extension": ".py",
   "mimetype": "text/x-python",
   "name": "python",
   "nbconvert_exporter": "python",
   "pygments_lexer": "ipython3",
   "version": "3.7.6"
  }
 },
 "nbformat": 4,
 "nbformat_minor": 2
}
