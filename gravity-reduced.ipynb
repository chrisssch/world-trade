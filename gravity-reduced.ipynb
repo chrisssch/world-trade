{
 "cells": [
  {
   "cell_type": "markdown",
   "metadata": {},
   "source": [
    "# Estimating the gravity equation\n",
    "\n",
    "\n",
    "### Table of Contents\n",
    "\n",
    "* Initialize and configure Spark\n",
    "* Load and prepare data\n",
    "    * Distances\n",
    "    * Geography\n",
    "    * GDP\n",
    "    * Trade flows\n",
    "* Combine everything into one dataset\n",
    "* Estimate gravity equation"
   ]
  },
  {
   "cell_type": "code",
   "execution_count": 1,
   "metadata": {},
   "outputs": [],
   "source": [
    "# Initialization and configuration\n",
    "import findspark\n",
    "findspark.init()\n",
    "\n",
    "from pyspark import SparkConf, SparkContext, SQLContext\n",
    "from pyspark.sql import SparkSession\n",
    "\n",
    "# Spark\n",
    "from pyspark.sql.types import *\n",
    "import pyspark.sql.functions as F"
   ]
  },
  {
   "cell_type": "markdown",
   "metadata": {},
   "source": [
    "## Initialize and configure Spark\n",
    "\n",
    "http://localhost:4040/"
   ]
  },
  {
   "cell_type": "code",
   "execution_count": 2,
   "metadata": {},
   "outputs": [],
   "source": [
    "# Configuration\n",
    "conf = SparkConf().setAppName(\"Gravity\").setMaster(\"local[4]\")\n",
    "conf.set(\"spark.driver.maxResultSize\", \"2g\")\n",
    "conf.set(\"spark.driver.memory\", \"2g\")\n",
    "conf.set(\"spark.executor.memory\", \"2g\") \n",
    "conf.set(\"spark.executor.pyspark.memory\", \"2g\")\n",
    "\n",
    "# Initialization\n",
    "sc = SparkContext(conf=conf)\n",
    "sqlc = SQLContext(sc)\n",
    "spark = SparkSession(sc)"
   ]
  },
  {
   "cell_type": "markdown",
   "metadata": {},
   "source": [
    "## Load and prepare data"
   ]
  },
  {
   "cell_type": "code",
   "execution_count": 3,
   "metadata": {},
   "outputs": [],
   "source": [
    "# Function for renaming several columns at once\n",
    "# from https://stackoverflow.com/questions/38798567/pyspark-rename-more-than-one-column-using-withcolumnrenamed/48095327\n",
    "def rename_columns(df, columns):\n",
    "    for old_name, new_name in columns.items():\n",
    "        df = df.withColumnRenamed(old_name, new_name)\n",
    "    return df"
   ]
  },
  {
   "cell_type": "markdown",
   "metadata": {},
   "source": [
    "### Flows"
   ]
  },
  {
   "cell_type": "code",
   "execution_count": 113,
   "metadata": {},
   "outputs": [],
   "source": [
    "flows = spark.read.parquet(\"data/parquet/full2018.parquet\")\n",
    "\n",
    "flows = flows.withColumn(\"YEAR\", flows[\"PERIOD\"].substr(1, 4).cast(IntegerType()))\n",
    "flows = flows \\\n",
    "    .select(\"REPORTER_ISO\", \"PARTNER_ISO\", \"PRODUCT_NC\", \"FLOW\", \"YEAR\", \"VALUE_IN_EUROS\") \\\n",
    "    .filter(flows[\"YEAR\"] == 2018) \\\n",
    "    .filter(flows[\"PRODUCT_NC\"] != \"TOTAL\") \\\n",
    "    .groupBy(\"REPORTER_ISO\", \"PARTNER_ISO\", \"FLOW\", \"YEAR\").agg({\"VALUE_IN_EUROS\": \"sum\"}) \\\n",
    "    .groupBy(\"REPORTER_ISO\", \"PARTNER_ISO\", \"YEAR\").pivot(\"FLOW\", [1, 2]).sum(\"sum(VALUE_IN_EUROS)\") \\\n",
    "    .withColumnRenamed(\"1\", \"IMPORTS\").withColumnRenamed(\"2\", \"EXPORTS\")\n",
    "\n",
    "flows = flows \\\n",
    "    .fillna({\"IMPORTS\": 0, \"EXPORTS\": 0})\n",
    "flows = flows \\\n",
    "    .withColumn(\"TRADE\", flows[\"IMPORTS\"] + flows[\"EXPORTS\"]) \\\n",
    "    .cache()"
   ]
  },
  {
   "cell_type": "code",
   "execution_count": 115,
   "metadata": {},
   "outputs": [
    {
     "name": "stdout",
     "output_type": "stream",
     "text": [
      "root\n",
      " |-- REPORTER_ISO: string (nullable = true)\n",
      " |-- PARTNER_ISO: string (nullable = true)\n",
      " |-- YEAR: integer (nullable = true)\n",
      " |-- IMPORTS: long (nullable = false)\n",
      " |-- EXPORTS: long (nullable = false)\n",
      " |-- TRADE: long (nullable = false)\n",
      "\n"
     ]
    }
   ],
   "source": [
    "flows.printSchema()"
   ]
  },
  {
   "cell_type": "code",
   "execution_count": 118,
   "metadata": {},
   "outputs": [
    {
     "data": {
      "text/plain": [
       "6274"
      ]
     },
     "execution_count": 118,
     "metadata": {},
     "output_type": "execute_result"
    }
   ],
   "source": [
    "flows.count()"
   ]
  },
  {
   "cell_type": "code",
   "execution_count": 116,
   "metadata": {},
   "outputs": [
    {
     "name": "stdout",
     "output_type": "stream",
     "text": [
      "+------------+-----------+----+----------+----------+----------+\n",
      "|REPORTER_ISO|PARTNER_ISO|YEAR|   IMPORTS|   EXPORTS|     TRADE|\n",
      "+------------+-----------+----+----------+----------+----------+\n",
      "|          NL|         QW|2018|3185020237|1535657158|4720677395|\n",
      "|          PT|         XK|2018|      3839|   1164953|   1168792|\n",
      "|          ES|         CR|2018| 207058853| 212704580| 419763433|\n",
      "|          IT|         BH|2018| 282682377| 267854643| 550537020|\n",
      "|          GR|         DJ|2018|      8321|    889926|    898247|\n",
      "+------------+-----------+----+----------+----------+----------+\n",
      "only showing top 5 rows\n",
      "\n"
     ]
    }
   ],
   "source": [
    "flows.show(5)"
   ]
  },
  {
   "cell_type": "markdown",
   "metadata": {},
   "source": [
    "### Distances\n",
    "\n",
    "http://www.cepii.fr/CEPII/en/bdd_modele/presentation.asp?id=6\n",
    "\n",
    "\n",
    "* meaning of other distance measures? distw, distwces?\n",
    "* meaning of comcol, curcol, col45, smctry, etc?\n",
    "* common currency?\n",
    "\n",
    "* iso_o: 3d iso code of \"origin\"\n",
    "* iso_d: 3d iso code of \"destination\"\n",
    "* contig: contiguous border\n",
    "* comlang_off: common official language\n",
    "* dist: distance"
   ]
  },
  {
   "cell_type": "code",
   "execution_count": 119,
   "metadata": {},
   "outputs": [],
   "source": [
    "distances = spark.read.csv(\"data/dist_cepii.csv\", sep=\";\", header=True, inferSchema=True) \\\n",
    "    .select(\"iso_o\", \"iso_d\", \"contig\", \"comlang_off\", \"dist\")"
   ]
  },
  {
   "cell_type": "code",
   "execution_count": 120,
   "metadata": {},
   "outputs": [
    {
     "name": "stdout",
     "output_type": "stream",
     "text": [
      "root\n",
      " |-- iso_o: string (nullable = true)\n",
      " |-- iso_d: string (nullable = true)\n",
      " |-- contig: integer (nullable = true)\n",
      " |-- comlang_off: integer (nullable = true)\n",
      " |-- dist: double (nullable = true)\n",
      "\n"
     ]
    }
   ],
   "source": [
    "distances.printSchema()"
   ]
  },
  {
   "cell_type": "code",
   "execution_count": 121,
   "metadata": {},
   "outputs": [
    {
     "data": {
      "text/plain": [
       "50176"
      ]
     },
     "execution_count": 121,
     "metadata": {},
     "output_type": "execute_result"
    }
   ],
   "source": [
    "distances.count()"
   ]
  },
  {
   "cell_type": "code",
   "execution_count": 122,
   "metadata": {
    "scrolled": true
   },
   "outputs": [
    {
     "name": "stdout",
     "output_type": "stream",
     "text": [
      "+-----+-----+------+-----------+--------+\n",
      "|iso_o|iso_d|contig|comlang_off|    dist|\n",
      "+-----+-----+------+-----------+--------+\n",
      "|  ABW|  ABW|     0|          0|5.225315|\n",
      "|  ABW|  AFG|     0|          0|13257.81|\n",
      "|  ABW|  AGO|     0|          0|9516.913|\n",
      "|  ABW|  AIA|     0|          0|983.2682|\n",
      "|  ABW|  ALB|     0|          0|9091.742|\n",
      "+-----+-----+------+-----------+--------+\n",
      "only showing top 5 rows\n",
      "\n"
     ]
    }
   ],
   "source": [
    "distances.show(5)"
   ]
  },
  {
   "cell_type": "markdown",
   "metadata": {},
   "source": [
    "### Geographies\n",
    "\n",
    "* http://www.cepii.fr/CEPII/en/bdd_modele/presentation.asp?id=6\n",
    "* .filter(geographies[\"maincity\"] == 1)   # removes rows where there is a capital and a main city\n"
   ]
  },
  {
   "cell_type": "code",
   "execution_count": 123,
   "metadata": {},
   "outputs": [],
   "source": [
    "geographies = spark.read.csv(\"data/geo_cepii.csv\", sep=\";\", header=True, inferSchema=True) \\\n",
    "    .select(\"iso2\", \"iso3\", \"country\", \"landlocked\", \"maincity\")\n",
    "    \n",
    "geographies = geographies \\\n",
    "    .filter(geographies[\"maincity\"] == 1) \\\n",
    "    .drop(\"maincity\")"
   ]
  },
  {
   "cell_type": "code",
   "execution_count": 124,
   "metadata": {},
   "outputs": [
    {
     "name": "stdout",
     "output_type": "stream",
     "text": [
      "root\n",
      " |-- iso2: string (nullable = true)\n",
      " |-- iso3: string (nullable = true)\n",
      " |-- country: string (nullable = true)\n",
      " |-- landlocked: integer (nullable = true)\n",
      "\n"
     ]
    }
   ],
   "source": [
    "geographies.printSchema()"
   ]
  },
  {
   "cell_type": "code",
   "execution_count": 125,
   "metadata": {},
   "outputs": [
    {
     "data": {
      "text/plain": [
       "225"
      ]
     },
     "execution_count": 125,
     "metadata": {},
     "output_type": "execute_result"
    }
   ],
   "source": [
    "geographies.count()"
   ]
  },
  {
   "cell_type": "code",
   "execution_count": 126,
   "metadata": {},
   "outputs": [
    {
     "name": "stdout",
     "output_type": "stream",
     "text": [
      "+----+----+-----------+----------+\n",
      "|iso2|iso3|    country|landlocked|\n",
      "+----+----+-----------+----------+\n",
      "|  AW| ABW|      Aruba|         0|\n",
      "|  AF| AFG|Afghanistan|         1|\n",
      "|  AO| AGO|     Angola|         0|\n",
      "|  AI| AIA|   Anguilla|         0|\n",
      "|  AL| ALB|    Albania|         0|\n",
      "+----+----+-----------+----------+\n",
      "only showing top 5 rows\n",
      "\n"
     ]
    }
   ],
   "source": [
    "geographies.show(5)"
   ]
  },
  {
   "cell_type": "markdown",
   "metadata": {},
   "source": [
    "### GDP\n",
    "\n",
    "* in constant 2010 us dollars\n",
    "* https://databank.worldbank.org/reports.aspx?source=2&series=NY.GDP.MKTP.KD&country=#"
   ]
  },
  {
   "cell_type": "code",
   "execution_count": 127,
   "metadata": {},
   "outputs": [],
   "source": [
    "gdp = spark.read.csv(\"data/worldbank_gdp.csv\", sep=\",\", header=True, inferSchema=True) \\\n",
    "    .select(\"Country Name\", \"Country Code\", \"Time\", \"Value\")"
   ]
  },
  {
   "cell_type": "code",
   "execution_count": 128,
   "metadata": {},
   "outputs": [
    {
     "name": "stdout",
     "output_type": "stream",
     "text": [
      "root\n",
      " |-- Country Name: string (nullable = true)\n",
      " |-- Country Code: string (nullable = true)\n",
      " |-- Time: integer (nullable = true)\n",
      " |-- Value: double (nullable = true)\n",
      "\n"
     ]
    }
   ],
   "source": [
    "gdp.printSchema()"
   ]
  },
  {
   "cell_type": "code",
   "execution_count": 129,
   "metadata": {},
   "outputs": [
    {
     "data": {
      "text/plain": [
       "2645"
      ]
     },
     "execution_count": 129,
     "metadata": {},
     "output_type": "execute_result"
    }
   ],
   "source": [
    "gdp.count()"
   ]
  },
  {
   "cell_type": "code",
   "execution_count": 130,
   "metadata": {},
   "outputs": [
    {
     "name": "stdout",
     "output_type": "stream",
     "text": [
      "+------------+------------+----+-------------------+\n",
      "|Country Name|Country Code|Time|              Value|\n",
      "+------------+------------+----+-------------------+\n",
      "| Afghanistan|         AFG|2009|1.38651943147185E10|\n",
      "| Afghanistan|         AFG|2010|1.58565747314411E10|\n",
      "| Afghanistan|         AFG|2011|1.59241799977914E10|\n",
      "| Afghanistan|         AFG|2012|1.79548771466564E10|\n",
      "| Afghanistan|         AFG|2013|1.89604839698941E10|\n",
      "+------------+------------+----+-------------------+\n",
      "only showing top 5 rows\n",
      "\n"
     ]
    }
   ],
   "source": [
    "gdp.show(5)"
   ]
  },
  {
   "cell_type": "markdown",
   "metadata": {},
   "source": [
    "### Combine dataframes"
   ]
  },
  {
   "cell_type": "code",
   "execution_count": 131,
   "metadata": {},
   "outputs": [],
   "source": [
    "# Flows: REPORTER_ISO, PARTNER_ISO - 2d\n",
    "# Distances: iso_o, iso_d - 3d\n",
    "# gdp: Country Code - 3d\n",
    "# geographies: iso2, iso3"
   ]
  },
  {
   "cell_type": "code",
   "execution_count": 132,
   "metadata": {},
   "outputs": [],
   "source": [
    "# flows\n",
    "df = flows \\\n",
    "    .join(F.broadcast(geographies), flows[\"REPORTER_ISO\"] == geographies[\"iso2\"], how=\"inner\") \\\n",
    "    .withColumnRenamed(\"iso3\", \"REPORTER_ISO_3\") \\\n",
    "    .drop(\"iso2\", \"country\", \"landlocked\") \\\n",
    "    .join(F.broadcast(geographies), flows[\"PARTNER_ISO\"] == geographies[\"iso2\"], how=\"inner\") \\\n",
    "    .withColumnRenamed(\"iso3\", \"PARTNER_ISO_3\") \\\n",
    "    .drop(\"iso2\", \"country\", \"landlocked\") \\\n",
    "\n",
    "# gdp\n",
    "df = df \\\n",
    "    .join(F.broadcast(gdp), (df[\"REPORTER_ISO_3\"] == gdp[\"Country Code\"]) & (df[\"YEAR\"] == gdp[\"Time\"]), how=\"inner\") \\\n",
    "    .drop(\"Country Name\", \"Country Code\", \"Time\") \\\n",
    "    .withColumnRenamed(\"Value\", \"REPORTER_GDP\") \\\n",
    "    .join(F.broadcast(gdp), (df[\"PARTNER_ISO_3\"] == gdp[\"Country Code\"]) & (df[\"YEAR\"] == gdp[\"Time\"]), how=\"inner\") \\\n",
    "    .drop(\"Country Name\", \"Country Code\", \"Time\") \\\n",
    "    .withColumnRenamed(\"Value\", \"PARTNER_GDP\")\n",
    "\n",
    "# distance\n",
    "df = df \\\n",
    "    .join(F.broadcast(distances), (df[\"REPORTER_ISO_3\"] == distances[\"iso_o\"]) & (df[\"PARTNER_ISO_3\"] == distances[\"iso_d\"]), how=\"inner\") \\\n",
    "    .drop(\"iso_o\", \"iso_d\") \\\n",
    "    .withColumnRenamed(\"dist\", \"DISTANCE\")"
   ]
  },
  {
   "cell_type": "code",
   "execution_count": 133,
   "metadata": {},
   "outputs": [
    {
     "name": "stdout",
     "output_type": "stream",
     "text": [
      "+------------+-----------+----+----------+----------+-----------+--------------+-------------+-------------------+-------------------+------+-----------+--------+\n",
      "|REPORTER_ISO|PARTNER_ISO|YEAR|   IMPORTS|   EXPORTS|      TRADE|REPORTER_ISO_3|PARTNER_ISO_3|       REPORTER_GDP|        PARTNER_GDP|contig|comlang_off|DISTANCE|\n",
      "+------------+-----------+----+----------+----------+-----------+--------------+-------------+-------------------+-------------------+------+-----------+--------+\n",
      "|          ES|         CR|2018| 207058853| 212704580|  419763433|           ESP|          CRI|1.54872368448831E12| 4.9457675613131E10|     0|          1|8483.913|\n",
      "|          IT|         BH|2018| 282682377| 267854643|  550537020|           ITA|          BHR|2.13876616980778E12|3.36465609433779E10|     0|          0|3883.804|\n",
      "|          GR|         DJ|2018|      8321|    889926|     898247|           GRC|          DJI|2.52723303555798E11|               null|     0|          0|3516.045|\n",
      "|          SE|         US|2018|3846969912|9051144446|12898114358|           SWE|          USA| 5.8280434216604E11|   1.78442747477E13|     0|          0|6322.853|\n",
      "|          BE|         NR|2018|      7527|      2691|      10218|           BEL|          NRU|5.33218198385386E11| 1.26562188891626E8|     0|          0|14198.66|\n",
      "+------------+-----------+----+----------+----------+-----------+--------------+-------------+-------------------+-------------------+------+-----------+--------+\n",
      "only showing top 5 rows\n",
      "\n"
     ]
    }
   ],
   "source": [
    "df.show(5)"
   ]
  },
  {
   "cell_type": "code",
   "execution_count": 134,
   "metadata": {},
   "outputs": [
    {
     "name": "stdout",
     "output_type": "stream",
     "text": [
      "root\n",
      " |-- REPORTER_ISO: string (nullable = true)\n",
      " |-- PARTNER_ISO: string (nullable = true)\n",
      " |-- YEAR: integer (nullable = true)\n",
      " |-- IMPORTS: long (nullable = false)\n",
      " |-- EXPORTS: long (nullable = false)\n",
      " |-- TRADE: long (nullable = false)\n",
      " |-- REPORTER_ISO_3: string (nullable = true)\n",
      " |-- PARTNER_ISO_3: string (nullable = true)\n",
      " |-- REPORTER_GDP: double (nullable = true)\n",
      " |-- PARTNER_GDP: double (nullable = true)\n",
      " |-- contig: integer (nullable = true)\n",
      " |-- comlang_off: integer (nullable = true)\n",
      " |-- DISTANCE: double (nullable = true)\n",
      "\n"
     ]
    }
   ],
   "source": [
    "df.printSchema()"
   ]
  },
  {
   "cell_type": "code",
   "execution_count": 135,
   "metadata": {},
   "outputs": [
    {
     "data": {
      "text/plain": [
       "5162"
      ]
     },
     "execution_count": 135,
     "metadata": {},
     "output_type": "execute_result"
    }
   ],
   "source": [
    "df.count()"
   ]
  }
 ],
 "metadata": {
  "kernelspec": {
   "display_name": "Python 3",
   "language": "python",
   "name": "python3"
  },
  "language_info": {
   "codemirror_mode": {
    "name": "ipython",
    "version": 3
   },
   "file_extension": ".py",
   "mimetype": "text/x-python",
   "name": "python",
   "nbconvert_exporter": "python",
   "pygments_lexer": "ipython3",
   "version": "3.7.3"
  }
 },
 "nbformat": 4,
 "nbformat_minor": 2
}
