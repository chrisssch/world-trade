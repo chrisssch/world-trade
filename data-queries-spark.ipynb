{
 "cells": [
  {
   "cell_type": "markdown",
   "metadata": {},
   "source": [
    "# World Trade: Queries with Spark\n",
    "\n",
    "## Introduction\n",
    "\n",
    "*TBD*\n",
    "\n",
    "\n",
    "## Table of Contents\n",
    "\n",
    "*TBD*\n",
    "\n",
    "<b> Web UI: </b> http://localhost:4040/"
   ]
  },
  {
   "cell_type": "markdown",
   "metadata": {},
   "source": [
    "## Imports"
   ]
  },
  {
   "cell_type": "code",
   "execution_count": 54,
   "metadata": {},
   "outputs": [],
   "source": [
    "# Initialization and configuration\n",
    "import findspark\n",
    "findspark.init()\n",
    "\n",
    "from pyspark import SparkConf, SparkContext, SQLContext\n",
    "from pyspark.sql import SparkSession\n",
    "\n",
    "# Spark\n",
    "from pyspark.sql.types import *\n",
    "import pyspark.sql.functions as F\n",
    "from pyspark.sql.window import Window\n",
    "\n",
    "# Python\n",
    "import numpy as np\n",
    "import pandas as pd\n",
    "import matplotlib.pyplot as plt\n",
    "plt.style.use(\"seaborn-whitegrid\")"
   ]
  },
  {
   "cell_type": "markdown",
   "metadata": {},
   "source": [
    "## Initialize and configure Spark"
   ]
  },
  {
   "cell_type": "code",
   "execution_count": 2,
   "metadata": {},
   "outputs": [],
   "source": [
    "# Configuration\n",
    "conf = SparkConf().setAppName(\"WorldTrade\").setMaster(\"local[4]\")\n",
    "conf.set(\"spark.driver.maxResultSize\", \"2g\")\n",
    "conf.set(\"spark.driver.memory\", \"2g\")\n",
    "conf.set(\"spark.executor.memory\", \"2g\") \n",
    "conf.set(\"spark.executor.pyspark.memory\", \"2g\")\n",
    "\n",
    "# Initialization\n",
    "sc = SparkContext(conf=conf)\n",
    "sqlc = SQLContext(sc)\n",
    "spark = SparkSession(sc)"
   ]
  },
  {
   "cell_type": "markdown",
   "metadata": {},
   "source": []
  },
  {
   "cell_type": "markdown",
   "metadata": {},
   "source": [
    "## Load and prepare data\n",
    "\n",
    "* Fact tables: `flows`\n",
    "* Dimension tables: `reporters`, `partners`, `products`\n",
    "\n",
    "### Flows (year 2018, months aggregated to years)\n",
    "\n",
    "* The generated DataFrame is cached to speed up subsequent queries building up on this dataset"
   ]
  },
  {
   "cell_type": "code",
   "execution_count": 3,
   "metadata": {},
   "outputs": [],
   "source": [
    "flows = spark.read.parquet(\"data/parquet/*\")\n",
    "\n",
    "flows = flows.withColumn(\"YEAR\", flows[\"PERIOD\"].substr(1, 4).cast(IntegerType()))\n",
    "flows = flows \\\n",
    "    .select(\"REPORTER\", \"REPORTER_ISO\", \"PARTNER\", \"PARTNER_ISO\", \"TRADE_TYPE\", \"PRODUCT_NC\", \"FLOW\", \"YEAR\", \"VALUE_IN_EUROS\") \\\n",
    "    .filter(flows[\"YEAR\"] == 2018) \\\n",
    "    .filter(flows[\"PRODUCT_NC\"] != \"TOTAL\") \\\n",
    "    .groupBy(\"YEAR\", \"REPORTER\", \"REPORTER_ISO\", \"PARTNER\", \"PARTNER_ISO\", \"TRADE_TYPE\", \"PRODUCT_NC\", \"FLOW\", \"YEAR\").agg({\"VALUE_IN_EUROS\": \"sum\"}) \\\n",
    "    .groupBy(\"YEAR\", \"REPORTER\", \"REPORTER_ISO\", \"PARTNER\", \"PARTNER_ISO\", \"TRADE_TYPE\", \"PRODUCT_NC\", \"YEAR\").pivot(\"FLOW\", [1, 2]).sum(\"sum(VALUE_IN_EUROS)\") \\\n",
    "    .withColumnRenamed(\"1\", \"IMPORTS\").withColumnRenamed(\"2\", \"EXPORTS\") \\\n",
    "    .cache()"
   ]
  },
  {
   "cell_type": "code",
   "execution_count": 4,
   "metadata": {},
   "outputs": [
    {
     "name": "stdout",
     "output_type": "stream",
     "text": [
      "root\n",
      " |-- YEAR: integer (nullable = true)\n",
      " |-- REPORTER: integer (nullable = true)\n",
      " |-- REPORTER_ISO: string (nullable = true)\n",
      " |-- PARTNER: integer (nullable = true)\n",
      " |-- PARTNER_ISO: string (nullable = true)\n",
      " |-- TRADE_TYPE: string (nullable = true)\n",
      " |-- PRODUCT_NC: string (nullable = true)\n",
      " |-- YEAR: integer (nullable = true)\n",
      " |-- IMPORTS: long (nullable = true)\n",
      " |-- EXPORTS: long (nullable = true)\n",
      "\n"
     ]
    }
   ],
   "source": [
    "flows.printSchema()"
   ]
  },
  {
   "cell_type": "code",
   "execution_count": 5,
   "metadata": {},
   "outputs": [
    {
     "data": {
      "text/plain": [
       "200"
      ]
     },
     "execution_count": 5,
     "metadata": {},
     "output_type": "execute_result"
    }
   ],
   "source": [
    "flows.rdd.getNumPartitions()"
   ]
  },
  {
   "cell_type": "code",
   "execution_count": 6,
   "metadata": {},
   "outputs": [
    {
     "data": {
      "text/plain": [
       "6787984"
      ]
     },
     "execution_count": 6,
     "metadata": {},
     "output_type": "execute_result"
    }
   ],
   "source": [
    "flows.count()"
   ]
  },
  {
   "cell_type": "code",
   "execution_count": 7,
   "metadata": {},
   "outputs": [
    {
     "name": "stdout",
     "output_type": "stream",
     "text": [
      "+----+--------+------------+-------+-----------+----------+----------+----+-------+-------+\n",
      "|YEAR|REPORTER|REPORTER_ISO|PARTNER|PARTNER_ISO|TRADE_TYPE|PRODUCT_NC|YEAR|IMPORTS|EXPORTS|\n",
      "+----+--------+------------+-------+-----------+----------+----------+----+-------+-------+\n",
      "|2018|       1|          FR|      3|         NL|         I|  94051091|2018|1534458| 573191|\n",
      "|2018|       1|          FR|      7|         IE|         I|  25223000|2018|   null| 213320|\n",
      "|2018|       1|          FR|      9|         GR|         I|  10051015|2018| 342378|9670677|\n",
      "|2018|       1|          FR|     30|         SE|         I|  61142000|2018|  10248| 199622|\n",
      "|2018|       1|          FR|     54|         LV|         I|  39119019|2018|   2005|  28602|\n",
      "|2018|       1|          FR|     55|         LT|         I|  87037000|2018|   null|   3781|\n",
      "|2018|       1|          FR|    212|         TN|         E|  70071190|2018|   6476|   7426|\n",
      "|2018|       1|          FR|    248|         SN|         E|  16041390|2018|   null|   4169|\n",
      "|2018|       1|          FR|    400|         US|         E|  03069990|2018|  22231| 100366|\n",
      "|2018|       1|          FR|    480|         CO|         E|  90275000|2018|    833| 389513|\n",
      "+----+--------+------------+-------+-----------+----------+----------+----+-------+-------+\n",
      "only showing top 10 rows\n",
      "\n"
     ]
    }
   ],
   "source": [
    "flows.show(10)"
   ]
  },
  {
   "cell_type": "code",
   "execution_count": 8,
   "metadata": {},
   "outputs": [
    {
     "data": {
      "text/plain": [
       "28"
      ]
     },
     "execution_count": 8,
     "metadata": {},
     "output_type": "execute_result"
    }
   ],
   "source": [
    "flows.select(\"REPORTER\").distinct().count()"
   ]
  },
  {
   "cell_type": "code",
   "execution_count": 9,
   "metadata": {},
   "outputs": [
    {
     "data": {
      "text/plain": [
       "246"
      ]
     },
     "execution_count": 9,
     "metadata": {},
     "output_type": "execute_result"
    }
   ],
   "source": [
    "flows.select(\"PARTNER\").distinct().count()"
   ]
  },
  {
   "cell_type": "code",
   "execution_count": 10,
   "metadata": {},
   "outputs": [
    {
     "data": {
      "text/plain": [
       "9965"
      ]
     },
     "execution_count": 10,
     "metadata": {},
     "output_type": "execute_result"
    }
   ],
   "source": [
    "flows.select(\"PRODUCT_NC\").distinct().count()"
   ]
  },
  {
   "cell_type": "markdown",
   "metadata": {},
   "source": [
    "### Reporters"
   ]
  },
  {
   "cell_type": "code",
   "execution_count": 11,
   "metadata": {},
   "outputs": [],
   "source": [
    "schema = StructType([\n",
    "    StructField(\"REPORTER\", IntegerType(), True),\n",
    "    StructField(\"START_DATE\", StringType(), True),\n",
    "    StructField(\"END_DATE\", StringType(), True),\n",
    "    StructField(\"REPORTER_NAME\", StringType(), True),\n",
    "    StructField(\"_c1\", StringType(), True),\n",
    "    StructField(\"_c2\", StringType(), True)\n",
    "])\n",
    "\n",
    "reporters = spark.read.csv(\"data/REPORTERS.txt\", sep=\"\\t\", header=False, schema=schema)\n",
    "reporters = reporters \\\n",
    "    .select(\"REPORTER\", \"REPORTER_NAME\") \\\n",
    "    .withColumn(\"REPORTER_NAME\", F.trim(reporters[\"REPORTER_NAME\"])) \\\n",
    "    .cache()   "
   ]
  },
  {
   "cell_type": "code",
   "execution_count": 12,
   "metadata": {},
   "outputs": [
    {
     "data": {
      "text/plain": [
       "29"
      ]
     },
     "execution_count": 12,
     "metadata": {},
     "output_type": "execute_result"
    }
   ],
   "source": [
    "reporters.count()"
   ]
  },
  {
   "cell_type": "code",
   "execution_count": 13,
   "metadata": {},
   "outputs": [
    {
     "name": "stdout",
     "output_type": "stream",
     "text": [
      "+--------+-------------+\n",
      "|REPORTER|REPORTER_NAME|\n",
      "+--------+-------------+\n",
      "|       1|       France|\n",
      "|       2|  Belg.-Luxbg|\n",
      "|       3|  Netherlands|\n",
      "|       4|   Fr Germany|\n",
      "|       5|        Italy|\n",
      "|       6| Utd. Kingdom|\n",
      "|       7|      Ireland|\n",
      "|       8|      Denmark|\n",
      "|       9|       Greece|\n",
      "|      10|     Portugal|\n",
      "+--------+-------------+\n",
      "only showing top 10 rows\n",
      "\n"
     ]
    }
   ],
   "source": [
    "reporters.show(10)"
   ]
  },
  {
   "cell_type": "markdown",
   "metadata": {},
   "source": [
    "### Partners\n",
    "\n",
    "* `partners.filter(partners[\"END_DATE\"] == \"31/12/2500\")`: Removes countries or territories that don't exist as legal entities anymore"
   ]
  },
  {
   "cell_type": "code",
   "execution_count": 14,
   "metadata": {},
   "outputs": [],
   "source": [
    "schema = StructType([\n",
    "    StructField(\"PARTNER\", IntegerType(), True),\n",
    "    StructField(\"START_DATE\", StringType(), True),\n",
    "    StructField(\"END_DATE\", StringType(), True),\n",
    "    StructField(\"PARTNER_NAME\", StringType(), True),\n",
    "    StructField(\"_c1\", StringType(), True),\n",
    "    StructField(\"_c2\", StringType(), True)\n",
    "])\n",
    "\n",
    "partners = spark.read.csv(\"data/PARTNERS.txt\", sep=\"\\t\", header=False, schema=schema)\n",
    "partners = partners.filter(partners[\"END_DATE\"] == \"31/12/2500\") \\\n",
    "    .withColumn(\"PARTNER_NAME\", F.trim(partners[\"PARTNER_NAME\"])) \\\n",
    "    .select(\"PARTNER\", \"PARTNER_NAME\") \\\n",
    "    .cache()"
   ]
  },
  {
   "cell_type": "code",
   "execution_count": 15,
   "metadata": {},
   "outputs": [
    {
     "data": {
      "text/plain": [
       "249"
      ]
     },
     "execution_count": 15,
     "metadata": {},
     "output_type": "execute_result"
    }
   ],
   "source": [
    "partners.count()"
   ]
  },
  {
   "cell_type": "code",
   "execution_count": 16,
   "metadata": {},
   "outputs": [
    {
     "name": "stdout",
     "output_type": "stream",
     "text": [
      "+-------+--------------+\n",
      "|PARTNER|  PARTNER_NAME|\n",
      "+-------+--------------+\n",
      "|      1|        France|\n",
      "|      3|   Netherlands|\n",
      "|      4|       Germany|\n",
      "|      5|         Italy|\n",
      "|      6|United Kingdom|\n",
      "|      7|       Ireland|\n",
      "|      8|       Denmark|\n",
      "|      9|        Greece|\n",
      "|     10|      Portugal|\n",
      "|     11|         Spain|\n",
      "+-------+--------------+\n",
      "only showing top 10 rows\n",
      "\n"
     ]
    }
   ],
   "source": [
    "partners.show(10)"
   ]
  },
  {
   "cell_type": "markdown",
   "metadata": {},
   "source": [
    "### Product codes (Combined Nomenclature & Harmonized System)\n",
    "\n",
    "* Explanation of the systems for classifying traded products: \n",
    "    * Combined Nomenclature: https://en.wikipedia.org/wiki/Combined_Nomenclature\n",
    "    * Harmonized System: https://en.wikipedia.org/wiki/Harmonized_System"
   ]
  },
  {
   "cell_type": "code",
   "execution_count": 18,
   "metadata": {},
   "outputs": [],
   "source": [
    "schema = StructType([\n",
    "    StructField(\"PRODUCT_NC\", StringType(), True),\n",
    "    StructField(\"START_DATE\", StringType(), True),\n",
    "    StructField(\"END_DATE\", StringType(), True),\n",
    "    StructField(\"_c1\", StringType(), True),\n",
    "    StructField(\"PRODUCT_NC_NAME\", StringType(), True),\n",
    "    StructField(\"_c2\", StringType(), True),\n",
    "    StructField(\"_c3\", StringType(), True)   \n",
    "])\n",
    "\n",
    "products = spark.read.csv(\"data/CN.txt\", sep=\"\\t\", header=False, schema=schema)\n",
    "products = products \\\n",
    "    .select(\"PRODUCT_NC\", \"PRODUCT_NC_NAME\") \\\n",
    "    .withColumn(\"PRODUCT_NC_NAME\", F.trim(products[\"PRODUCT_NC_NAME\"])) \\\n",
    "    .withColumn(\"HS2\", products[\"PRODUCT_NC\"].substr(1, 2)) \\\n",
    "    .cache()"
   ]
  },
  {
   "cell_type": "code",
   "execution_count": 19,
   "metadata": {},
   "outputs": [
    {
     "data": {
      "text/plain": [
       "31154"
      ]
     },
     "execution_count": 19,
     "metadata": {},
     "output_type": "execute_result"
    }
   ],
   "source": [
    "products.count()"
   ]
  },
  {
   "cell_type": "code",
   "execution_count": 20,
   "metadata": {},
   "outputs": [
    {
     "name": "stdout",
     "output_type": "stream",
     "text": [
      "+----------+--------------------+---+\n",
      "|PRODUCT_NC|     PRODUCT_NC_NAME|HS2|\n",
      "+----------+--------------------+---+\n",
      "|        01|        LIVE ANIMALS| 01|\n",
      "|      0101|LIVE HORSES, ASSE...| 01|\n",
      "|    010110|PURE-BRED BREEDIN...| 01|\n",
      "|  01011010|PURE-BRED BREEDIN...| 01|\n",
      "|  01011090|PURE-BRED BREEDIN...| 01|\n",
      "+----------+--------------------+---+\n",
      "only showing top 5 rows\n",
      "\n"
     ]
    }
   ],
   "source": [
    "products.show(5)"
   ]
  },
  {
   "cell_type": "markdown",
   "metadata": {},
   "source": [
    "## Query examples\n",
    "\n",
    "### Total German exports, imports, and trade balance in 2018 in bn"
   ]
  },
  {
   "cell_type": "code",
   "execution_count": 21,
   "metadata": {},
   "outputs": [
    {
     "name": "stdout",
     "output_type": "stream",
     "text": [
      "+--------------+--------------+-------------+\n",
      "|    IMPORTS_BN|    EXPORTS_BN|   BALANCE_BN|\n",
      "+--------------+--------------+-------------+\n",
      "|1088.542025757|1320.837947576|232.295921819|\n",
      "+--------------+--------------+-------------+\n",
      "\n"
     ]
    }
   ],
   "source": [
    "query = flows \\\n",
    "    .filter(flows[\"REPORTER_ISO\"] == \"DE\") \\\n",
    "    .filter(flows[\"YEAR\"] == 2018) \\\n",
    "    .select(\"IMPORTS\", \"EXPORTS\") \\\n",
    "    .agg({\"IMPORTS\": \"sum\", \"EXPORTS\": \"sum\"})\n",
    "query = query \\\n",
    "    .withColumn(\"IMPORTS_BN\", query[\"sum(IMPORTS)\"]/1e9) \\\n",
    "    .withColumn(\"EXPORTS_BN\", query[\"sum(EXPORTS)\"]/1e9) \\\n",
    "    .withColumn(\"BALANCE_BN\", (query[\"sum(Exports)\"] -  query[\"sum(IMPORTS)\"])/1e9) \\\n",
    "    .select(\"IMPORTS_BN\", \"EXPORTS_BN\", \"BALANCE_BN\")\n",
    "\n",
    "query.show()"
   ]
  },
  {
   "cell_type": "markdown",
   "metadata": {},
   "source": [
    "### Top 10 German export destinations in 2018"
   ]
  },
  {
   "cell_type": "code",
   "execution_count": 22,
   "metadata": {},
   "outputs": [
    {
     "name": "stdout",
     "output_type": "stream",
     "text": [
      "+-----------+--------------------+-------------+\n",
      "|PARTNER_ISO|        PARTNER_NAME|   EXPORTS_BN|\n",
      "+-----------+--------------------+-------------+\n",
      "|         US|United States of ...|114.480812071|\n",
      "|         FR|              France|105.138035193|\n",
      "|         CN|               China| 93.680024543|\n",
      "|         NL|         Netherlands| 84.295499168|\n",
      "|         GB|      United Kingdom| 81.773800994|\n",
      "|         IT|               Italy| 69.716726283|\n",
      "|         AT|             Austria| 63.726179308|\n",
      "|         PL|              Poland| 63.290486866|\n",
      "|         CH|         Switzerland| 53.626715897|\n",
      "|         BE|             Belgium| 44.238103706|\n",
      "|         ES|               Spain| 44.191095806|\n",
      "|         CZ|      Czech Republic| 43.866979153|\n",
      "|         SE|              Sweden| 26.219594626|\n",
      "|         HU|             Hungary| 26.171111058|\n",
      "|         RU|              Russia| 25.962639174|\n",
      "|         JP|               Japan| 20.816042712|\n",
      "|         DK|             Denmark| 19.988684314|\n",
      "|         TR|              Turkey| 19.647857859|\n",
      "|         KR| Korea (Republic of)| 17.774154386|\n",
      "|         RO|             Romania| 16.252048949|\n",
      "+-----------+--------------------+-------------+\n",
      "only showing top 20 rows\n",
      "\n"
     ]
    }
   ],
   "source": [
    "query = flows \\\n",
    "    .filter(flows[\"REPORTER_ISO\"] == \"DE\") \\\n",
    "    .filter(flows[\"YEAR\"] == 2018) \\\n",
    "    .groupBy(\"PARTNER\", \"PARTNER_ISO\").agg({\"EXPORTS\": \"sum\"}) \\\n",
    "    .join(F.broadcast(partners), \"PARTNER\", how=\"left\") \\\n",
    "    .select(\"PARTNER_ISO\", \"PARTNER_NAME\", \"sum(EXPORTS)\")\n",
    "\n",
    "query = query \\\n",
    "    .withColumn(\"EXPORTS_BN\", query[\"sum(EXPORTS)\"]/1e9) \\\n",
    "    .select(\"PARTNER_ISO\", \"PARTNER_NAME\", \"EXPORTS_BN\")\n",
    "\n",
    "query.orderBy(query[\"EXPORTS_BN\"].desc()).show()"
   ]
  },
  {
   "cell_type": "markdown",
   "metadata": {},
   "source": [
    "### Top 10 countries with the highest trade deficit with Germany in 2018 in bn"
   ]
  },
  {
   "cell_type": "code",
   "execution_count": 23,
   "metadata": {},
   "outputs": [
    {
     "name": "stdout",
     "output_type": "stream",
     "text": [
      "+-----------+--------------------+-------------+\n",
      "|PARTNER_ISO|        PARTNER_NAME|   EXPORTS_BN|\n",
      "+-----------+--------------------+-------------+\n",
      "|         US|United States of ...|114.480812071|\n",
      "|         FR|              France|105.138035193|\n",
      "|         CN|               China| 93.680024543|\n",
      "|         NL|         Netherlands| 84.295499168|\n",
      "|         GB|      United Kingdom| 81.773800994|\n",
      "|         IT|               Italy| 69.716726283|\n",
      "|         AT|             Austria| 63.726179308|\n",
      "|         PL|              Poland| 63.290486866|\n",
      "|         CH|         Switzerland| 53.626715897|\n",
      "|         BE|             Belgium| 44.238103706|\n",
      "|         ES|               Spain| 44.191095806|\n",
      "|         CZ|      Czech Republic| 43.866979153|\n",
      "|         SE|              Sweden| 26.219594626|\n",
      "|         HU|             Hungary| 26.171111058|\n",
      "|         RU|              Russia| 25.962639174|\n",
      "|         JP|               Japan| 20.816042712|\n",
      "|         DK|             Denmark| 19.988684314|\n",
      "|         TR|              Turkey| 19.647857859|\n",
      "|         KR| Korea (Republic of)| 17.774154386|\n",
      "|         RO|             Romania| 16.252048949|\n",
      "+-----------+--------------------+-------------+\n",
      "only showing top 20 rows\n",
      "\n"
     ]
    }
   ],
   "source": [
    "query = flows \\\n",
    "    .filter(flows[\"REPORTER_ISO\"] == \"DE\") \\\n",
    "    .filter(flows[\"YEAR\"] == 2018) \\\n",
    "    .groupBy(\"PARTNER\", \"PARTNER_ISO\").agg({\"EXPORTS\": \"sum\"}) \\\n",
    "    .join(F.broadcast(partners), \"PARTNER\", how=\"left\") \\\n",
    "    .select(\"PARTNER_ISO\", \"PARTNER_NAME\", \"sum(EXPORTS)\")\n",
    "\n",
    "query = query \\\n",
    "    .withColumn(\"EXPORTS_BN\", query[\"sum(EXPORTS)\"]/1e9) \\\n",
    "    .select(\"PARTNER_ISO\", \"PARTNER_NAME\", \"EXPORTS_BN\")\n",
    "\n",
    "query.orderBy(query[\"EXPORTS_BN\"].desc()).show()"
   ]
  },
  {
   "cell_type": "markdown",
   "metadata": {},
   "source": [
    "### EU exports, imports, trade balance"
   ]
  },
  {
   "cell_type": "code",
   "execution_count": 24,
   "metadata": {},
   "outputs": [
    {
     "name": "stdout",
     "output_type": "stream",
     "text": [
      "+--------------+--------------+-------------+\n",
      "|    IMPORTS_BN|    EXPORTS_BN|   BALANCE_BN|\n",
      "+--------------+--------------+-------------+\n",
      "|1979.238119304|1956.362157891|-22.875961413|\n",
      "+--------------+--------------+-------------+\n",
      "\n"
     ]
    }
   ],
   "source": [
    "query = flows \\\n",
    "    .filter(flows[\"TRADE_TYPE\"] == \"E\") \\\n",
    "    .filter(flows[\"YEAR\"] == 2018) \\\n",
    "    .select(\"IMPORTS\", \"EXPORTS\") \\\n",
    "    .agg({\"IMPORTS\": \"sum\", \"EXPORTS\": \"sum\"})\n",
    "query = query \\\n",
    "    .withColumn(\"IMPORTS_BN\", query[\"sum(IMPORTS)\"]/1e9) \\\n",
    "    .withColumn(\"EXPORTS_BN\", query[\"sum(EXPORTS)\"]/1e9) \\\n",
    "    .withColumn(\"BALANCE_BN\", (query[\"sum(Exports)\"] -  query[\"sum(IMPORTS)\"])/1e9) \\\n",
    "    .select(\"IMPORTS_BN\", \"EXPORTS_BN\", \"BALANCE_BN\")\n",
    "\n",
    "query.show()"
   ]
  },
  {
   "cell_type": "markdown",
   "metadata": {},
   "source": [
    "### Partner by reporter, ranked by exports (example using ranks)"
   ]
  },
  {
   "cell_type": "code",
   "execution_count": 25,
   "metadata": {},
   "outputs": [],
   "source": [
    "query = flows \\\n",
    "    .filter(flows[\"YEAR\"] == 2018) \\\n",
    "    .groupBy(\"REPORTER\", \"REPORTER_ISO\", \"PARTNER\", \"PARTNER_ISO\").agg({\"EXPORTS\": \"sum\"})\n",
    "\n",
    "query = query \\\n",
    "    .withColumn(\"EXPORTS_MN\", query[\"sum(EXPORTS)\"]/1e6) \\\n",
    "    .select(\"REPORTER\", \"REPORTER_ISO\", \"PARTNER\", \"PARTNER_ISO\", \"EXPORTS_MN\")\n",
    "\n",
    "query = query.withColumn(\"RANK\", F.rank().over(\n",
    "        Window.partitionBy(query[\"REPORTER_ISO\"]).orderBy(query[\"EXPORTS_MN\"].desc())\n",
    "    )) \\\n",
    "    .join(F.broadcast(reporters), \"REPORTER\", how=\"left\") \\\n",
    "    .join(F.broadcast(partners), \"PARTNER\", how=\"left\") \\\n",
    "    .select(\"REPORTER_ISO\", \"REPORTER_NAME\", \"PARTNER_ISO\", \"PARTNER_NAME\", \"RANK\", \"EXPORTS_MN\")"
   ]
  },
  {
   "cell_type": "code",
   "execution_count": 26,
   "metadata": {},
   "outputs": [
    {
     "name": "stdout",
     "output_type": "stream",
     "text": [
      "+------------+-------------+-----------+--------------------+----+------------+\n",
      "|REPORTER_ISO|REPORTER_NAME|PARTNER_ISO|        PARTNER_NAME|RANK|  EXPORTS_MN|\n",
      "+------------+-------------+-----------+--------------------+----+------------+\n",
      "|          DK|      Denmark|         DE|             Germany|   1|13729.969159|\n",
      "|          DK|      Denmark|         SE|              Sweden|   2|   9669.9423|\n",
      "|          DK|      Denmark|         QZ|Countries and ter...|   3| 9203.425962|\n",
      "|          DK|      Denmark|         GB|      United Kingdom|   4| 5888.922523|\n",
      "|          DK|      Denmark|         QY|Countries and ter...|   5| 5356.035594|\n",
      "|          DK|      Denmark|         NO|              Norway|   6| 5164.612013|\n",
      "|          DK|      Denmark|         NL|         Netherlands|   7|  4121.74832|\n",
      "|          DK|      Denmark|         US|United States of ...|   8| 3971.658074|\n",
      "|          DK|      Denmark|         FR|              France|   9| 3017.698442|\n",
      "|          DK|      Denmark|         CN|               China|  10| 2661.983877|\n",
      "|          DK|      Denmark|         PL|              Poland|  11| 2568.846072|\n",
      "|          DK|      Denmark|         IT|               Italy|  12| 2163.765999|\n",
      "|          DK|      Denmark|         ES|               Spain|  13| 1761.926458|\n",
      "|          DK|      Denmark|         FI|             Finland|  14| 1742.318024|\n",
      "|          DK|      Denmark|         BE|             Belgium|  15| 1549.155916|\n",
      "|          DK|      Denmark|         JP|               Japan|  16| 1232.051995|\n",
      "|          DK|      Denmark|         AU|           Australia|  17|  810.183493|\n",
      "|          DK|      Denmark|         RU|              Russia|  18|  683.056547|\n",
      "|          DK|      Denmark|         TR|              Turkey|  19|  676.246322|\n",
      "|          DK|      Denmark|         AT|             Austria|  20|  656.427459|\n",
      "+------------+-------------+-----------+--------------------+----+------------+\n",
      "only showing top 20 rows\n",
      "\n"
     ]
    }
   ],
   "source": [
    "# Example: Denmark\n",
    "query.filter(query[\"REPORTER_ISO\"] == \"DK\").orderBy(query[\"RANK\"]).show()"
   ]
  },
  {
   "cell_type": "code",
   "execution_count": 27,
   "metadata": {},
   "outputs": [
    {
     "name": "stdout",
     "output_type": "stream",
     "text": [
      "+------------+-------------+-----------+--------------------+----+------------+\n",
      "|REPORTER_ISO|REPORTER_NAME|PARTNER_ISO|        PARTNER_NAME|RANK|  EXPORTS_MN|\n",
      "+------------+-------------+-----------+--------------------+----+------------+\n",
      "|          NL|  Netherlands|         DE|             Germany|   1|139203.49707|\n",
      "|          NL|  Netherlands|         BE|             Belgium|   2|65860.847258|\n",
      "|          NL|  Netherlands|         FR|              France|   3|50603.713855|\n",
      "|          NL|  Netherlands|         GB|      United Kingdom|   4|48783.012722|\n",
      "|          NL|  Netherlands|         US|United States of ...|   5|26576.845099|\n",
      "|          NL|  Netherlands|         IT|               Italy|   6|23599.327679|\n",
      "|          NL|  Netherlands|         ES|               Spain|   7|18453.018886|\n",
      "|          NL|  Netherlands|         QY|Countries and ter...|   8|16394.810753|\n",
      "|          NL|  Netherlands|         PL|              Poland|   9|14989.288489|\n",
      "|          NL|  Netherlands|         SE|              Sweden|  10|13939.051803|\n",
      "|          NL|  Netherlands|         CN|               China|  11|10669.750254|\n",
      "|          NL|  Netherlands|         CZ|      Czech Republic|  12|10438.342816|\n",
      "|          NL|  Netherlands|         AT|             Austria|  13| 8229.187105|\n",
      "|          NL|  Netherlands|         DK|             Denmark|  14| 7344.015396|\n",
      "|          NL|  Netherlands|         CH|         Switzerland|  15| 7154.237393|\n",
      "|          NL|  Netherlands|         RU|              Russia|  16| 5887.323395|\n",
      "|          NL|  Netherlands|         TR|              Turkey|  17| 5867.865348|\n",
      "|          NL|  Netherlands|         FI|             Finland|  18| 5841.078941|\n",
      "|          NL|  Netherlands|         SG|           Singapore|  19| 5664.341879|\n",
      "|          NL|  Netherlands|         KR| Korea (Republic of)|  20| 5337.757212|\n",
      "+------------+-------------+-----------+--------------------+----+------------+\n",
      "only showing top 20 rows\n",
      "\n"
     ]
    }
   ],
   "source": [
    "# Example: Netherlands\n",
    "query.filter(query[\"REPORTER_ISO\"] == \"NL\").orderBy(query[\"RANK\"]).show()"
   ]
  },
  {
   "cell_type": "markdown",
   "metadata": {},
   "source": [
    "### Exports from Argentina to Germany (CN8)"
   ]
  },
  {
   "cell_type": "code",
   "execution_count": 30,
   "metadata": {},
   "outputs": [],
   "source": [
    "query = flows \\\n",
    "    .filter(flows[\"YEAR\"] == 2018) \\\n",
    "    .filter(flows[\"REPORTER_ISO\"] == \"DE\") \\\n",
    "    .filter(flows[\"PARTNER_ISO\"] == \"AR\") \\\n",
    "    .groupBy(\"PRODUCT_NC\").agg({\"IMPORTS\": \"sum\"})\n",
    "\n",
    "query = query.withColumn(\"IMPORTS_MN\", query[\"sum(IMPORTS)\"]/1e6) \\\n",
    "    .join(F.broadcast(products), \"PRODUCT_NC\", how=\"left\") \\\n",
    "    .select(\"PRODUCT_NC\", \"PRODUCT_NC_NAME\", \"IMPORTS_MN\")"
   ]
  },
  {
   "cell_type": "code",
   "execution_count": 31,
   "metadata": {},
   "outputs": [
    {
     "name": "stdout",
     "output_type": "stream",
     "text": [
      "+----------+--------------------+----------+\n",
      "|PRODUCT_NC|     PRODUCT_NC_NAME|IMPORTS_MN|\n",
      "+----------+--------------------+----------+\n",
      "|  26030000|COPPER ORES AND C...|198.439966|\n",
      "|  02013000|FRESH OR CHILLED ...|194.604795|\n",
      "|  29371900|POLYPEPTIDE HORMO...|  85.19866|\n",
      "|  51052900|WOOL, COMBED (EXC...| 46.657958|\n",
      "|  23040000|OILCAKE AND OTHER...| 34.440129|\n",
      "|  04090000|       NATURAL HONEY| 34.256382|\n",
      "|  87082990|PARTS AND ACCESSO...| 28.150679|\n",
      "|  71069100|SILVER, INCL. SIL...|  27.79469|\n",
      "|  23080040|ACORNS AND HORSE-...| 21.072345|\n",
      "|  38231990|FATTY ACIDS, INDU...| 19.457899|\n",
      "+----------+--------------------+----------+\n",
      "only showing top 10 rows\n",
      "\n"
     ]
    }
   ],
   "source": [
    "# With truncated descriptions\n",
    "query.orderBy(query[\"IMPORTS_MN\"].desc()).show(10, truncate=True)"
   ]
  },
  {
   "cell_type": "code",
   "execution_count": 32,
   "metadata": {},
   "outputs": [
    {
     "name": "stdout",
     "output_type": "stream",
     "text": [
      "+----------+--------------------------------------------------------------------------------------------------------------------------------------------------------------------------------------------------------------------------------+----------+\n",
      "|PRODUCT_NC|PRODUCT_NC_NAME                                                                                                                                                                                                                 |IMPORTS_MN|\n",
      "+----------+--------------------------------------------------------------------------------------------------------------------------------------------------------------------------------------------------------------------------------+----------+\n",
      "|26030000  |COPPER ORES AND CONCENTRATES                                                                                                                                                                                                    |198.439966|\n",
      "|02013000  |FRESH OR CHILLED BOVINE MEAT, BONELESS                                                                                                                                                                                          |194.604795|\n",
      "|29371900  |POLYPEPTIDE HORMONES, PROTEIN HORMONES AND GLYCOPROTEIN HORMONES, THEIR DERIVATIVES AND STRUCTURAL ANALOGUES, USED PRIMARILY AS HORMONES (EXCL. SOMATROPIN, ITS DERIVATIVES AND STRUCTURAL ANALOGUES, AND INSULIN AND ITS SALTS)|85.19866  |\n",
      "|51052900  |WOOL, COMBED (EXCL. THAT IN FRAGMENTS \"OPEN TOPS\")                                                                                                                                                                              |46.657958 |\n",
      "|23040000  |OILCAKE AND OTHER SOLID RESIDUES, WHETHER OR NOT GROUND OR IN THE FORM OF PELLETS, RESULTING FROM THE EXTRACTION OF SOYA-BEAN OIL                                                                                               |34.440129 |\n",
      "+----------+--------------------------------------------------------------------------------------------------------------------------------------------------------------------------------------------------------------------------------+----------+\n",
      "only showing top 5 rows\n",
      "\n"
     ]
    }
   ],
   "source": [
    "# Without truncated descriptions\n",
    "query.orderBy(query[\"IMPORTS_MN\"].desc()).show(5, truncate=False)"
   ]
  },
  {
   "cell_type": "markdown",
   "metadata": {},
   "source": [
    "### Exports from Argentina to Germany (HS2)"
   ]
  },
  {
   "cell_type": "code",
   "execution_count": 33,
   "metadata": {},
   "outputs": [],
   "source": [
    "query = flows \\\n",
    "    .filter(flows[\"YEAR\"] == 2018) \\\n",
    "    .filter(flows[\"REPORTER_ISO\"] == \"DE\") \\\n",
    "    .filter(flows[\"PARTNER_ISO\"] == \"AR\") \\\n",
    "    .join(F.broadcast(products), \"PRODUCT_NC\", how=\"left\") \\\n",
    "    .groupBy(\"HS2\").agg({\"IMPORTS\": \"sum\"})\n",
    "\n",
    "query = query.withColumn(\"IMPORTS_MN\", query[\"sum(IMPORTS)\"]/1e6) \\\n",
    "    .join(F.broadcast(products), query[\"HS2\"] == products[\"PRODUCT_NC\"], how=\"left\") \\\n",
    "    .select(query[\"HS2\"], \"PRODUCT_NC_NAME\", \"IMPORTS_MN\") \\\n",
    "    .withColumnRenamed(\"PRODUCT_NC_NAME\", \"HS2_NAME\")\n",
    "\n"
   ]
  },
  {
   "cell_type": "code",
   "execution_count": 34,
   "metadata": {},
   "outputs": [
    {
     "name": "stdout",
     "output_type": "stream",
     "text": [
      "+---+--------------------+----------+\n",
      "|HS2|            HS2_NAME|IMPORTS_MN|\n",
      "+---+--------------------+----------+\n",
      "| 26|  ORES, SLAG AND ASH|217.186164|\n",
      "| 02|MEAT AND EDIBLE M...|198.467026|\n",
      "| 87|VEHICLES OTHER TH...|  96.47269|\n",
      "| 29|   ORGANIC CHEMICALS| 87.133348|\n",
      "| 23|RESIDUES AND WAST...|  55.51482|\n",
      "| 51|WOOL, FINE OR COA...| 48.437369|\n",
      "| 22|BEVERAGES, SPIRIT...| 39.100959|\n",
      "| 04|DAIRY PRODUCE; BI...| 34.256823|\n",
      "| 84|NUCLEAR REACTORS,...| 34.110421|\n",
      "| 71|NATURAL OR CULTUR...| 29.720306|\n",
      "+---+--------------------+----------+\n",
      "only showing top 10 rows\n",
      "\n"
     ]
    }
   ],
   "source": [
    "# With truncated descriptions\n",
    "query.orderBy(query[\"IMPORTS_MN\"].desc()).show(10, truncate=True)"
   ]
  },
  {
   "cell_type": "code",
   "execution_count": 35,
   "metadata": {},
   "outputs": [
    {
     "name": "stdout",
     "output_type": "stream",
     "text": [
      "+---+---------------------------------------------------------------------------------------+----------+\n",
      "|HS2|HS2_NAME                                                                               |IMPORTS_MN|\n",
      "+---+---------------------------------------------------------------------------------------+----------+\n",
      "|26 |ORES, SLAG AND ASH                                                                     |217.186164|\n",
      "|02 |MEAT AND EDIBLE MEAT OFFAL                                                             |198.467026|\n",
      "|87 |VEHICLES OTHER THAN RAILWAY OR TRAMWAY ROLLING-STOCK, AND PARTS AND ACCESSORIES THEREOF|96.47269  |\n",
      "|29 |ORGANIC CHEMICALS                                                                      |87.133348 |\n",
      "|23 |RESIDUES AND WASTE FROM THE FOOD INDUSTRIES; PREPARED ANIMAL FODDER                    |55.51482  |\n",
      "+---+---------------------------------------------------------------------------------------+----------+\n",
      "only showing top 5 rows\n",
      "\n"
     ]
    }
   ],
   "source": [
    "# Without truncated descriptions\n",
    "query.orderBy(query[\"IMPORTS_MN\"].desc()).show(5, truncate=False)"
   ]
  },
  {
   "cell_type": "markdown",
   "metadata": {},
   "source": [
    "### Exports from Argentina to the EU >= 80 mn"
   ]
  },
  {
   "cell_type": "code",
   "execution_count": 36,
   "metadata": {},
   "outputs": [
    {
     "name": "stdout",
     "output_type": "stream",
     "text": [
      "+----------+--------------------+-----------+\n",
      "|PRODUCT_NC|     PRODUCT_NC_NAME| IMPORTS_MN|\n",
      "+----------+--------------------+-----------+\n",
      "|  23040000|OILCAKE AND OTHER...|2456.279983|\n",
      "|  38260010|FATTY-ACID MONO-A...|1022.819126|\n",
      "|  03061799|FROZEN SHRIMPS AN...| 503.209086|\n",
      "|  03061799|FROZEN SHRIMPS AN...| 503.209086|\n",
      "|  02013000|FRESH OR CHILLED ...| 428.169037|\n",
      "|  12024200|GROUNDNUTS, SHELL...| 380.903024|\n",
      "|  26030000|COPPER ORES AND C...| 325.235095|\n",
      "|  08055010|FRESH OR DRIED LE...| 233.607123|\n",
      "|  23080090|MAIZE STALKS, MAI...| 208.814835|\n",
      "|  10059000|MAIZE (EXCL. SEED...|  91.025841|\n",
      "|  29371900|POLYPEPTIDE HORMO...|  89.114601|\n",
      "|  23063000|OILCAKE AND OTHER...|  81.148665|\n",
      "+----------+--------------------+-----------+\n",
      "\n"
     ]
    }
   ],
   "source": [
    "query = flows \\\n",
    "    .filter(flows[\"YEAR\"] == 2018) \\\n",
    "    .filter(flows[\"PARTNER_ISO\"] == \"AR\") \\\n",
    "    .groupBy(\"PRODUCT_NC\").agg({\"IMPORTS\": \"sum\"})\n",
    "\n",
    "query = query \\\n",
    "    .filter(query[\"sum(IMPORTS)\"] >= 8e7) \\\n",
    "    .withColumn(\"IMPORTS_MN\", query[\"sum(IMPORTS)\"]/1e6) \\\n",
    "    .join(F.broadcast(products), \"PRODUCT_NC\", how=\"left\") \\\n",
    "    .select(\"PRODUCT_NC\", \"PRODUCT_NC_NAME\", \"IMPORTS_MN\")\n",
    "\n",
    "query.orderBy(query[\"IMPORTS_MN\"].desc()).show(50, truncate=True)"
   ]
  },
  {
   "cell_type": "markdown",
   "metadata": {},
   "source": [
    "### Imports into to the EU by partner and month"
   ]
  },
  {
   "cell_type": "code",
   "execution_count": 38,
   "metadata": {},
   "outputs": [],
   "source": [
    "query = spark.read.parquet(\"data/parquet/*\")\n",
    "\n",
    "query = query \\\n",
    "    .withColumn(\"YEAR\", query[\"PERIOD\"].substr(1, 4).cast(IntegerType())) \\\n",
    "    .withColumn(\"MONTH\", query[\"PERIOD\"].substr(5, 6).cast(IntegerType()))\n",
    "\n",
    "query = query \\\n",
    "    .select(\"PARTNER_ISO\", \"PRODUCT_NC\", \"FLOW\", \"YEAR\", \"MONTH\", \"PERIOD\", \"VALUE_IN_EUROS\") \\\n",
    "    .filter(query[\"FLOW\"] == 1) \\\n",
    "    .filter(query[\"PRODUCT_NC\"] != \"TOTAL\") \\\n",
    "    .groupBy(\"PARTNER_ISO\", \"YEAR\", \"MONTH\", \"PERIOD\").agg({\"VALUE_IN_EUROS\": \"sum\"}) \\\n",
    "    .orderBy(\"PARTNER_ISO\", \"YEAR\", \"MONTH\")\n",
    "\n",
    "query = query \\\n",
    "    .withColumn(\"IMPORTS_MN\", query[\"sum(VALUE_IN_EUROS)\"]/1e6) \\\n",
    "    .drop(\"sum(VALUE_IN_EUROS)\")\n",
    "\n",
    "query = query.cache()"
   ]
  },
  {
   "cell_type": "code",
   "execution_count": 44,
   "metadata": {},
   "outputs": [
    {
     "name": "stdout",
     "output_type": "stream",
     "text": [
      "+-----------+----+-----+------+----------+\n",
      "|PARTNER_ISO|YEAR|MONTH|PERIOD|IMPORTS_MN|\n",
      "+-----------+----+-----+------+----------+\n",
      "|         AR|2001|    1|200101|526.275741|\n",
      "|         AR|2001|    2|200102|399.618699|\n",
      "|         AR|2001|    3|200103|  450.1225|\n",
      "|         AR|2001|    4|200104|423.748846|\n",
      "|         AR|2001|    5|200105|516.926435|\n",
      "|         AR|2001|    6|200106|503.097888|\n",
      "|         AR|2001|    7|200107|515.305453|\n",
      "|         AR|2001|    8|200108|487.202706|\n",
      "|         AR|2001|    9|200109|473.362242|\n",
      "|         AR|2001|   10|200110|512.065982|\n",
      "+-----------+----+-----+------+----------+\n",
      "only showing top 10 rows\n",
      "\n"
     ]
    }
   ],
   "source": [
    "# Example: Monthly imports from Argentina and Chile\n",
    "query.filter(query[\"PARTNER_ISO\"].isin([\"AR\", \"CL\"])).show(10)"
   ]
  },
  {
   "cell_type": "code",
   "execution_count": 58,
   "metadata": {},
   "outputs": [
    {
     "data": {
      "image/png": "[encoded data removed]",
      "text/plain": [
       "<Figure size 1080x360 with 1 Axes>"
      ]
     },
     "metadata": {},
     "output_type": "display_data"
    }
   ],
   "source": [
    "# Convert Spark dataframe to pandas dataframe and reindex using years and months\n",
    "df = query.filter(query[\"PARTNER_ISO\"].isin([\"AR\", \"CL\"])).toPandas()\n",
    "df.index = pd.to_datetime(df[\"PERIOD\"].astype(str), format=\"%Y%m\")\n",
    "\n",
    "# Visualize time series\n",
    "plt.figure(figsize=(15,5))\n",
    "df[df.PARTNER_ISO == \"AR\"][\"IMPORTS_MN\"].rename(\"Argentina\")[\"2004\":\"2018\"].plot()\n",
    "df[df.PARTNER_ISO == \"CL\"][\"IMPORTS_MN\"].rename(\"Chile\")[\"2004\":\"2018\"].plot()\n",
    "plt.xlabel(\"Date\")\n",
    "plt.ylabel(\"Monthly Exports in MN\")\n",
    "plt.legend(frameon=True)\n",
    "plt.show()"
   ]
  },
  {
   "cell_type": "code",
   "execution_count": null,
   "metadata": {},
   "outputs": [],
   "source": []
  }
 ],
 "metadata": {
  "kernelspec": {
   "display_name": "Python 3",
   "language": "python",
   "name": "python3"
  },
  "language_info": {
   "codemirror_mode": {
    "name": "ipython",
    "version": 3
   },
   "file_extension": ".py",
   "mimetype": "text/x-python",
   "name": "python",
   "nbconvert_exporter": "python",
   "pygments_lexer": "ipython3",
   "version": "3.7.5"
  }
 },
 "nbformat": 4,
 "nbformat_minor": 2
}
