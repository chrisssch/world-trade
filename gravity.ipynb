{
 "cells": [
  {
   "cell_type": "markdown",
   "metadata": {},
   "source": [
    "# Estimating the gravity equation\n",
    "\n",
    "\n",
    "### Table of Contents\n",
    "\n",
    "* Initialize and configure Spark\n",
    "* Load and prepare data\n",
    "    * Distances\n",
    "    * Geography\n",
    "    * GDP\n",
    "    * Trade flows\n",
    "* Combine everything into one dataset\n",
    "* Estimate gravity equation"
   ]
  },
  {
   "cell_type": "code",
   "execution_count": 1,
   "metadata": {},
   "outputs": [],
   "source": [
    "# Initialization and configuration\n",
    "import findspark\n",
    "findspark.init()\n",
    "\n",
    "from pyspark import SparkConf, SparkContext, SQLContext\n",
    "from pyspark.sql import SparkSession\n",
    "\n",
    "# Spark\n",
    "from pyspark.sql.types import *\n",
    "import pyspark.sql.functions as F"
   ]
  },
  {
   "cell_type": "markdown",
   "metadata": {},
   "source": [
    "## Initialize and configure Spark\n",
    "\n",
    "http://localhost:4040/"
   ]
  },
  {
   "cell_type": "code",
   "execution_count": 2,
   "metadata": {},
   "outputs": [],
   "source": [
    "# Configuration\n",
    "conf = SparkConf().setAppName(\"Gravity\").setMaster(\"local[4]\")\n",
    "conf.set(\"spark.driver.maxResultSize\", \"2g\")\n",
    "conf.set(\"spark.driver.memory\", \"2g\")\n",
    "conf.set(\"spark.executor.memory\", \"2g\") \n",
    "conf.set(\"spark.executor.pyspark.memory\", \"2g\")\n",
    "\n",
    "# Initialization\n",
    "sc = SparkContext(conf=conf)\n",
    "sqlc = SQLContext(sc)\n",
    "spark = SparkSession(sc)"
   ]
  },
  {
   "cell_type": "markdown",
   "metadata": {},
   "source": [
    "## Load and prepare data"
   ]
  },
  {
   "cell_type": "code",
   "execution_count": 3,
   "metadata": {},
   "outputs": [],
   "source": [
    "# Function for renaming several columns at once\n",
    "# from https://stackoverflow.com/questions/38798567/pyspark-rename-more-than-one-column-using-withcolumnrenamed/48095327\n",
    "def rename_columns(df, columns):\n",
    "    for old_name, new_name in columns.items():\n",
    "        df = df.withColumnRenamed(old_name, new_name)\n",
    "    return df"
   ]
  },
  {
   "cell_type": "markdown",
   "metadata": {},
   "source": [
    "### Distances\n",
    "\n",
    "http://www.cepii.fr/CEPII/en/bdd_modele/presentation.asp?id=6"
   ]
  },
  {
   "cell_type": "code",
   "execution_count": 25,
   "metadata": {},
   "outputs": [],
   "source": [
    "distances = spark.read.csv(\"data/dist_cepii.csv\", sep=\";\", header=True) \\\n",
    "    .select(\"iso_o\", \"iso_d\", \"contig\", \"comlang_off\", \"dist\")\n",
    "\n",
    "# meaning of other distance measures? distw, distwces?\n",
    "# meaning of comcol, curcol, col45, smctry, etc?\n",
    "# common currency?\n",
    "# add common colonizer\n",
    "\n",
    "# iso_o: 3d iso code of \"origin\"\n",
    "# iso_d: 3d iso code of \"destination\"\n",
    "# contig: contiguous border\n",
    "# comlang_off: common official language\n",
    "# dist: distance"
   ]
  },
  {
   "cell_type": "code",
   "execution_count": 27,
   "metadata": {},
   "outputs": [
    {
     "data": {
      "text/plain": [
       "50176"
      ]
     },
     "execution_count": 27,
     "metadata": {},
     "output_type": "execute_result"
    }
   ],
   "source": [
    "distances.count()"
   ]
  },
  {
   "cell_type": "code",
   "execution_count": 26,
   "metadata": {},
   "outputs": [
    {
     "name": "stdout",
     "output_type": "stream",
     "text": [
      "+-----+-----+------+-----------+--------+\n",
      "|iso_o|iso_d|contig|comlang_off|    dist|\n",
      "+-----+-----+------+-----------+--------+\n",
      "|  ABW|  ABW|     0|          0|5,225315|\n",
      "|  ABW|  AFG|     0|          0|13257,81|\n",
      "|  ABW|  AGO|     0|          0|9516,913|\n",
      "|  ABW|  AIA|     0|          0|983,2682|\n",
      "|  ABW|  ALB|     0|          0|9091,742|\n",
      "|  ABW|  AND|     0|          1|7572,788|\n",
      "|  ABW|  ANT|     0|          1|136,3848|\n",
      "|  ABW|  ARE|     0|          0|12735,01|\n",
      "|  ABW|  ARG|     0|          1| 5396,22|\n",
      "|  ABW|  ARM|     0|          0|11107,78|\n",
      "+-----+-----+------+-----------+--------+\n",
      "only showing top 10 rows\n",
      "\n"
     ]
    }
   ],
   "source": [
    "distances.show(10)"
   ]
  },
  {
   "cell_type": "markdown",
   "metadata": {},
   "source": [
    "### Geographies\n",
    "\n",
    "* http://www.cepii.fr/CEPII/en/bdd_modele/presentation.asp?id=6\n",
    "* .filter(geographies[\"maincity\"] == 1)   # removes rows where there is a capital and a main city\n"
   ]
  },
  {
   "cell_type": "code",
   "execution_count": 28,
   "metadata": {},
   "outputs": [],
   "source": [
    "geographies = spark.read.csv(\"data/geo_cepii.csv\", sep=\";\", header=True) \\\n",
    "    .select(\"iso2\", \"iso3\", \"country\", \"landlocked\", \"continent\", \"maincity\")\n",
    "    \n",
    "geographies = geographies \\\n",
    "    .filter(geographies[\"maincity\"] == 1) \\\n",
    "    .drop(\"maincity\")"
   ]
  },
  {
   "cell_type": "code",
   "execution_count": 29,
   "metadata": {},
   "outputs": [
    {
     "data": {
      "text/plain": [
       "225"
      ]
     },
     "execution_count": 29,
     "metadata": {},
     "output_type": "execute_result"
    }
   ],
   "source": [
    "geographies.count()"
   ]
  },
  {
   "cell_type": "code",
   "execution_count": 31,
   "metadata": {},
   "outputs": [
    {
     "data": {
      "text/plain": [
       "225"
      ]
     },
     "execution_count": 31,
     "metadata": {},
     "output_type": "execute_result"
    }
   ],
   "source": [
    "geographies.select(\"iso2\").distinct().count()"
   ]
  },
  {
   "cell_type": "code",
   "execution_count": 32,
   "metadata": {},
   "outputs": [
    {
     "name": "stdout",
     "output_type": "stream",
     "text": [
      "+----+----+--------------------+----------+---------+\n",
      "|iso2|iso3|             country|landlocked|continent|\n",
      "+----+----+--------------------+----------+---------+\n",
      "|  AW| ABW|               Aruba|         0|  America|\n",
      "|  AF| AFG|         Afghanistan|         1|     Asia|\n",
      "|  AO| AGO|              Angola|         0|   Africa|\n",
      "|  AI| AIA|            Anguilla|         0|  America|\n",
      "|  AL| ALB|             Albania|         0|   Europe|\n",
      "|  AD| AND|             Andorra|         0|   Europe|\n",
      "|  AN| ANT| Netherland Antilles|         0|  America|\n",
      "|  AE| ARE|United Arab Emirates|         0|     Asia|\n",
      "|  AR| ARG|           Argentina|         0|  America|\n",
      "|  AM| ARM|             Armenia|         1|     Asia|\n",
      "+----+----+--------------------+----------+---------+\n",
      "only showing top 10 rows\n",
      "\n"
     ]
    }
   ],
   "source": [
    "geographies.show(10)"
   ]
  },
  {
   "cell_type": "code",
   "execution_count": 33,
   "metadata": {},
   "outputs": [],
   "source": [
    "# map iso2 and iso3 codes\n",
    "iso_map = spark.read.csv(\"data/geo_cepii.csv\", sep=\";\", header=True) \\\n",
    "    .select(\"iso2\", \"iso3\").distinct()"
   ]
  },
  {
   "cell_type": "code",
   "execution_count": 34,
   "metadata": {},
   "outputs": [
    {
     "data": {
      "text/plain": [
       "225"
      ]
     },
     "execution_count": 34,
     "metadata": {},
     "output_type": "execute_result"
    }
   ],
   "source": [
    "iso_map.count()"
   ]
  },
  {
   "cell_type": "code",
   "execution_count": 35,
   "metadata": {},
   "outputs": [
    {
     "name": "stdout",
     "output_type": "stream",
     "text": [
      "+----+----+\n",
      "|iso2|iso3|\n",
      "+----+----+\n",
      "|  ZA| ZAF|\n",
      "|  AE| ARE|\n",
      "|  JM| JAM|\n",
      "|  OM| OMN|\n",
      "|  LB| LBN|\n",
      "|  BB| BRB|\n",
      "|  CR| CRI|\n",
      "|  US| USA|\n",
      "|  KG| KGZ|\n",
      "|  SO| SOM|\n",
      "|  ZM| ZMB|\n",
      "|  AR| ARG|\n",
      "|  KI| KIR|\n",
      "|  AL| ALB|\n",
      "|  TJ| TJK|\n",
      "|  GF| GUF|\n",
      "|  MM| MMR|\n",
      "|  MX| MEX|\n",
      "|  SD| SDN|\n",
      "|  LA| LAO|\n",
      "+----+----+\n",
      "only showing top 20 rows\n",
      "\n"
     ]
    }
   ],
   "source": [
    "iso_map.show(20)"
   ]
  },
  {
   "cell_type": "markdown",
   "metadata": {},
   "source": [
    "### GDP\n",
    "\n",
    "in constant 2010 us dollars\n",
    "\n",
    "https://databank.worldbank.org/reports.aspx?source=2&series=NY.GDP.MKTP.KD&country=#"
   ]
  },
  {
   "cell_type": "code",
   "execution_count": 38,
   "metadata": {},
   "outputs": [],
   "source": [
    "gdp = spark.read.csv(\"data/worldbank_gdp.csv\", sep=\",\", header=True) \\\n",
    "    .select(\"Country Name\", \"Country Code\", \"Time\", \"Value\")\n",
    "\n",
    "# Define schema Convert: Time to int and Value to float"
   ]
  },
  {
   "cell_type": "code",
   "execution_count": 39,
   "metadata": {},
   "outputs": [
    {
     "name": "stdout",
     "output_type": "stream",
     "text": [
      "root\n",
      " |-- Country Name: string (nullable = true)\n",
      " |-- Country Code: string (nullable = true)\n",
      " |-- Time: string (nullable = true)\n",
      " |-- Value: string (nullable = true)\n",
      "\n"
     ]
    }
   ],
   "source": [
    "gdp.printSchema()"
   ]
  },
  {
   "cell_type": "code",
   "execution_count": 40,
   "metadata": {},
   "outputs": [
    {
     "data": {
      "text/plain": [
       "2645"
      ]
     },
     "execution_count": 40,
     "metadata": {},
     "output_type": "execute_result"
    }
   ],
   "source": [
    "gdp.count()"
   ]
  },
  {
   "cell_type": "code",
   "execution_count": 41,
   "metadata": {},
   "outputs": [
    {
     "name": "stdout",
     "output_type": "stream",
     "text": [
      "+------------+------------+----+----------------+\n",
      "|Country Name|Country Code|Time|           Value|\n",
      "+------------+------------+----+----------------+\n",
      "| Afghanistan|         AFG|2009|13865194314.7185|\n",
      "| Afghanistan|         AFG|2010|15856574731.4411|\n",
      "| Afghanistan|         AFG|2011|15924179997.7914|\n",
      "| Afghanistan|         AFG|2012|17954877146.6564|\n",
      "| Afghanistan|         AFG|2013|18960483969.8941|\n",
      "| Afghanistan|         AFG|2014|19477070577.8584|\n",
      "| Afghanistan|         AFG|2015|19759744157.4377|\n",
      "| Afghanistan|         AFG|2016|20206376461.4103|\n",
      "| Afghanistan|         AFG|2017|20744935406.0955|\n",
      "| Afghanistan|         AFG|2018| 20958745169.393|\n",
      "+------------+------------+----+----------------+\n",
      "only showing top 10 rows\n",
      "\n"
     ]
    }
   ],
   "source": [
    "gdp.show(10)"
   ]
  },
  {
   "cell_type": "markdown",
   "metadata": {},
   "source": [
    "### Trade flows"
   ]
  },
  {
   "cell_type": "code",
   "execution_count": null,
   "metadata": {},
   "outputs": [],
   "source": [
    "# see below, move up"
   ]
  },
  {
   "cell_type": "markdown",
   "metadata": {},
   "source": [
    "## Combine all dataframes"
   ]
  },
  {
   "cell_type": "markdown",
   "metadata": {},
   "source": [
    "### combine gdp and geographies"
   ]
  },
  {
   "cell_type": "code",
   "execution_count": 58,
   "metadata": {},
   "outputs": [
    {
     "name": "stdout",
     "output_type": "stream",
     "text": [
      "+------------+----+----------------+-----------+------------+----------+---------+-------+--------+----+--------+\n",
      "|COUNTRY_ISO3|YEAR|             GDP|COUNTRY_ISO|COUNTRY_NAME|landlocked|continent|city_en|     lat| lon|maincity|\n",
      "+------------+----+----------------+-----------+------------+----------+---------+-------+--------+----+--------+\n",
      "|         AFG|2009|13865194314.7185|         AF| Afghanistan|         1|     Asia|  Kabul|34,51667|69,2|       1|\n",
      "|         AFG|2010|15856574731.4411|         AF| Afghanistan|         1|     Asia|  Kabul|34,51667|69,2|       1|\n",
      "|         AFG|2011|15924179997.7914|         AF| Afghanistan|         1|     Asia|  Kabul|34,51667|69,2|       1|\n",
      "|         AFG|2012|17954877146.6564|         AF| Afghanistan|         1|     Asia|  Kabul|34,51667|69,2|       1|\n",
      "|         AFG|2013|18960483969.8941|         AF| Afghanistan|         1|     Asia|  Kabul|34,51667|69,2|       1|\n",
      "|         AFG|2014|19477070577.8584|         AF| Afghanistan|         1|     Asia|  Kabul|34,51667|69,2|       1|\n",
      "|         AFG|2015|19759744157.4377|         AF| Afghanistan|         1|     Asia|  Kabul|34,51667|69,2|       1|\n",
      "|         AFG|2016|20206376461.4103|         AF| Afghanistan|         1|     Asia|  Kabul|34,51667|69,2|       1|\n",
      "|         AFG|2017|20744935406.0955|         AF| Afghanistan|         1|     Asia|  Kabul|34,51667|69,2|       1|\n",
      "|         AFG|2018| 20958745169.393|         AF| Afghanistan|         1|     Asia|  Kabul|34,51667|69,2|       1|\n",
      "+------------+----+----------------+-----------+------------+----------+---------+-------+--------+----+--------+\n",
      "only showing top 10 rows\n",
      "\n"
     ]
    }
   ],
   "source": [
    "gdp_geo = gdp.select(\"COUNTRY_ISO3\", \"YEAR\", \"GDP\") \\\n",
    "    .join(geographies, \"COUNTRY_ISO3\", how=\"inner\")\n",
    "\n",
    "gdp_geo.show(10)"
   ]
  },
  {
   "cell_type": "code",
   "execution_count": 59,
   "metadata": {},
   "outputs": [
    {
     "data": {
      "text/plain": [
       "1990"
      ]
     },
     "execution_count": 59,
     "metadata": {},
     "output_type": "execute_result"
    }
   ],
   "source": [
    "gdp_geo.count()"
   ]
  },
  {
   "cell_type": "markdown",
   "metadata": {},
   "source": [
    "### Trade flows (imports + exports)"
   ]
  },
  {
   "cell_type": "code",
   "execution_count": null,
   "metadata": {},
   "outputs": [],
   "source": [
    "# need to join with above table bc iso and iso3 difference"
   ]
  },
  {
   "cell_type": "code",
   "execution_count": 60,
   "metadata": {},
   "outputs": [
    {
     "name": "stdout",
     "output_type": "stream",
     "text": [
      "root\n",
      " |-- REPORTER: integer (nullable = true)\n",
      " |-- REPORTER_ISO: string (nullable = true)\n",
      " |-- PARTNER: integer (nullable = true)\n",
      " |-- PARTNER_ISO: string (nullable = true)\n",
      " |-- TRADE_TYPE: string (nullable = true)\n",
      " |-- PRODUCT_NC: string (nullable = true)\n",
      " |-- PRODUCT_SITC: string (nullable = true)\n",
      " |-- PRODUCT_CPA2002: string (nullable = true)\n",
      " |-- PRODUCT_CPA2008: string (nullable = true)\n",
      " |-- PRODUCT_CPA2_1: string (nullable = true)\n",
      " |-- PRODUCT_BEC: string (nullable = true)\n",
      " |-- PRODUCT_SECTION: string (nullable = true)\n",
      " |-- FLOW: integer (nullable = true)\n",
      " |-- STAT_REGIME: integer (nullable = true)\n",
      " |-- SUPP_UNIT: string (nullable = true)\n",
      " |-- PERIOD: string (nullable = true)\n",
      " |-- VALUE_IN_EUROS: long (nullable = true)\n",
      " |-- QUANTITY_IN_KG: long (nullable = true)\n",
      " |-- SUP_QUANTITY: integer (nullable = true)\n",
      "\n"
     ]
    }
   ],
   "source": [
    "flows = spark.read.parquet(\"data/parquet/full2018.parquet\")\n",
    "flows.printSchema()"
   ]
  },
  {
   "cell_type": "code",
   "execution_count": 154,
   "metadata": {},
   "outputs": [],
   "source": [
    "# 1 aggregate trade flows properly\n",
    "\n",
    "flows = spark.read.parquet(\"data/parquet/full2018.parquet\")\n",
    "\n",
    "flows = flows \\\n",
    "    .withColumn(\"YEAR\", flows[\"PERIOD\"].substr(1, 4).cast(IntegerType())) \\\n",
    "    .select(\"REPORTER\", \"REPORTER_ISO\", \"PARTNER\", \"PARTNER_ISO\", \"TRADE_TYPE\", \"PRODUCT_NC\", \"FLOW\", \"YEAR\", \"VALUE_IN_EUROS\") \\\n",
    "    .filter(flows[\"PRODUCT_NC\"] != \"TOTAL\") \\\n",
    "    .groupBy(\"REPORTER\", \"REPORTER_ISO\", \"PARTNER\", \"PARTNER_ISO\", \"TRADE_TYPE\", \"FLOW\", \"YEAR\").agg({\"VALUE_IN_EUROS\": \"sum\"}) \\\n",
    "    .groupBy(\"REPORTER\", \"REPORTER_ISO\", \"PARTNER\", \"PARTNER_ISO\", \"TRADE_TYPE\", \"YEAR\").pivot(\"FLOW\", [1, 2]).sum(\"sum(VALUE_IN_EUROS)\") \\\n",
    "    .fillna(0, subset=[\"1\", \"2\"])\n",
    "\n",
    "flows = flows.withColumn(\"TOTAL_TRADE\", flows[\"1\"] + flows[\"2\"]) \\\n",
    "    .withColumnRenamed(\"1\", \"IMPORTS\").withColumnRenamed(\"2\", \"EXPORTS\") \\\n",
    "    .select(\"REPORTER_ISO\", \"PARTNER_ISO\", \"YEAR\", \"TOTAL_TRADE\") \\\n",
    "    .cache()\n",
    "\n",
    "flows = flows.join(broadcast(iso_map), flows[\"REPORTER_ISO\"] == iso_map[\"ISO2\"], how=\"inner\") \\\n",
    "    .withColumnRenamed(\"ISO3\", \"REPORTER_ISO3\") \\\n",
    "    .select(\"REPORTER_ISO\", \"REPORTER_ISO3\", \"PARTNER_ISO\", \"TOTAL_TRADE\")\n",
    "\n",
    "flows = flows.join(broadcast(iso_map), flows[\"PARTNER_ISO\"] == iso_map[\"ISO2\"], how=\"inner\") \\\n",
    "    .withColumnRenamed(\"ISO3\", \"PARTNER_ISO3\") \n",
    "\n",
    "flows = flows.select(\"REPORTER_ISO\", \"REPORTER_ISO3\", \"PARTNER_ISO\", \"PARTNER_ISO3\", \"TOTAL_TRADE\") \\\n",
    "    .cache()    "
   ]
  },
  {
   "cell_type": "code",
   "execution_count": 155,
   "metadata": {},
   "outputs": [
    {
     "name": "stdout",
     "output_type": "stream",
     "text": [
      "root\n",
      " |-- REPORTER_ISO: string (nullable = true)\n",
      " |-- REPORTER_ISO3: string (nullable = true)\n",
      " |-- PARTNER_ISO: string (nullable = true)\n",
      " |-- PARTNER_ISO3: string (nullable = true)\n",
      " |-- TOTAL_TRADE: long (nullable = true)\n",
      "\n"
     ]
    }
   ],
   "source": [
    "flows.printSchema()"
   ]
  },
  {
   "cell_type": "code",
   "execution_count": 156,
   "metadata": {},
   "outputs": [
    {
     "data": {
      "text/plain": [
       "5654"
      ]
     },
     "execution_count": 156,
     "metadata": {},
     "output_type": "execute_result"
    }
   ],
   "source": [
    "flows.count()"
   ]
  },
  {
   "cell_type": "code",
   "execution_count": 159,
   "metadata": {},
   "outputs": [
    {
     "data": {
      "text/plain": [
       "5654"
      ]
     },
     "execution_count": 159,
     "metadata": {},
     "output_type": "execute_result"
    }
   ],
   "source": [
    "flows.select(\"REPORTER_ISO\", \"PARTNER_ISO\").distinct().count()"
   ]
  },
  {
   "cell_type": "code",
   "execution_count": 157,
   "metadata": {
    "scrolled": true
   },
   "outputs": [
    {
     "name": "stdout",
     "output_type": "stream",
     "text": [
      "+------------+-------------+-----------+------------+------------+\n",
      "|REPORTER_ISO|REPORTER_ISO3|PARTNER_ISO|PARTNER_ISO3| TOTAL_TRADE|\n",
      "+------------+-------------+-----------+------------+------------+\n",
      "|          LV|          LVA|         AU|         AUS|    26891032|\n",
      "|          RO|          ROM|         AI|         AIA|          37|\n",
      "|          LT|          LTU|         CY|         CYP|    46406342|\n",
      "|          LV|          LVA|         BF|         BFA|      776438|\n",
      "|          BE|          BEL|         AD|         AND|    12203654|\n",
      "|          CZ|          CZE|         DJ|         DJI|     1173300|\n",
      "|          GR|          GRC|         MV|         MDV|      543677|\n",
      "|          FI|          FIN|         QA|         QAT|    58097374|\n",
      "|          MT|          MLT|         HU|         HUN|    26726761|\n",
      "|          SE|          SWE|         DE|         DEU| 40726945397|\n",
      "|          PL|          POL|         BD|         BGD|   688842891|\n",
      "|          ES|          ESP|         VE|         VEN|   444385782|\n",
      "|          HU|          HUN|         NA|         NAM|      200674|\n",
      "|          BG|          BGR|         BB|         BRB|       30431|\n",
      "|          LV|          LVA|         AI|         AIA|       39030|\n",
      "|          DK|          DNK|         VG|         VGB|     9491011|\n",
      "|          FR|          FRA|         ZW|         ZWE|    69254426|\n",
      "|          GB|          GBR|         GI|         GIB|   426176536|\n",
      "|          GB|          GBR|         YE|         YEM|    42622029|\n",
      "|          FR|          FRA|         DE|         DEU|174737594732|\n",
      "+------------+-------------+-----------+------------+------------+\n",
      "only showing top 20 rows\n",
      "\n"
     ]
    }
   ],
   "source": [
    "flows.show()"
   ]
  },
  {
   "cell_type": "code",
   "execution_count": null,
   "metadata": {},
   "outputs": [],
   "source": [
    "#    .join(broadcast(iso_map), flows[\"PARTNER_ISO\"] == iso_map[\"ISO2\"], how=\"inner\") \\\n",
    "#    .withColumnRenamed(\"ISO3\", \"PARTNER_ISO3\") \\\n"
   ]
  },
  {
   "cell_type": "code",
   "execution_count": 134,
   "metadata": {},
   "outputs": [
    {
     "name": "stdout",
     "output_type": "stream",
     "text": [
      "+------------+-------------+-----------+-----------+\n",
      "|REPORTER_ISO|REPORTER_ISO3|PARTNER_ISO|TOTAL_TRADE|\n",
      "+------------+-------------+-----------+-----------+\n",
      "|          LV|          LVA|         AU|   26891032|\n",
      "|          RO|          ROM|         AI|         37|\n",
      "|          LT|          LTU|         CY|   46406342|\n",
      "|          LV|          LVA|         BF|     776438|\n",
      "|          GB|          GBR|         HM|      39927|\n",
      "|          BE|          BEL|         AD|   12203654|\n",
      "|          CZ|          CZE|         DJ|    1173300|\n",
      "|          GR|          GRC|         MV|     543677|\n",
      "|          FI|          FIN|         QA|   58097374|\n",
      "|          MT|          MLT|         HU|   26726761|\n",
      "|          SE|          SWE|         DE|40726945397|\n",
      "|          PL|          POL|         BD|  688842891|\n",
      "|          ES|          ESP|         VE|  444385782|\n",
      "|          PL|          POL|         QZ|   23727166|\n",
      "|          DE|          DEU|         XS| 4484932716|\n",
      "|          DE|          DEU|         XS| 4484932716|\n",
      "|          HU|          HUN|         NA|     200674|\n",
      "|          BG|          BGR|         BB|      30431|\n",
      "|          LV|          LVA|         AI|      39030|\n",
      "|          DK|          DNK|         VG|    9491011|\n",
      "+------------+-------------+-----------+-----------+\n",
      "only showing top 20 rows\n",
      "\n"
     ]
    }
   ],
   "source": [
    "flows.show(20)"
   ]
  },
  {
   "cell_type": "code",
   "execution_count": 123,
   "metadata": {},
   "outputs": [
    {
     "name": "stdout",
     "output_type": "stream",
     "text": [
      "+----+----+\n",
      "|ISO2|ISO3|\n",
      "+----+----+\n",
      "|  AW| ABW|\n",
      "|  AF| AFG|\n",
      "|  AO| AGO|\n",
      "|  AI| AIA|\n",
      "|  AL| ALB|\n",
      "|  AD| AND|\n",
      "|  AN| ANT|\n",
      "|  AE| ARE|\n",
      "|  AR| ARG|\n",
      "|  AM| ARM|\n",
      "|  TF| ATF|\n",
      "|  AG| ATG|\n",
      "|  AU| AUS|\n",
      "|  AU| AUS|\n",
      "|  AT| AUT|\n",
      "|  AZ| AZE|\n",
      "|  BI| BDI|\n",
      "|  BE| BEL|\n",
      "|  BJ| BEN|\n",
      "|  BJ| BEN|\n",
      "+----+----+\n",
      "only showing top 20 rows\n",
      "\n"
     ]
    }
   ],
   "source": [
    "iso_map.show(20)"
   ]
  },
  {
   "cell_type": "code",
   "execution_count": 114,
   "metadata": {},
   "outputs": [
    {
     "name": "stdout",
     "output_type": "stream",
     "text": [
      "+------------+-----------+----+-----------+----------------+----------+\n",
      "|REPORTER_ISO|PARTNER_ISO|YEAR|TOTAL_TRADE|             GDP|landlocked|\n",
      "+------------+-----------+----+-----------+----------------+----------+\n",
      "|          LV|         AU|2018|   26891032|31606334082.6379|         0|\n",
      "|          LT|         CY|2018|   46406342|49290096837.1762|         0|\n",
      "|          LV|         BF|2018|     776438|31606334082.6379|         0|\n",
      "|          GB|         HM|2018|      39927| 2858097953047.3|         0|\n",
      "|          BE|         AD|2018|   12203654|533218198385.386|         0|\n",
      "|          CZ|         DJ|2018|    1173300|248204259552.577|         1|\n",
      "|          GR|         MV|2018|     543677|252723303555.798|         0|\n",
      "|          FI|         QA|2018|   58097374|267320507829.469|         0|\n",
      "|          MT|         HU|2018|   26726761|13725030463.5762|         0|\n",
      "|          SE|         DE|2018|40726945397| 582804342166.04|         0|\n",
      "|          PL|         BD|2018|  688842891|631952707856.598|         0|\n",
      "|          ES|         VE|2018|  444385782|1548723684488.31|         0|\n",
      "|          PL|         QZ|2018|   23727166|631952707856.598|         0|\n",
      "|          DE|         XS|2018| 4484932716|3939226614470.55|         0|\n",
      "|          HU|         NA|2018|     200674| 161218871563.44|         1|\n",
      "|          BG|         BB|2018|      30431|60767158521.7273|         0|\n",
      "|          LV|         AI|2018|      39030|31606334082.6379|         0|\n",
      "|          DK|         VG|2018|    9491011| 364840483457.28|         0|\n",
      "|          FR|         ZW|2018|   69254426|2924903217192.47|         0|\n",
      "|          GB|         GI|2018|  426176536| 2858097953047.3|         0|\n",
      "+------------+-----------+----+-----------+----------------+----------+\n",
      "only showing top 20 rows\n",
      "\n"
     ]
    }
   ],
   "source": [
    "flows.join(broadcast(gdp_geo), \n",
    "           (flows[\"REPORTER_ISO\"] == gdp_geo[\"COUNTRY_ISO\"]) & (flows[\"YEAR\"] == gdp_geo[\"YEAR\"])) \\\n",
    "    .select(\"REPORTER_ISO\", \"PARTNER_ISO\", flows[\"YEAR\"], \"TOTAL_TRADE\", \"GDP\", \"landlocked\") \\\n",
    "    .show(20)\n",
    "\n",
    "# how to model landlocked? 1 if any country is landlocked? yes - need to model that separately"
   ]
  },
  {
   "cell_type": "code",
   "execution_count": 107,
   "metadata": {},
   "outputs": [
    {
     "name": "stdout",
     "output_type": "stream",
     "text": [
      "+-----------+------------+----------------+----------+\n",
      "|COUNTRY_ISO|COUNTRY_ISO3|             GDP|landlocked|\n",
      "+-----------+------------+----------------+----------+\n",
      "|         AF|         AFG|13865194314.7185|         1|\n",
      "|         AF|         AFG|15856574731.4411|         1|\n",
      "|         AF|         AFG|15924179997.7914|         1|\n",
      "|         AF|         AFG|17954877146.6564|         1|\n",
      "|         AF|         AFG|18960483969.8941|         1|\n",
      "|         AF|         AFG|19477070577.8584|         1|\n",
      "|         AF|         AFG|19759744157.4377|         1|\n",
      "|         AF|         AFG|20206376461.4103|         1|\n",
      "|         AF|         AFG|20744935406.0955|         1|\n",
      "|         AF|         AFG| 20958745169.393|         1|\n",
      "+-----------+------------+----------------+----------+\n",
      "only showing top 10 rows\n",
      "\n"
     ]
    }
   ],
   "source": [
    "gdp_geo.select(\"COUNTRY_ISO\", \"COUNTRY_ISO3\", \"GDP\", \"landlocked\").show(10)"
   ]
  },
  {
   "cell_type": "code",
   "execution_count": null,
   "metadata": {},
   "outputs": [],
   "source": []
  },
  {
   "cell_type": "code",
   "execution_count": null,
   "metadata": {},
   "outputs": [],
   "source": []
  },
  {
   "cell_type": "code",
   "execution_count": null,
   "metadata": {},
   "outputs": [],
   "source": []
  },
  {
   "cell_type": "code",
   "execution_count": null,
   "metadata": {},
   "outputs": [],
   "source": []
  }
 ],
 "metadata": {
  "kernelspec": {
   "display_name": "Python 3",
   "language": "python",
   "name": "python3"
  },
  "language_info": {
   "codemirror_mode": {
    "name": "ipython",
    "version": 3
   },
   "file_extension": ".py",
   "mimetype": "text/x-python",
   "name": "python",
   "nbconvert_exporter": "python",
   "pygments_lexer": "ipython3",
   "version": "3.7.3"
  }
 },
 "nbformat": 4,
 "nbformat_minor": 2
}
