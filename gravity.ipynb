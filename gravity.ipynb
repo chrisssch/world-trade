{
 "cells": [
  {
   "cell_type": "markdown",
   "metadata": {},
   "source": [
    "http://localhost:4040/"
   ]
  },
  {
   "cell_type": "markdown",
   "metadata": {},
   "source": [
    "# Estimating a gravity model of international trade *(WIP)*\n",
    "\n",
    "## Table of Contents\n",
    "\n",
    "* Introduction\n",
    "* Initialize and configure Spark\n",
    "* Load and prepare data\n",
    "    * Distances\n",
    "    * Geography\n",
    "    * GDP\n",
    "    * Trade flows\n",
    "    * Combine everything into one dataset\n",
    "* Estimate gravity equation\n",
    "* ..."
   ]
  },
  {
   "cell_type": "markdown",
   "metadata": {},
   "source": [
    "## Introduction: Gravity model\n",
    "\n",
    "https://en.wikipedia.org/wiki/Gravity_model_of_trade\n",
    "\n",
    "Basic gravity model: \n",
    "\n",
    "$$ F_{ij}=G * \\frac{M_i * M_j}{D_{ij}} * \\eta_{ij} $$\n",
    "\n",
    "* *F(ij)*: trade volume between countries i and j\n",
    "* *G*: constant\n",
    "* *M(i)*: GDP of country i\n",
    "* *M(j)*: GDP of country j\n",
    "* *D(ij)*: distance between countries i and j\n",
    "* *eta(ij)*: error of each country i,j pair\n",
    "\n",
    "Which can be transformed into the the following log-log regression equation with error epsilon(ij):\n",
    "\n",
    "$$ ln(F_{ij}) = \\beta_0 + \\beta_1ln(M_i) + \\beta_2ln(M_j) + \\beta_3ln(D_{ij}) + \\varepsilon_{ij} $$"
   ]
  },
  {
   "cell_type": "markdown",
   "metadata": {},
   "source": [
    "## Imports"
   ]
  },
  {
   "cell_type": "code",
   "execution_count": 1,
   "metadata": {},
   "outputs": [],
   "source": [
    "# Initialization and configuration\n",
    "import findspark\n",
    "findspark.init()\n",
    "\n",
    "from pyspark import SparkConf, SparkContext, SQLContext\n",
    "from pyspark.sql import SparkSession\n",
    "\n",
    "# Spark\n",
    "from pyspark.sql.types import *\n",
    "import pyspark.sql.functions as F"
   ]
  },
  {
   "cell_type": "markdown",
   "metadata": {},
   "source": [
    "## Initialize and configure Spark"
   ]
  },
  {
   "cell_type": "code",
   "execution_count": 2,
   "metadata": {},
   "outputs": [],
   "source": [
    "# Configuration\n",
    "conf = SparkConf().setAppName(\"Gravity\").setMaster(\"local[4]\")\n",
    "conf.set(\"spark.driver.maxResultSize\", \"2g\")\n",
    "conf.set(\"spark.driver.memory\", \"2g\")\n",
    "conf.set(\"spark.executor.memory\", \"2g\") \n",
    "conf.set(\"spark.executor.pyspark.memory\", \"2g\")\n",
    "\n",
    "# Initialization\n",
    "sc = SparkContext(conf=conf)\n",
    "sqlc = SQLContext(sc)\n",
    "spark = SparkSession(sc)"
   ]
  },
  {
   "cell_type": "markdown",
   "metadata": {},
   "source": [
    "## Load and prepare data (2018 example)\n",
    "\n",
    "### Flows"
   ]
  },
  {
   "cell_type": "code",
   "execution_count": 349,
   "metadata": {},
   "outputs": [],
   "source": [
    "# flows = spark.read.parquet(\"data/parquet/*\")\n",
    "flows = spark.read.parquet(\"data/parquet/full2018.parquet\")\n",
    "\n",
    "flows = flows.withColumn(\"YEAR\", flows[\"PERIOD\"].substr(1, 4).cast(IntegerType()))\n",
    "flows = flows \\\n",
    "    .select(\"REPORTER_ISO\", \"PARTNER_ISO\", \"TRADE_TYPE\", \"PRODUCT_NC\", \"FLOW\", \"YEAR\", \"VALUE_IN_EUROS\") \\\n",
    "    .filter(flows[\"YEAR\"] == 2018) \\\n",
    "    .filter(flows[\"PRODUCT_NC\"] != \"TOTAL\") \\\n",
    "    .groupBy(\"REPORTER_ISO\", \"PARTNER_ISO\", \"TRADE_TYPE\", \"YEAR\").agg({\"VALUE_IN_EUROS\": \"sum\"}) \\\n",
    "\n",
    "flows = flows \\\n",
    "    .withColumn(\"TRADE_VOLUME\", flows[\"sum(VALUE_IN_EUROS)\"]/1e6) \\\n",
    "    .drop(\"sum(VALUE_IN_EUROS)\") \\\n",
    "    .fillna({\"TRADE_VOLUME\": 0}) \\\n",
    "    .cache()"
   ]
  },
  {
   "cell_type": "code",
   "execution_count": 350,
   "metadata": {
    "scrolled": true
   },
   "outputs": [
    {
     "name": "stdout",
     "output_type": "stream",
     "text": [
      "root\n",
      " |-- REPORTER_ISO: string (nullable = true)\n",
      " |-- PARTNER_ISO: string (nullable = true)\n",
      " |-- TRADE_TYPE: string (nullable = true)\n",
      " |-- YEAR: integer (nullable = true)\n",
      " |-- TRADE_VOLUME: double (nullable = false)\n",
      "\n"
     ]
    }
   ],
   "source": [
    "flows.printSchema()"
   ]
  },
  {
   "cell_type": "code",
   "execution_count": 351,
   "metadata": {},
   "outputs": [
    {
     "data": {
      "text/plain": [
       "6274"
      ]
     },
     "execution_count": 351,
     "metadata": {},
     "output_type": "execute_result"
    }
   ],
   "source": [
    "flows.count()"
   ]
  },
  {
   "cell_type": "code",
   "execution_count": 352,
   "metadata": {},
   "outputs": [
    {
     "data": {
      "text/plain": [
       "6274"
      ]
     },
     "execution_count": 352,
     "metadata": {},
     "output_type": "execute_result"
    }
   ],
   "source": [
    "flows.distinct().count()"
   ]
  },
  {
   "cell_type": "code",
   "execution_count": 353,
   "metadata": {},
   "outputs": [
    {
     "name": "stdout",
     "output_type": "stream",
     "text": [
      "+------------+-----------+----------+----+------------+\n",
      "|REPORTER_ISO|PARTNER_ISO|TRADE_TYPE|YEAR|TRADE_VOLUME|\n",
      "+------------+-----------+----------+----+------------+\n",
      "|          NL|         IT|         I|2018|34334.068495|\n",
      "|          NL|         PM|         E|2018|    1.361125|\n",
      "|          DE|         SN|         E|2018|  129.730191|\n",
      "|          DE|         NG|         E|2018| 3166.323784|\n",
      "|          IT|         MM|         E|2018|   336.52542|\n",
      "|          IE|         HU|         I|2018|  684.070892|\n",
      "|          IE|         US|         E|2018|56030.805863|\n",
      "|          IE|         KI|         E|2018|    0.006516|\n",
      "|          PT|         CA|         E|2018|  543.746958|\n",
      "|          PT|         AE|         E|2018|  188.316142|\n",
      "+------------+-----------+----------+----+------------+\n",
      "only showing top 10 rows\n",
      "\n"
     ]
    }
   ],
   "source": [
    "flows.show(10)"
   ]
  },
  {
   "cell_type": "markdown",
   "metadata": {},
   "source": [
    "### Distances\n",
    "\n",
    "http://www.cepii.fr/CEPII/en/bdd_modele/presentation.asp?id=6\n",
    "\n",
    "\n",
    "* meaning of other distance measures? distw, distwces?\n",
    "* meaning of comcol, curcol, col45, smctry, etc?\n",
    "* common currency?\n",
    "\n",
    "* iso_o: 3d iso code of \"origin\"\n",
    "* iso_d: 3d iso code of \"destination\"\n",
    "* contig: contiguous border\n",
    "* comlang_off: common official language\n",
    "* dist: distance"
   ]
  },
  {
   "cell_type": "code",
   "execution_count": 60,
   "metadata": {},
   "outputs": [],
   "source": [
    "distances = spark.read.csv(\"data/dist_cepii.csv\", sep=\";\", header=True, inferSchema=True) \\\n",
    "    .select(\"iso_o\", \"iso_d\", \"contig\", \"comlang_off\", \"dist\")"
   ]
  },
  {
   "cell_type": "code",
   "execution_count": 61,
   "metadata": {},
   "outputs": [
    {
     "name": "stdout",
     "output_type": "stream",
     "text": [
      "root\n",
      " |-- iso_o: string (nullable = true)\n",
      " |-- iso_d: string (nullable = true)\n",
      " |-- contig: integer (nullable = true)\n",
      " |-- comlang_off: integer (nullable = true)\n",
      " |-- dist: double (nullable = true)\n",
      "\n"
     ]
    }
   ],
   "source": [
    "distances.printSchema()"
   ]
  },
  {
   "cell_type": "code",
   "execution_count": 62,
   "metadata": {},
   "outputs": [
    {
     "data": {
      "text/plain": [
       "50176"
      ]
     },
     "execution_count": 62,
     "metadata": {},
     "output_type": "execute_result"
    }
   ],
   "source": [
    "distances.count()"
   ]
  },
  {
   "cell_type": "code",
   "execution_count": 63,
   "metadata": {
    "scrolled": true
   },
   "outputs": [
    {
     "name": "stdout",
     "output_type": "stream",
     "text": [
      "+-----+-----+------+-----------+--------+\n",
      "|iso_o|iso_d|contig|comlang_off|    dist|\n",
      "+-----+-----+------+-----------+--------+\n",
      "|  ABW|  ABW|     0|          0|5.225315|\n",
      "|  ABW|  AFG|     0|          0|13257.81|\n",
      "|  ABW|  AGO|     0|          0|9516.913|\n",
      "|  ABW|  AIA|     0|          0|983.2682|\n",
      "|  ABW|  ALB|     0|          0|9091.742|\n",
      "+-----+-----+------+-----------+--------+\n",
      "only showing top 5 rows\n",
      "\n"
     ]
    }
   ],
   "source": [
    "distances.show(5)"
   ]
  },
  {
   "cell_type": "code",
   "execution_count": 83,
   "metadata": {},
   "outputs": [
    {
     "data": {
      "text/plain": [
       "0"
      ]
     },
     "execution_count": 83,
     "metadata": {},
     "output_type": "execute_result"
    }
   ],
   "source": [
    "distances.filter(distances.dist.isNull()).count()"
   ]
  },
  {
   "cell_type": "code",
   "execution_count": 84,
   "metadata": {},
   "outputs": [
    {
     "data": {
      "text/plain": [
       "0"
      ]
     },
     "execution_count": 84,
     "metadata": {},
     "output_type": "execute_result"
    }
   ],
   "source": [
    "distances.filter(distances.contig.isNull()).count()"
   ]
  },
  {
   "cell_type": "code",
   "execution_count": 85,
   "metadata": {},
   "outputs": [
    {
     "data": {
      "text/plain": [
       "0"
      ]
     },
     "execution_count": 85,
     "metadata": {},
     "output_type": "execute_result"
    }
   ],
   "source": [
    "distances.filter(distances.comlang_off.isNull()).count()"
   ]
  },
  {
   "cell_type": "markdown",
   "metadata": {},
   "source": [
    "### Geographies\n",
    "\n",
    "* http://www.cepii.fr/CEPII/en/bdd_modele/presentation.asp?id=6\n",
    "* .filter(geographies[\"maincity\"] == 1)   # removes rows where there is a capital and a main city\n"
   ]
  },
  {
   "cell_type": "code",
   "execution_count": 64,
   "metadata": {},
   "outputs": [],
   "source": [
    "geographies = spark.read.csv(\"data/geo_cepii.csv\", sep=\";\", header=True, inferSchema=True) \\\n",
    "    .select(\"iso2\", \"iso3\", \"country\", \"landlocked\", \"maincity\")\n",
    "    \n",
    "geographies = geographies \\\n",
    "    .filter(geographies[\"maincity\"] == 1) \\\n",
    "    .drop(\"maincity\")"
   ]
  },
  {
   "cell_type": "code",
   "execution_count": 65,
   "metadata": {},
   "outputs": [
    {
     "name": "stdout",
     "output_type": "stream",
     "text": [
      "root\n",
      " |-- iso2: string (nullable = true)\n",
      " |-- iso3: string (nullable = true)\n",
      " |-- country: string (nullable = true)\n",
      " |-- landlocked: integer (nullable = true)\n",
      "\n"
     ]
    }
   ],
   "source": [
    "geographies.printSchema()"
   ]
  },
  {
   "cell_type": "code",
   "execution_count": 66,
   "metadata": {},
   "outputs": [
    {
     "data": {
      "text/plain": [
       "225"
      ]
     },
     "execution_count": 66,
     "metadata": {},
     "output_type": "execute_result"
    }
   ],
   "source": [
    "geographies.count()"
   ]
  },
  {
   "cell_type": "code",
   "execution_count": 67,
   "metadata": {},
   "outputs": [
    {
     "name": "stdout",
     "output_type": "stream",
     "text": [
      "+----+----+-----------+----------+\n",
      "|iso2|iso3|    country|landlocked|\n",
      "+----+----+-----------+----------+\n",
      "|  AW| ABW|      Aruba|         0|\n",
      "|  AF| AFG|Afghanistan|         1|\n",
      "|  AO| AGO|     Angola|         0|\n",
      "|  AI| AIA|   Anguilla|         0|\n",
      "|  AL| ALB|    Albania|         0|\n",
      "+----+----+-----------+----------+\n",
      "only showing top 5 rows\n",
      "\n"
     ]
    }
   ],
   "source": [
    "geographies.show(5)"
   ]
  },
  {
   "cell_type": "code",
   "execution_count": 348,
   "metadata": {},
   "outputs": [],
   "source": [
    "s = flows.select(\"REPORTER_ISO\").distinct().toPandas()\n",
    "eu_countries = list(s[\"REPORTER_ISO\"])"
   ]
  },
  {
   "cell_type": "code",
   "execution_count": null,
   "metadata": {},
   "outputs": [],
   "source": []
  },
  {
   "cell_type": "code",
   "execution_count": null,
   "metadata": {},
   "outputs": [],
   "source": [
    "# define a dataframe\n",
    "rdd = sc.parallelize([(0,1), (0,1), (0,2), (1,2), (1,10), (1,20), (3,18), (3,18), (3,18)])\n",
    "df = sqlContext.createDataFrame(rdd, [\"id\", \"score\"])\n",
    "\n",
    "# define a list of scores\n",
    "l = [10,18,20]\n",
    "\n",
    "# filter out records by scores by list l\n",
    "records = df.filter(~df.score.isin(l))\n",
    "# expected: (0,1), (0,1), (0,2), (1,2)\n",
    "\n",
    "# include only records with these scores in list l\n",
    "df.where(df.score.isin(l))\n",
    "# expected: (1,10), (1,20), (3,18), (3,18), (3,18)"
   ]
  },
  {
   "cell_type": "code",
   "execution_count": null,
   "metadata": {},
   "outputs": [],
   "source": []
  },
  {
   "cell_type": "markdown",
   "metadata": {},
   "source": [
    "### GDP\n",
    "\n",
    "* in constant 2010 us dollars\n",
    "* https://databank.worldbank.org/reports.aspx?source=2&series=NY.GDP.MKTP.KD&country=#"
   ]
  },
  {
   "cell_type": "code",
   "execution_count": 89,
   "metadata": {},
   "outputs": [],
   "source": [
    "gdp = spark.read.csv(\"data/worldbank_gdp.csv\", sep=\",\", header=True, inferSchema=True) \\\n",
    "    .select(\"Country Name\", \"Country Code\", \"Time\", \"Value\")"
   ]
  },
  {
   "cell_type": "code",
   "execution_count": 90,
   "metadata": {},
   "outputs": [
    {
     "name": "stdout",
     "output_type": "stream",
     "text": [
      "root\n",
      " |-- Country Name: string (nullable = true)\n",
      " |-- Country Code: string (nullable = true)\n",
      " |-- Time: integer (nullable = true)\n",
      " |-- Value: double (nullable = true)\n",
      "\n"
     ]
    }
   ],
   "source": [
    "gdp.printSchema()"
   ]
  },
  {
   "cell_type": "code",
   "execution_count": 91,
   "metadata": {},
   "outputs": [
    {
     "data": {
      "text/plain": [
       "2645"
      ]
     },
     "execution_count": 91,
     "metadata": {},
     "output_type": "execute_result"
    }
   ],
   "source": [
    "gdp.count()"
   ]
  },
  {
   "cell_type": "code",
   "execution_count": 92,
   "metadata": {},
   "outputs": [
    {
     "name": "stdout",
     "output_type": "stream",
     "text": [
      "+------------+------------+----+-------------------+\n",
      "|Country Name|Country Code|Time|              Value|\n",
      "+------------+------------+----+-------------------+\n",
      "| Afghanistan|         AFG|2009|1.38651943147185E10|\n",
      "| Afghanistan|         AFG|2010|1.58565747314411E10|\n",
      "| Afghanistan|         AFG|2011|1.59241799977914E10|\n",
      "| Afghanistan|         AFG|2012|1.79548771466564E10|\n",
      "| Afghanistan|         AFG|2013|1.89604839698941E10|\n",
      "+------------+------------+----+-------------------+\n",
      "only showing top 5 rows\n",
      "\n"
     ]
    }
   ],
   "source": [
    "gdp.show(5)"
   ]
  },
  {
   "cell_type": "code",
   "execution_count": 95,
   "metadata": {},
   "outputs": [
    {
     "data": {
      "text/plain": [
       "205"
      ]
     },
     "execution_count": 95,
     "metadata": {},
     "output_type": "execute_result"
    }
   ],
   "source": [
    "gdp.filter(gdp.Value.isNull()).count()"
   ]
  },
  {
   "cell_type": "code",
   "execution_count": 98,
   "metadata": {},
   "outputs": [],
   "source": [
    "gdp = gdp.filter(gdp.Value.isNotNull())"
   ]
  },
  {
   "cell_type": "code",
   "execution_count": 99,
   "metadata": {},
   "outputs": [
    {
     "name": "stdout",
     "output_type": "stream",
     "text": [
      "+------------+------------+----+-----+\n",
      "|Country Name|Country Code|Time|Value|\n",
      "+------------+------------+----+-----+\n",
      "+------------+------------+----+-----+\n",
      "\n"
     ]
    }
   ],
   "source": [
    "gdp.filter(gdp.Value.isNull()).show()"
   ]
  },
  {
   "cell_type": "markdown",
   "metadata": {},
   "source": [
    "### Combine dataframes"
   ]
  },
  {
   "cell_type": "code",
   "execution_count": 72,
   "metadata": {},
   "outputs": [],
   "source": [
    "# Flows: REPORTER_ISO, PARTNER_ISO - 2d\n",
    "# Distances: iso_o, iso_d - 3d\n",
    "# gdp: Country Code - 3d\n",
    "# geographies: iso2, iso3"
   ]
  },
  {
   "cell_type": "code",
   "execution_count": 391,
   "metadata": {},
   "outputs": [],
   "source": [
    "# flows\n",
    "df = flows \\\n",
    "    .join(F.broadcast(geographies), flows[\"REPORTER_ISO\"] == geographies[\"iso2\"], how=\"inner\") \\\n",
    "    .withColumnRenamed(\"iso3\", \"REPORTER_ISO_3\") \\\n",
    "    .withColumnRenamed(\"landlocked\", \"REPORTER_LANDLOCKED\") \\\n",
    "    .drop(\"iso2\", \"country\") \\\n",
    "    .join(F.broadcast(geographies), flows[\"PARTNER_ISO\"] == geographies[\"iso2\"], how=\"inner\") \\\n",
    "    .withColumnRenamed(\"iso3\", \"PARTNER_ISO_3\") \\\n",
    "    .withColumnRenamed(\"landlocked\", \"PARTNER_LANDLOCKED\") \\\n",
    "    .drop(\"iso2\", \"country\")\n",
    "\n",
    "df = df \\\n",
    "    .withColumn(\"LANDLOCKED_ANY\", ((df[\"REPORTER_LANDLOCKED\"] == 1) | (df[\"PARTNER_LANDLOCKED\"] == 1)).cast(IntegerType()))\n",
    "\n",
    "# gdp\n",
    "df = df \\\n",
    "    .join(F.broadcast(gdp), (df[\"REPORTER_ISO_3\"] == gdp[\"Country Code\"]) & (df[\"YEAR\"] == gdp[\"Time\"]), how=\"inner\") \\\n",
    "    .drop(\"Country Name\", \"Country Code\", \"Time\") \\\n",
    "    .withColumnRenamed(\"Value\", \"REPORTER_GDP\") \\\n",
    "    .join(F.broadcast(gdp), (df[\"PARTNER_ISO_3\"] == gdp[\"Country Code\"]) & (df[\"YEAR\"] == gdp[\"Time\"]), how=\"inner\") \\\n",
    "    .drop(\"Country Name\", \"Country Code\", \"Time\") \\\n",
    "    .withColumnRenamed(\"Value\", \"PARTNER_GDP\")\n",
    "\n",
    "# distance\n",
    "df = df \\\n",
    "    .join(F.broadcast(distances), (df[\"REPORTER_ISO_3\"] == distances[\"iso_o\"]) & (df[\"PARTNER_ISO_3\"] == distances[\"iso_d\"]), how=\"inner\") \\\n",
    "    .drop(\"iso_o\", \"iso_d\") \\\n",
    "    .withColumnRenamed(\"dist\", \"DISTANCE\")\n",
    "\n",
    "df = df \\\n",
    "    .withColumn(\"REPORTER_GDP\", df[\"REPORTER_GDP\"]/1e6) \\\n",
    "    .withColumn(\"PARTNER_GDP\", df[\"PARTNER_GDP\"]/1e6)\n",
    "\n",
    "df = df \\\n",
    "    .select(\n",
    "        \"REPORTER_ISO\", \"PARTNER_ISO\", \"YEAR\", \"TRADE_TYPE\", \"TRADE_VOLUME\", \"REPORTER_GDP\", \"PARTNER_GDP\",\n",
    "        \"DISTANCE\", \"LANDLOCKED_ANY\", \"contig\", \"comlang_off\") \\\n",
    "    .withColumnRenamed(\"contig\", \"COMMON_BORDER\").withColumnRenamed(\"comlang_off\", \"COMMON_LANGUAGE\")\n",
    "\n",
    "data = df.cache()"
   ]
  },
  {
   "cell_type": "code",
   "execution_count": 392,
   "metadata": {},
   "outputs": [
    {
     "data": {
      "text/html": [
       "<div>\n",
       "<style scoped>\n",
       "    .dataframe tbody tr th:only-of-type {\n",
       "        vertical-align: middle;\n",
       "    }\n",
       "\n",
       "    .dataframe tbody tr th {\n",
       "        vertical-align: top;\n",
       "    }\n",
       "\n",
       "    .dataframe thead th {\n",
       "        text-align: right;\n",
       "    }\n",
       "</style>\n",
       "<table border=\"1\" class=\"dataframe\">\n",
       "  <thead>\n",
       "    <tr style=\"text-align: right;\">\n",
       "      <th></th>\n",
       "      <th>REPORTER_ISO</th>\n",
       "      <th>PARTNER_ISO</th>\n",
       "      <th>YEAR</th>\n",
       "      <th>TRADE_TYPE</th>\n",
       "      <th>TRADE_VOLUME</th>\n",
       "      <th>REPORTER_GDP</th>\n",
       "      <th>PARTNER_GDP</th>\n",
       "      <th>DISTANCE</th>\n",
       "      <th>LANDLOCKED_ANY</th>\n",
       "      <th>COMMON_BORDER</th>\n",
       "      <th>COMMON_LANGUAGE</th>\n",
       "    </tr>\n",
       "  </thead>\n",
       "  <tbody>\n",
       "    <tr>\n",
       "      <th>0</th>\n",
       "      <td>NL</td>\n",
       "      <td>IT</td>\n",
       "      <td>2018</td>\n",
       "      <td>I</td>\n",
       "      <td>34334.068495</td>\n",
       "      <td>9.481008e+05</td>\n",
       "      <td>2.138766e+06</td>\n",
       "      <td>1297.695</td>\n",
       "      <td>0</td>\n",
       "      <td>0</td>\n",
       "      <td>0</td>\n",
       "    </tr>\n",
       "    <tr>\n",
       "      <th>1</th>\n",
       "      <td>DE</td>\n",
       "      <td>SN</td>\n",
       "      <td>2018</td>\n",
       "      <td>E</td>\n",
       "      <td>129.730191</td>\n",
       "      <td>3.939227e+06</td>\n",
       "      <td>2.451909e+04</td>\n",
       "      <td>4643.462</td>\n",
       "      <td>0</td>\n",
       "      <td>0</td>\n",
       "      <td>0</td>\n",
       "    </tr>\n",
       "    <tr>\n",
       "      <th>2</th>\n",
       "      <td>DE</td>\n",
       "      <td>NG</td>\n",
       "      <td>2018</td>\n",
       "      <td>E</td>\n",
       "      <td>3166.323784</td>\n",
       "      <td>3.939227e+06</td>\n",
       "      <td>4.693768e+05</td>\n",
       "      <td>5020.854</td>\n",
       "      <td>0</td>\n",
       "      <td>0</td>\n",
       "      <td>0</td>\n",
       "    </tr>\n",
       "    <tr>\n",
       "      <th>3</th>\n",
       "      <td>IT</td>\n",
       "      <td>MM</td>\n",
       "      <td>2018</td>\n",
       "      <td>E</td>\n",
       "      <td>336.525420</td>\n",
       "      <td>2.138766e+06</td>\n",
       "      <td>8.442461e+04</td>\n",
       "      <td>8264.190</td>\n",
       "      <td>0</td>\n",
       "      <td>0</td>\n",
       "      <td>0</td>\n",
       "    </tr>\n",
       "    <tr>\n",
       "      <th>4</th>\n",
       "      <td>IE</td>\n",
       "      <td>HU</td>\n",
       "      <td>2018</td>\n",
       "      <td>I</td>\n",
       "      <td>684.070892</td>\n",
       "      <td>3.731415e+05</td>\n",
       "      <td>1.612189e+05</td>\n",
       "      <td>1895.995</td>\n",
       "      <td>1</td>\n",
       "      <td>0</td>\n",
       "      <td>0</td>\n",
       "    </tr>\n",
       "  </tbody>\n",
       "</table>\n",
       "</div>"
      ],
      "text/plain": [
       "  REPORTER_ISO PARTNER_ISO  YEAR TRADE_TYPE  TRADE_VOLUME  REPORTER_GDP  \\\n",
       "0           NL          IT  2018          I  34334.068495  9.481008e+05   \n",
       "1           DE          SN  2018          E    129.730191  3.939227e+06   \n",
       "2           DE          NG  2018          E   3166.323784  3.939227e+06   \n",
       "3           IT          MM  2018          E    336.525420  2.138766e+06   \n",
       "4           IE          HU  2018          I    684.070892  3.731415e+05   \n",
       "\n",
       "    PARTNER_GDP  DISTANCE  LANDLOCKED_ANY  COMMON_BORDER  COMMON_LANGUAGE  \n",
       "0  2.138766e+06  1297.695               0              0                0  \n",
       "1  2.451909e+04  4643.462               0              0                0  \n",
       "2  4.693768e+05  5020.854               0              0                0  \n",
       "3  8.442461e+04  8264.190               0              0                0  \n",
       "4  1.612189e+05  1895.995               1              0                0  "
      ]
     },
     "execution_count": 392,
     "metadata": {},
     "output_type": "execute_result"
    }
   ],
   "source": [
    "data.toPandas().head()"
   ]
  },
  {
   "cell_type": "code",
   "execution_count": 393,
   "metadata": {},
   "outputs": [
    {
     "name": "stdout",
     "output_type": "stream",
     "text": [
      "root\n",
      " |-- REPORTER_ISO: string (nullable = true)\n",
      " |-- PARTNER_ISO: string (nullable = true)\n",
      " |-- YEAR: integer (nullable = true)\n",
      " |-- TRADE_TYPE: string (nullable = true)\n",
      " |-- TRADE_VOLUME: double (nullable = false)\n",
      " |-- REPORTER_GDP: double (nullable = true)\n",
      " |-- PARTNER_GDP: double (nullable = true)\n",
      " |-- DISTANCE: double (nullable = true)\n",
      " |-- LANDLOCKED_ANY: integer (nullable = true)\n",
      " |-- COMMON_BORDER: integer (nullable = true)\n",
      " |-- COMMON_LANGUAGE: integer (nullable = true)\n",
      "\n"
     ]
    }
   ],
   "source": [
    "data.printSchema()"
   ]
  },
  {
   "cell_type": "code",
   "execution_count": 394,
   "metadata": {},
   "outputs": [
    {
     "data": {
      "text/plain": [
       "4595"
      ]
     },
     "execution_count": 394,
     "metadata": {},
     "output_type": "execute_result"
    }
   ],
   "source": [
    "data.count()"
   ]
  },
  {
   "cell_type": "code",
   "execution_count": 395,
   "metadata": {},
   "outputs": [
    {
     "data": {
      "text/plain": [
       "0"
      ]
     },
     "execution_count": 395,
     "metadata": {},
     "output_type": "execute_result"
    }
   ],
   "source": [
    "data.filter(data.TRADE_VOLUME.isNull()).count()"
   ]
  },
  {
   "cell_type": "code",
   "execution_count": 396,
   "metadata": {
    "scrolled": true
   },
   "outputs": [
    {
     "data": {
      "text/plain": [
       "0"
      ]
     },
     "execution_count": 396,
     "metadata": {},
     "output_type": "execute_result"
    }
   ],
   "source": [
    "data.filter(data.REPORTER_GDP.isNull()).count()"
   ]
  },
  {
   "cell_type": "code",
   "execution_count": 397,
   "metadata": {},
   "outputs": [
    {
     "data": {
      "text/plain": [
       "0"
      ]
     },
     "execution_count": 397,
     "metadata": {},
     "output_type": "execute_result"
    }
   ],
   "source": [
    "data.filter(data.PARTNER_GDP.isNull()).count()"
   ]
  },
  {
   "cell_type": "code",
   "execution_count": 398,
   "metadata": {},
   "outputs": [
    {
     "data": {
      "text/plain": [
       "0"
      ]
     },
     "execution_count": 398,
     "metadata": {},
     "output_type": "execute_result"
    }
   ],
   "source": [
    "data.filter(data.DISTANCE.isNull()).count()"
   ]
  },
  {
   "cell_type": "markdown",
   "metadata": {},
   "source": [
    "## Data exploration"
   ]
  },
  {
   "cell_type": "code",
   "execution_count": 399,
   "metadata": {},
   "outputs": [],
   "source": [
    "import numpy as np\n",
    "# visualize distributions"
   ]
  },
  {
   "cell_type": "code",
   "execution_count": 400,
   "metadata": {},
   "outputs": [],
   "source": [
    "vizdf = data.select(\"REPORTER_ISO\", \"PARTNER_ISO\", \"YEAR\", \"TRADE_VOLUME\", \n",
    "                    \"REPORTER_GDP\", \"PARTNER_GDP\", \"DISTANCE\").toPandas()"
   ]
  },
  {
   "cell_type": "code",
   "execution_count": 401,
   "metadata": {},
   "outputs": [
    {
     "data": {
      "text/plain": [
       "0       10.443893\n",
       "1        4.865457\n",
       "2        8.060327\n",
       "3        5.818674\n",
       "4        6.528062\n",
       "          ...    \n",
       "4590     4.306750\n",
       "4591    -2.147549\n",
       "4592    -1.591564\n",
       "4593     0.452410\n",
       "4594     2.164719\n",
       "Name: TRADE_VOLUME, Length: 4595, dtype: float64"
      ]
     },
     "execution_count": 401,
     "metadata": {},
     "output_type": "execute_result"
    }
   ],
   "source": [
    "vizdf[\"TRADE_VOLUME\"].apply(np.log)"
   ]
  },
  {
   "cell_type": "code",
   "execution_count": 402,
   "metadata": {},
   "outputs": [],
   "source": [
    "import seaborn as sns\n",
    "import matplotlib.pyplot as plt"
   ]
  },
  {
   "cell_type": "code",
   "execution_count": 403,
   "metadata": {},
   "outputs": [
    {
     "data": {
      "image/png": "[encoded data removed]",
      "text/plain": [
       "<Figure size 432x288 with 1 Axes>"
      ]
     },
     "metadata": {
      "needs_background": "light"
     },
     "output_type": "display_data"
    }
   ],
   "source": [
    "sns.distplot(vizdf[\"TRADE_VOLUME\"]);"
   ]
  },
  {
   "cell_type": "code",
   "execution_count": 404,
   "metadata": {},
   "outputs": [
    {
     "data": {
      "image/png": "[encoded data removed]",
      "text/plain": [
       "<Figure size 432x288 with 1 Axes>"
      ]
     },
     "metadata": {
      "needs_background": "light"
     },
     "output_type": "display_data"
    }
   ],
   "source": [
    "sns.distplot(vizdf[\"TRADE_VOLUME\"].apply(np.log));"
   ]
  },
  {
   "cell_type": "code",
   "execution_count": 405,
   "metadata": {},
   "outputs": [
    {
     "data": {
      "image/png": "[encoded data removed]",
      "text/plain": [
       "<Figure size 432x288 with 1 Axes>"
      ]
     },
     "metadata": {
      "needs_background": "light"
     },
     "output_type": "display_data"
    }
   ],
   "source": [
    "sns.distplot(vizdf[\"REPORTER_GDP\"]);"
   ]
  },
  {
   "cell_type": "code",
   "execution_count": 406,
   "metadata": {},
   "outputs": [
    {
     "data": {
      "image/png": "[encoded data removed]",
      "text/plain": [
       "<Figure size 432x288 with 1 Axes>"
      ]
     },
     "metadata": {
      "needs_background": "light"
     },
     "output_type": "display_data"
    }
   ],
   "source": [
    "sns.distplot(vizdf[\"REPORTER_GDP\"].apply(np.log));"
   ]
  },
  {
   "cell_type": "code",
   "execution_count": null,
   "metadata": {},
   "outputs": [],
   "source": []
  },
  {
   "cell_type": "code",
   "execution_count": 407,
   "metadata": {},
   "outputs": [
    {
     "data": {
      "image/png": "[encoded data removed]",
      "text/plain": [
       "<Figure size 432x288 with 1 Axes>"
      ]
     },
     "metadata": {
      "needs_background": "light"
     },
     "output_type": "display_data"
    }
   ],
   "source": [
    "sns.distplot(vizdf[\"PARTNER_GDP\"]);"
   ]
  },
  {
   "cell_type": "code",
   "execution_count": 408,
   "metadata": {},
   "outputs": [
    {
     "data": {
      "image/png": "[encoded data removed]",
      "text/plain": [
       "<Figure size 432x288 with 1 Axes>"
      ]
     },
     "metadata": {
      "needs_background": "light"
     },
     "output_type": "display_data"
    }
   ],
   "source": [
    "sns.distplot(vizdf[\"PARTNER_GDP\"].apply(np.log));"
   ]
  },
  {
   "cell_type": "code",
   "execution_count": 409,
   "metadata": {},
   "outputs": [
    {
     "data": {
      "image/png": "[encoded data removed]",
      "text/plain": [
       "<Figure size 432x288 with 1 Axes>"
      ]
     },
     "metadata": {
      "needs_background": "light"
     },
     "output_type": "display_data"
    }
   ],
   "source": [
    "sns.distplot(vizdf[\"DISTANCE\"]);"
   ]
  },
  {
   "cell_type": "code",
   "execution_count": 410,
   "metadata": {},
   "outputs": [
    {
     "data": {
      "image/png": "[encoded data removed]",
      "text/plain": [
       "<Figure size 432x288 with 1 Axes>"
      ]
     },
     "metadata": {
      "needs_background": "light"
     },
     "output_type": "display_data"
    }
   ],
   "source": [
    "sns.distplot(vizdf[\"DISTANCE\"].apply(np.log));"
   ]
  },
  {
   "cell_type": "code",
   "execution_count": 411,
   "metadata": {},
   "outputs": [],
   "source": [
    "vizdf2 = vizdf[vizdf[\"REPORTER_ISO\"] == \"DE\"]"
   ]
  },
  {
   "cell_type": "code",
   "execution_count": 412,
   "metadata": {},
   "outputs": [
    {
     "data": {
      "text/plain": [
       "<matplotlib.axes._subplots.AxesSubplot at 0x206d77414c8>"
      ]
     },
     "execution_count": 412,
     "metadata": {},
     "output_type": "execute_result"
    },
    {
     "data": {
      "image/png": "[encoded data removed]",
      "text/plain": [
       "<Figure size 432x288 with 1 Axes>"
      ]
     },
     "metadata": {
      "needs_background": "light"
     },
     "output_type": "display_data"
    }
   ],
   "source": [
    "sns.scatterplot(x=\"PARTNER_GDP\", y=\"TRADE_VOLUME\", data=vizdf2)"
   ]
  },
  {
   "cell_type": "code",
   "execution_count": 413,
   "metadata": {},
   "outputs": [
    {
     "data": {
      "image/png": "[encoded data removed]",
      "text/plain": [
       "<Figure size 432x288 with 1 Axes>"
      ]
     },
     "metadata": {
      "needs_background": "light"
     },
     "output_type": "display_data"
    }
   ],
   "source": [
    "sns.scatterplot(x=\"DISTANCE\", y=\"TRADE_VOLUME\", data=vizdf2);\n",
    "\n",
    "# add log transform to make it more visible"
   ]
  },
  {
   "cell_type": "code",
   "execution_count": 414,
   "metadata": {},
   "outputs": [
    {
     "data": {
      "image/png": "[encoded data removed]",
      "text/plain": [
       "<Figure size 432x288 with 1 Axes>"
      ]
     },
     "metadata": {
      "needs_background": "light"
     },
     "output_type": "display_data"
    }
   ],
   "source": [
    "sns.scatterplot(x=vizdf[\"PARTNER_GDP\"].apply(np.log), y=vizdf[\"TRADE_VOLUME\"].apply(np.log));"
   ]
  },
  {
   "cell_type": "code",
   "execution_count": 415,
   "metadata": {},
   "outputs": [
    {
     "data": {
      "image/png": "[encoded data removed]",
      "text/plain": [
       "<Figure size 432x288 with 1 Axes>"
      ]
     },
     "metadata": {
      "needs_background": "light"
     },
     "output_type": "display_data"
    }
   ],
   "source": [
    "sns.scatterplot(x=vizdf[\"DISTANCE\"].apply(np.log), y=vizdf[\"TRADE_VOLUME\"].apply(np.log));"
   ]
  },
  {
   "cell_type": "markdown",
   "metadata": {},
   "source": [
    "## Estimate basic gravity equation for 2018"
   ]
  },
  {
   "cell_type": "code",
   "execution_count": 416,
   "metadata": {},
   "outputs": [],
   "source": [
    "# log transform features and trade volume? - its implicit in the equation"
   ]
  },
  {
   "cell_type": "markdown",
   "metadata": {},
   "source": [
    "## Pipeline"
   ]
  },
  {
   "cell_type": "code",
   "execution_count": 417,
   "metadata": {},
   "outputs": [],
   "source": [
    "from pyspark.ml.feature import StringIndexer, VectorAssembler\n",
    "from pyspark.ml import Pipeline\n",
    "from pyspark.ml.regression import LinearRegression\n",
    "from pyspark.ml.evaluation import RegressionEvaluator\n"
   ]
  },
  {
   "cell_type": "code",
   "execution_count": 418,
   "metadata": {},
   "outputs": [
    {
     "data": {
      "text/html": [
       "<div>\n",
       "<style scoped>\n",
       "    .dataframe tbody tr th:only-of-type {\n",
       "        vertical-align: middle;\n",
       "    }\n",
       "\n",
       "    .dataframe tbody tr th {\n",
       "        vertical-align: top;\n",
       "    }\n",
       "\n",
       "    .dataframe thead th {\n",
       "        text-align: right;\n",
       "    }\n",
       "</style>\n",
       "<table border=\"1\" class=\"dataframe\">\n",
       "  <thead>\n",
       "    <tr style=\"text-align: right;\">\n",
       "      <th></th>\n",
       "      <th>REPORTER_ISO</th>\n",
       "      <th>PARTNER_ISO</th>\n",
       "      <th>YEAR</th>\n",
       "      <th>TRADE_TYPE</th>\n",
       "      <th>TRADE_VOLUME</th>\n",
       "      <th>REPORTER_GDP</th>\n",
       "      <th>PARTNER_GDP</th>\n",
       "      <th>DISTANCE</th>\n",
       "      <th>LANDLOCKED_ANY</th>\n",
       "      <th>COMMON_BORDER</th>\n",
       "      <th>COMMON_LANGUAGE</th>\n",
       "    </tr>\n",
       "  </thead>\n",
       "  <tbody>\n",
       "    <tr>\n",
       "      <th>0</th>\n",
       "      <td>NL</td>\n",
       "      <td>IT</td>\n",
       "      <td>2018</td>\n",
       "      <td>I</td>\n",
       "      <td>34334.068495</td>\n",
       "      <td>9.481008e+05</td>\n",
       "      <td>2.138766e+06</td>\n",
       "      <td>1297.695</td>\n",
       "      <td>0</td>\n",
       "      <td>0</td>\n",
       "      <td>0</td>\n",
       "    </tr>\n",
       "    <tr>\n",
       "      <th>1</th>\n",
       "      <td>DE</td>\n",
       "      <td>SN</td>\n",
       "      <td>2018</td>\n",
       "      <td>E</td>\n",
       "      <td>129.730191</td>\n",
       "      <td>3.939227e+06</td>\n",
       "      <td>2.451909e+04</td>\n",
       "      <td>4643.462</td>\n",
       "      <td>0</td>\n",
       "      <td>0</td>\n",
       "      <td>0</td>\n",
       "    </tr>\n",
       "    <tr>\n",
       "      <th>2</th>\n",
       "      <td>DE</td>\n",
       "      <td>NG</td>\n",
       "      <td>2018</td>\n",
       "      <td>E</td>\n",
       "      <td>3166.323784</td>\n",
       "      <td>3.939227e+06</td>\n",
       "      <td>4.693768e+05</td>\n",
       "      <td>5020.854</td>\n",
       "      <td>0</td>\n",
       "      <td>0</td>\n",
       "      <td>0</td>\n",
       "    </tr>\n",
       "    <tr>\n",
       "      <th>3</th>\n",
       "      <td>IT</td>\n",
       "      <td>MM</td>\n",
       "      <td>2018</td>\n",
       "      <td>E</td>\n",
       "      <td>336.525420</td>\n",
       "      <td>2.138766e+06</td>\n",
       "      <td>8.442461e+04</td>\n",
       "      <td>8264.190</td>\n",
       "      <td>0</td>\n",
       "      <td>0</td>\n",
       "      <td>0</td>\n",
       "    </tr>\n",
       "    <tr>\n",
       "      <th>4</th>\n",
       "      <td>IE</td>\n",
       "      <td>HU</td>\n",
       "      <td>2018</td>\n",
       "      <td>I</td>\n",
       "      <td>684.070892</td>\n",
       "      <td>3.731415e+05</td>\n",
       "      <td>1.612189e+05</td>\n",
       "      <td>1895.995</td>\n",
       "      <td>1</td>\n",
       "      <td>0</td>\n",
       "      <td>0</td>\n",
       "    </tr>\n",
       "  </tbody>\n",
       "</table>\n",
       "</div>"
      ],
      "text/plain": [
       "  REPORTER_ISO PARTNER_ISO  YEAR TRADE_TYPE  TRADE_VOLUME  REPORTER_GDP  \\\n",
       "0           NL          IT  2018          I  34334.068495  9.481008e+05   \n",
       "1           DE          SN  2018          E    129.730191  3.939227e+06   \n",
       "2           DE          NG  2018          E   3166.323784  3.939227e+06   \n",
       "3           IT          MM  2018          E    336.525420  2.138766e+06   \n",
       "4           IE          HU  2018          I    684.070892  3.731415e+05   \n",
       "\n",
       "    PARTNER_GDP  DISTANCE  LANDLOCKED_ANY  COMMON_BORDER  COMMON_LANGUAGE  \n",
       "0  2.138766e+06  1297.695               0              0                0  \n",
       "1  2.451909e+04  4643.462               0              0                0  \n",
       "2  4.693768e+05  5020.854               0              0                0  \n",
       "3  8.442461e+04  8264.190               0              0                0  \n",
       "4  1.612189e+05  1895.995               1              0                0  "
      ]
     },
     "execution_count": 418,
     "metadata": {},
     "output_type": "execute_result"
    }
   ],
   "source": [
    "data.toPandas().head()"
   ]
  },
  {
   "cell_type": "code",
   "execution_count": 419,
   "metadata": {},
   "outputs": [
    {
     "data": {
      "text/plain": [
       "47"
      ]
     },
     "execution_count": 419,
     "metadata": {},
     "output_type": "execute_result"
    }
   ],
   "source": [
    "data.filter(data.TRADE_VOLUME <= 0.001).count()\n",
    "# deal with observations that are almost zero - how?"
   ]
  },
  {
   "cell_type": "code",
   "execution_count": 420,
   "metadata": {},
   "outputs": [],
   "source": [
    "# log transform for trade volume, reporter gdp, partner gpd, distance\n",
    "# add log transform to pipeline? possible?\n",
    "# deal with observations that are almost zero - how?\n",
    "\n",
    "from pyspark.sql import functions as F\n",
    "\n",
    "data = data \\\n",
    "    .withColumn(\"TRADE_VOLUME_log\", F.log(df.TRADE_VOLUME)) \\\n",
    "    .withColumn(\"REPORTER_GDP_log\", F.log(df.REPORTER_GDP)) \\\n",
    "    .withColumn(\"PARTNER_GDP_log\", F.log(df.PARTNER_GDP)) \\\n",
    "    .withColumn(\"DISTANCE_log\", F.log(df.DISTANCE))\n",
    "\n",
    "# use loop instead"
   ]
  },
  {
   "cell_type": "code",
   "execution_count": 421,
   "metadata": {},
   "outputs": [
    {
     "data": {
      "text/html": [
       "<div>\n",
       "<style scoped>\n",
       "    .dataframe tbody tr th:only-of-type {\n",
       "        vertical-align: middle;\n",
       "    }\n",
       "\n",
       "    .dataframe tbody tr th {\n",
       "        vertical-align: top;\n",
       "    }\n",
       "\n",
       "    .dataframe thead th {\n",
       "        text-align: right;\n",
       "    }\n",
       "</style>\n",
       "<table border=\"1\" class=\"dataframe\">\n",
       "  <thead>\n",
       "    <tr style=\"text-align: right;\">\n",
       "      <th></th>\n",
       "      <th>REPORTER_ISO</th>\n",
       "      <th>PARTNER_ISO</th>\n",
       "      <th>YEAR</th>\n",
       "      <th>TRADE_TYPE</th>\n",
       "      <th>TRADE_VOLUME</th>\n",
       "      <th>REPORTER_GDP</th>\n",
       "      <th>PARTNER_GDP</th>\n",
       "      <th>DISTANCE</th>\n",
       "      <th>LANDLOCKED_ANY</th>\n",
       "      <th>COMMON_BORDER</th>\n",
       "      <th>COMMON_LANGUAGE</th>\n",
       "      <th>TRADE_VOLUME_log</th>\n",
       "      <th>REPORTER_GDP_log</th>\n",
       "      <th>PARTNER_GDP_log</th>\n",
       "      <th>DISTANCE_log</th>\n",
       "    </tr>\n",
       "  </thead>\n",
       "  <tbody>\n",
       "    <tr>\n",
       "      <th>0</th>\n",
       "      <td>NL</td>\n",
       "      <td>IT</td>\n",
       "      <td>2018</td>\n",
       "      <td>I</td>\n",
       "      <td>34334.068495</td>\n",
       "      <td>9.481008e+05</td>\n",
       "      <td>2.138766e+06</td>\n",
       "      <td>1297.695</td>\n",
       "      <td>0</td>\n",
       "      <td>0</td>\n",
       "      <td>0</td>\n",
       "      <td>10.443893</td>\n",
       "      <td>13.762216</td>\n",
       "      <td>14.575740</td>\n",
       "      <td>7.168345</td>\n",
       "    </tr>\n",
       "    <tr>\n",
       "      <th>1</th>\n",
       "      <td>DE</td>\n",
       "      <td>SN</td>\n",
       "      <td>2018</td>\n",
       "      <td>E</td>\n",
       "      <td>129.730191</td>\n",
       "      <td>3.939227e+06</td>\n",
       "      <td>2.451909e+04</td>\n",
       "      <td>4643.462</td>\n",
       "      <td>0</td>\n",
       "      <td>0</td>\n",
       "      <td>0</td>\n",
       "      <td>4.865457</td>\n",
       "      <td>15.186495</td>\n",
       "      <td>10.107207</td>\n",
       "      <td>8.443215</td>\n",
       "    </tr>\n",
       "    <tr>\n",
       "      <th>2</th>\n",
       "      <td>DE</td>\n",
       "      <td>NG</td>\n",
       "      <td>2018</td>\n",
       "      <td>E</td>\n",
       "      <td>3166.323784</td>\n",
       "      <td>3.939227e+06</td>\n",
       "      <td>4.693768e+05</td>\n",
       "      <td>5020.854</td>\n",
       "      <td>0</td>\n",
       "      <td>0</td>\n",
       "      <td>0</td>\n",
       "      <td>8.060327</td>\n",
       "      <td>15.186495</td>\n",
       "      <td>13.059161</td>\n",
       "      <td>8.521355</td>\n",
       "    </tr>\n",
       "    <tr>\n",
       "      <th>3</th>\n",
       "      <td>IT</td>\n",
       "      <td>MM</td>\n",
       "      <td>2018</td>\n",
       "      <td>E</td>\n",
       "      <td>336.525420</td>\n",
       "      <td>2.138766e+06</td>\n",
       "      <td>8.442461e+04</td>\n",
       "      <td>8264.190</td>\n",
       "      <td>0</td>\n",
       "      <td>0</td>\n",
       "      <td>0</td>\n",
       "      <td>5.818674</td>\n",
       "      <td>14.575740</td>\n",
       "      <td>11.343614</td>\n",
       "      <td>9.019687</td>\n",
       "    </tr>\n",
       "    <tr>\n",
       "      <th>4</th>\n",
       "      <td>IE</td>\n",
       "      <td>HU</td>\n",
       "      <td>2018</td>\n",
       "      <td>I</td>\n",
       "      <td>684.070892</td>\n",
       "      <td>3.731415e+05</td>\n",
       "      <td>1.612189e+05</td>\n",
       "      <td>1895.995</td>\n",
       "      <td>1</td>\n",
       "      <td>0</td>\n",
       "      <td>0</td>\n",
       "      <td>6.528062</td>\n",
       "      <td>12.829713</td>\n",
       "      <td>11.990518</td>\n",
       "      <td>7.547499</td>\n",
       "    </tr>\n",
       "  </tbody>\n",
       "</table>\n",
       "</div>"
      ],
      "text/plain": [
       "  REPORTER_ISO PARTNER_ISO  YEAR TRADE_TYPE  TRADE_VOLUME  REPORTER_GDP  \\\n",
       "0           NL          IT  2018          I  34334.068495  9.481008e+05   \n",
       "1           DE          SN  2018          E    129.730191  3.939227e+06   \n",
       "2           DE          NG  2018          E   3166.323784  3.939227e+06   \n",
       "3           IT          MM  2018          E    336.525420  2.138766e+06   \n",
       "4           IE          HU  2018          I    684.070892  3.731415e+05   \n",
       "\n",
       "    PARTNER_GDP  DISTANCE  LANDLOCKED_ANY  COMMON_BORDER  COMMON_LANGUAGE  \\\n",
       "0  2.138766e+06  1297.695               0              0                0   \n",
       "1  2.451909e+04  4643.462               0              0                0   \n",
       "2  4.693768e+05  5020.854               0              0                0   \n",
       "3  8.442461e+04  8264.190               0              0                0   \n",
       "4  1.612189e+05  1895.995               1              0                0   \n",
       "\n",
       "   TRADE_VOLUME_log  REPORTER_GDP_log  PARTNER_GDP_log  DISTANCE_log  \n",
       "0         10.443893         13.762216        14.575740      7.168345  \n",
       "1          4.865457         15.186495        10.107207      8.443215  \n",
       "2          8.060327         15.186495        13.059161      8.521355  \n",
       "3          5.818674         14.575740        11.343614      9.019687  \n",
       "4          6.528062         12.829713        11.990518      7.547499  "
      ]
     },
     "execution_count": 421,
     "metadata": {},
     "output_type": "execute_result"
    }
   ],
   "source": [
    "data.toPandas().head()"
   ]
  },
  {
   "cell_type": "markdown",
   "metadata": {},
   "source": [
    "### simple example just with gdp and distance"
   ]
  },
  {
   "cell_type": "code",
   "execution_count": 388,
   "metadata": {},
   "outputs": [],
   "source": [
    "# Vector Assembler\n",
    "\n",
    "features = [\"REPORTER_GDP_log\", \"PARTNER_GDP_log\", \"DISTANCE_log\"]\n",
    "assembler = VectorAssembler(inputCols=features, outputCol=\"features\")\n",
    "\n",
    "# trade volume, reporter gdp, partner gdp in mn EUR\n",
    "# label indexer brauch ich nicht"
   ]
  },
  {
   "cell_type": "code",
   "execution_count": 422,
   "metadata": {},
   "outputs": [],
   "source": [
    "data2 = assembler.transform(data)"
   ]
  },
  {
   "cell_type": "code",
   "execution_count": 423,
   "metadata": {},
   "outputs": [],
   "source": [
    "model = LinearRegression(maxIter=100,\n",
    "                         labelCol='TRADE_VOLUME_log', \n",
    "                         featuresCol='features')\n",
    "\n",
    "# lr ohne elasticnet BS?"
   ]
  },
  {
   "cell_type": "code",
   "execution_count": 424,
   "metadata": {},
   "outputs": [],
   "source": [
    "trained_model = model.fit(data2)"
   ]
  },
  {
   "cell_type": "code",
   "execution_count": 425,
   "metadata": {},
   "outputs": [
    {
     "data": {
      "text/plain": [
       "3"
      ]
     },
     "execution_count": 425,
     "metadata": {},
     "output_type": "execute_result"
    }
   ],
   "source": [
    "trained_model.numFeatures"
   ]
  },
  {
   "cell_type": "code",
   "execution_count": 426,
   "metadata": {},
   "outputs": [
    {
     "data": {
      "text/plain": [
       "['REPORTER_GDP_log', 'PARTNER_GDP_log', 'DISTANCE_log']"
      ]
     },
     "execution_count": 426,
     "metadata": {},
     "output_type": "execute_result"
    }
   ],
   "source": [
    "features"
   ]
  },
  {
   "cell_type": "code",
   "execution_count": 427,
   "metadata": {},
   "outputs": [
    {
     "data": {
      "text/plain": [
       "DenseVector([1.1579, 1.0884, -1.2583])"
      ]
     },
     "execution_count": 427,
     "metadata": {},
     "output_type": "execute_result"
    }
   ],
   "source": [
    "trained_model.coefficients"
   ]
  },
  {
   "cell_type": "code",
   "execution_count": 428,
   "metadata": {},
   "outputs": [
    {
     "data": {
      "text/plain": [
       "1.6776109615147425"
      ]
     },
     "execution_count": 428,
     "metadata": {},
     "output_type": "execute_result"
    }
   ],
   "source": [
    "trained_model.summary.rootMeanSquaredError"
   ]
  },
  {
   "cell_type": "code",
   "execution_count": 429,
   "metadata": {},
   "outputs": [
    {
     "data": {
      "text/plain": [
       "0.8127295170155641"
      ]
     },
     "execution_count": 429,
     "metadata": {},
     "output_type": "execute_result"
    }
   ],
   "source": [
    "trained_model.summary.r2"
   ]
  },
  {
   "cell_type": "code",
   "execution_count": 430,
   "metadata": {},
   "outputs": [
    {
     "data": {
      "text/plain": [
       "0.8126071446677197"
      ]
     },
     "execution_count": 430,
     "metadata": {},
     "output_type": "execute_result"
    }
   ],
   "source": [
    "trained_model.summary.r2adj"
   ]
  },
  {
   "cell_type": "code",
   "execution_count": 431,
   "metadata": {},
   "outputs": [
    {
     "data": {
      "text/plain": [
       "1.1960003167871855"
      ]
     },
     "execution_count": 431,
     "metadata": {},
     "output_type": "execute_result"
    }
   ],
   "source": [
    "trained_model.summary.meanAbsoluteError"
   ]
  },
  {
   "cell_type": "code",
   "execution_count": 432,
   "metadata": {},
   "outputs": [
    {
     "data": {
      "text/plain": [
       "[0.0, 0.0, 0.0, 0.0]"
      ]
     },
     "execution_count": 432,
     "metadata": {},
     "output_type": "execute_result"
    }
   ],
   "source": [
    "trained_model.summary.pValues"
   ]
  },
  {
   "cell_type": "code",
   "execution_count": 433,
   "metadata": {},
   "outputs": [
    {
     "data": {
      "text/plain": [
       "[72.89896776878669, 98.40096809024293, -42.96651087343902, -33.48972285201757]"
      ]
     },
     "execution_count": 433,
     "metadata": {},
     "output_type": "execute_result"
    }
   ],
   "source": [
    "trained_model.summary.tValues"
   ]
  },
  {
   "cell_type": "code",
   "execution_count": 434,
   "metadata": {},
   "outputs": [
    {
     "data": {
      "text/plain": [
       "[0.015884188999981265,\n",
       " 0.01106130902606986,\n",
       " 0.029285209496649204,\n",
       " 0.3624028752894219]"
      ]
     },
     "execution_count": 434,
     "metadata": {},
     "output_type": "execute_result"
    }
   ],
   "source": [
    "trained_model.summary.coefficientStandardErrors"
   ]
  },
  {
   "cell_type": "code",
   "execution_count": 435,
   "metadata": {},
   "outputs": [],
   "source": [
    "# only works with non elasticnet regresssion\n",
    "# from https://runawayhorse001.github.io/LearningApacheSpark/regression.html\n",
    "\n",
    "def modelsummary(model):\n",
    "    import numpy as np\n",
    "    print (\"Note: the last rows are the information for Intercept\")\n",
    "    print (\"##\",\"-------------------------------------------------\")\n",
    "    print (\"##\",\"  Estimate   |   Std.Error | t Values  |  P-value\")\n",
    "    coef = np.append(list(model.coefficients),model.intercept)\n",
    "    Summary=model.summary\n",
    "\n",
    "    for i in range(len(Summary.pValues)):\n",
    "        print (\"##\",'{:10.6f}'.format(coef[i]),\\\n",
    "        '{:10.6f}'.format(Summary.coefficientStandardErrors[i]),\\\n",
    "        '{:8.3f}'.format(Summary.tValues[i]),\\\n",
    "        '{:10.6f}'.format(Summary.pValues[i]))\n",
    "\n",
    "    print (\"##\",'---')\n",
    "    print (\"##\",\"Mean squared error: % .6f\" \\\n",
    "           % Summary.meanSquaredError, \", RMSE: % .6f\" \\\n",
    "           % Summary.rootMeanSquaredError )\n",
    "    print (\"##\",\"Multiple R-squared: %f\" % Summary.r2, \", \\\n",
    "            Total iterations: %i\"% Summary.totalIterations)"
   ]
  },
  {
   "cell_type": "code",
   "execution_count": 436,
   "metadata": {},
   "outputs": [
    {
     "name": "stdout",
     "output_type": "stream",
     "text": [
      "Note: the last rows are the information for Intercept\n",
      "## -------------------------------------------------\n",
      "##   Estimate   |   Std.Error | t Values  |  P-value\n",
      "##   1.157941   0.015884   72.899   0.000000\n",
      "##   1.088444   0.011061   98.401   0.000000\n",
      "##  -1.258283   0.029285  -42.967   0.000000\n",
      "## -12.136772   0.362403  -33.490   0.000000\n",
      "## ---\n",
      "## Mean squared error:  2.814379 , RMSE:  1.677611\n",
      "## Multiple R-squared: 0.812730 ,             Total iterations: 1\n"
     ]
    }
   ],
   "source": [
    "modelsummary(trained_model)"
   ]
  },
  {
   "cell_type": "code",
   "execution_count": 438,
   "metadata": {},
   "outputs": [],
   "source": [
    "predictions = trained_model.transform(data2)\n"
   ]
  },
  {
   "cell_type": "code",
   "execution_count": 439,
   "metadata": {},
   "outputs": [
    {
     "data": {
      "text/html": [
       "<div>\n",
       "<style scoped>\n",
       "    .dataframe tbody tr th:only-of-type {\n",
       "        vertical-align: middle;\n",
       "    }\n",
       "\n",
       "    .dataframe tbody tr th {\n",
       "        vertical-align: top;\n",
       "    }\n",
       "\n",
       "    .dataframe thead th {\n",
       "        text-align: right;\n",
       "    }\n",
       "</style>\n",
       "<table border=\"1\" class=\"dataframe\">\n",
       "  <thead>\n",
       "    <tr style=\"text-align: right;\">\n",
       "      <th></th>\n",
       "      <th>REPORTER_ISO</th>\n",
       "      <th>PARTNER_ISO</th>\n",
       "      <th>YEAR</th>\n",
       "      <th>TRADE_TYPE</th>\n",
       "      <th>TRADE_VOLUME</th>\n",
       "      <th>REPORTER_GDP</th>\n",
       "      <th>PARTNER_GDP</th>\n",
       "      <th>DISTANCE</th>\n",
       "      <th>LANDLOCKED_ANY</th>\n",
       "      <th>COMMON_BORDER</th>\n",
       "      <th>COMMON_LANGUAGE</th>\n",
       "      <th>TRADE_VOLUME_log</th>\n",
       "      <th>REPORTER_GDP_log</th>\n",
       "      <th>PARTNER_GDP_log</th>\n",
       "      <th>DISTANCE_log</th>\n",
       "      <th>features</th>\n",
       "      <th>prediction</th>\n",
       "    </tr>\n",
       "  </thead>\n",
       "  <tbody>\n",
       "    <tr>\n",
       "      <th>0</th>\n",
       "      <td>NL</td>\n",
       "      <td>IT</td>\n",
       "      <td>2018</td>\n",
       "      <td>I</td>\n",
       "      <td>34334.068495</td>\n",
       "      <td>9.481008e+05</td>\n",
       "      <td>2.138766e+06</td>\n",
       "      <td>1297.695</td>\n",
       "      <td>0</td>\n",
       "      <td>0</td>\n",
       "      <td>0</td>\n",
       "      <td>10.443893</td>\n",
       "      <td>13.762216</td>\n",
       "      <td>14.575740</td>\n",
       "      <td>7.168345</td>\n",
       "      <td>[13.762216145603926, 14.575739664561027, 7.168...</td>\n",
       "      <td>10.644123</td>\n",
       "    </tr>\n",
       "    <tr>\n",
       "      <th>1</th>\n",
       "      <td>DE</td>\n",
       "      <td>SN</td>\n",
       "      <td>2018</td>\n",
       "      <td>E</td>\n",
       "      <td>129.730191</td>\n",
       "      <td>3.939227e+06</td>\n",
       "      <td>2.451909e+04</td>\n",
       "      <td>4643.462</td>\n",
       "      <td>0</td>\n",
       "      <td>0</td>\n",
       "      <td>0</td>\n",
       "      <td>4.865457</td>\n",
       "      <td>15.186495</td>\n",
       "      <td>10.107207</td>\n",
       "      <td>8.443215</td>\n",
       "      <td>[15.186494971263052, 10.10720716859406, 8.4432...</td>\n",
       "      <td>5.825460</td>\n",
       "    </tr>\n",
       "    <tr>\n",
       "      <th>2</th>\n",
       "      <td>DE</td>\n",
       "      <td>NG</td>\n",
       "      <td>2018</td>\n",
       "      <td>E</td>\n",
       "      <td>3166.323784</td>\n",
       "      <td>3.939227e+06</td>\n",
       "      <td>4.693768e+05</td>\n",
       "      <td>5020.854</td>\n",
       "      <td>0</td>\n",
       "      <td>0</td>\n",
       "      <td>0</td>\n",
       "      <td>8.060327</td>\n",
       "      <td>15.186495</td>\n",
       "      <td>13.059161</td>\n",
       "      <td>8.521355</td>\n",
       "      <td>[15.186494971263052, 13.059161087952296, 8.521...</td>\n",
       "      <td>8.940173</td>\n",
       "    </tr>\n",
       "    <tr>\n",
       "      <th>3</th>\n",
       "      <td>IT</td>\n",
       "      <td>MM</td>\n",
       "      <td>2018</td>\n",
       "      <td>E</td>\n",
       "      <td>336.525420</td>\n",
       "      <td>2.138766e+06</td>\n",
       "      <td>8.442461e+04</td>\n",
       "      <td>8264.190</td>\n",
       "      <td>0</td>\n",
       "      <td>0</td>\n",
       "      <td>0</td>\n",
       "      <td>5.818674</td>\n",
       "      <td>14.575740</td>\n",
       "      <td>11.343614</td>\n",
       "      <td>9.019687</td>\n",
       "      <td>[14.575739664561027, 11.34361426943435, 9.0196...</td>\n",
       "      <td>5.738637</td>\n",
       "    </tr>\n",
       "    <tr>\n",
       "      <th>4</th>\n",
       "      <td>IE</td>\n",
       "      <td>HU</td>\n",
       "      <td>2018</td>\n",
       "      <td>I</td>\n",
       "      <td>684.070892</td>\n",
       "      <td>3.731415e+05</td>\n",
       "      <td>1.612189e+05</td>\n",
       "      <td>1895.995</td>\n",
       "      <td>1</td>\n",
       "      <td>0</td>\n",
       "      <td>0</td>\n",
       "      <td>6.528062</td>\n",
       "      <td>12.829713</td>\n",
       "      <td>11.990518</td>\n",
       "      <td>7.547499</td>\n",
       "      <td>[12.829712880136695, 11.990518171454704, 7.547...</td>\n",
       "      <td>6.273388</td>\n",
       "    </tr>\n",
       "  </tbody>\n",
       "</table>\n",
       "</div>"
      ],
      "text/plain": [
       "  REPORTER_ISO PARTNER_ISO  YEAR TRADE_TYPE  TRADE_VOLUME  REPORTER_GDP  \\\n",
       "0           NL          IT  2018          I  34334.068495  9.481008e+05   \n",
       "1           DE          SN  2018          E    129.730191  3.939227e+06   \n",
       "2           DE          NG  2018          E   3166.323784  3.939227e+06   \n",
       "3           IT          MM  2018          E    336.525420  2.138766e+06   \n",
       "4           IE          HU  2018          I    684.070892  3.731415e+05   \n",
       "\n",
       "    PARTNER_GDP  DISTANCE  LANDLOCKED_ANY  COMMON_BORDER  COMMON_LANGUAGE  \\\n",
       "0  2.138766e+06  1297.695               0              0                0   \n",
       "1  2.451909e+04  4643.462               0              0                0   \n",
       "2  4.693768e+05  5020.854               0              0                0   \n",
       "3  8.442461e+04  8264.190               0              0                0   \n",
       "4  1.612189e+05  1895.995               1              0                0   \n",
       "\n",
       "   TRADE_VOLUME_log  REPORTER_GDP_log  PARTNER_GDP_log  DISTANCE_log  \\\n",
       "0         10.443893         13.762216        14.575740      7.168345   \n",
       "1          4.865457         15.186495        10.107207      8.443215   \n",
       "2          8.060327         15.186495        13.059161      8.521355   \n",
       "3          5.818674         14.575740        11.343614      9.019687   \n",
       "4          6.528062         12.829713        11.990518      7.547499   \n",
       "\n",
       "                                            features  prediction  \n",
       "0  [13.762216145603926, 14.575739664561027, 7.168...   10.644123  \n",
       "1  [15.186494971263052, 10.10720716859406, 8.4432...    5.825460  \n",
       "2  [15.186494971263052, 13.059161087952296, 8.521...    8.940173  \n",
       "3  [14.575739664561027, 11.34361426943435, 9.0196...    5.738637  \n",
       "4  [12.829712880136695, 11.990518171454704, 7.547...    6.273388  "
      ]
     },
     "execution_count": 439,
     "metadata": {},
     "output_type": "execute_result"
    }
   ],
   "source": [
    "predictions.toPandas().head()"
   ]
  },
  {
   "cell_type": "code",
   "execution_count": null,
   "metadata": {},
   "outputs": [],
   "source": [
    "# trade_mn, gdp_mn, contig, comlang_off, distance"
   ]
  },
  {
   "cell_type": "markdown",
   "metadata": {},
   "source": [
    "### treating this as prediction task\n",
    "\n",
    "train test split, normalizer, predict, etc\n",
    "\n",
    "https://spark.apache.org/docs/latest/ml-features#standardscaler"
   ]
  },
  {
   "cell_type": "code",
   "execution_count": null,
   "metadata": {},
   "outputs": [],
   "source": [
    "# normalize features?"
   ]
  },
  {
   "cell_type": "code",
   "execution_count": null,
   "metadata": {},
   "outputs": [],
   "source": []
  },
  {
   "cell_type": "code",
   "execution_count": null,
   "metadata": {},
   "outputs": [],
   "source": []
  }
 ],
 "metadata": {
  "kernelspec": {
   "display_name": "Python 3",
   "language": "python",
   "name": "python3"
  },
  "language_info": {
   "codemirror_mode": {
    "name": "ipython",
    "version": 3
   },
   "file_extension": ".py",
   "mimetype": "text/x-python",
   "name": "python",
   "nbconvert_exporter": "python",
   "pygments_lexer": "ipython3",
   "version": "3.7.5"
  }
 },
 "nbformat": 4,
 "nbformat_minor": 2
}