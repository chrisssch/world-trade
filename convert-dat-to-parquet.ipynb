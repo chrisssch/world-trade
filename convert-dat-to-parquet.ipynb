{
 "cells": [
  {
   "cell_type": "markdown",
   "metadata": {},
   "source": [
    "# World Trade: Convert data to parquet"
   ]
  },
  {
   "cell_type": "code",
   "execution_count": 2,
   "metadata": {},
   "outputs": [],
   "source": [
    "# Initialization and configuration\n",
    "import findspark\n",
    "findspark.init()\n",
    "\n",
    "from pyspark import SparkConf, SparkContext, SQLContext\n",
    "from pyspark.sql import SparkSession\n",
    "\n",
    "# Spark\n",
    "from pyspark.sql.types import *\n",
    "\n",
    "# Python\n",
    "import os"
   ]
  },
  {
   "cell_type": "markdown",
   "metadata": {},
   "source": [
    "## Initialize and configure Spark\n",
    "\n",
    "http://localhost:4040/"
   ]
  },
  {
   "cell_type": "code",
   "execution_count": 3,
   "metadata": {},
   "outputs": [],
   "source": [
    "# Configuration\n",
    "conf = SparkConf().setAppName(\"WorldTrade\").setMaster(\"local[4]\")\n",
    "conf.set(\"spark.driver.maxResultSize\", \"2g\")\n",
    "conf.set(\"spark.driver.memory\", \"2g\")\n",
    "conf.set(\"spark.executor.memory\", \"2g\") \n",
    "conf.set(\"spark.executor.pyspark.memory\", \"2g\")\n",
    "\n",
    "# Initialization\n",
    "sc = SparkContext(conf=conf)\n",
    "sqlc = SQLContext(sc)\n",
    "spark = SparkSession(sc)"
   ]
  },
  {
   "cell_type": "markdown",
   "metadata": {},
   "source": [
    "## Flow data: Convert .dat files to parquet files"
   ]
  },
  {
   "cell_type": "code",
   "execution_count": 4,
   "metadata": {},
   "outputs": [],
   "source": [
    "# Define schema \n",
    "\n",
    "fields = [\n",
    "    StructField(\"REPORTER\", IntegerType(), True),\n",
    "    StructField(\"REPORTER_ISO\", StringType(), True),\n",
    "    StructField(\"PARTNER\", IntegerType(), True),\n",
    "    StructField(\"PARTNER_ISO\", StringType(), True),\n",
    "    StructField(\"TRADE_TYPE\", StringType(), True),\n",
    "    StructField(\"PRODUCT_NC\", StringType(), True),\n",
    "    StructField(\"PRODUCT_SITC\", StringType(), True),\n",
    "    StructField(\"PRODUCT_CPA2002\", StringType(), True),\n",
    "    StructField(\"PRODUCT_CPA2008\", StringType(), True),\n",
    "    StructField(\"PRODUCT_CPA2_1\", StringType(), True),\n",
    "    StructField(\"PRODUCT_BEC\", StringType(), True),\n",
    "    StructField(\"PRODUCT_SECTION\", StringType(), True),\n",
    "    StructField(\"FLOW\", IntegerType(), True),\n",
    "    StructField(\"STAT_REGIME\", IntegerType(), True),\n",
    "    StructField(\"SUPP_UNIT\", StringType(), True),\n",
    "    StructField(\"PERIOD\", StringType(), True),\n",
    "    StructField(\"VALUE_IN_EUROS\", LongType(), True),\n",
    "    StructField(\"QUANTITY_IN_KG\", LongType(), True),\n",
    "    StructField(\"SUP_QUANTITY\", IntegerType(), True)    \n",
    "]\n",
    "\n",
    "schema = StructType(fields)"
   ]
  },
  {
   "cell_type": "code",
   "execution_count": 6,
   "metadata": {},
   "outputs": [
    {
     "data": {
      "text/plain": [
       "['2009',\n",
       " '2010',\n",
       " '2011',\n",
       " '2012',\n",
       " '2013',\n",
       " '2014',\n",
       " '2015',\n",
       " '2016',\n",
       " '2017',\n",
       " '2018']"
      ]
     },
     "execution_count": 6,
     "metadata": {},
     "output_type": "execute_result"
    }
   ],
   "source": [
    "# Folders with monthly .dat files\n",
    "os.listdir(\"data/dat\")"
   ]
  },
  {
   "cell_type": "code",
   "execution_count": null,
   "metadata": {},
   "outputs": [],
   "source": [
    "# Loop over all folders for each year and convert files\n",
    "for year in os.listdir(\"data/dat\"):\n",
    "    source = \"data/dat/\" + year + \"/*.dat\"\n",
    "    destination = \"data/parquet/full\" + year + \".parquet\"\n",
    "    data = spark.read.csv(source, sep=\",\", header=True, schema=schema)\n",
    "    data.coalesce(4).write.parquet(destination, mode=\"overwrite\")\n",
    "    print(year, \": conversion to parquet complete\")"
   ]
  },
  {
   "cell_type": "code",
   "execution_count": null,
   "metadata": {},
   "outputs": [],
   "source": []
  }
 ],
 "metadata": {
  "kernelspec": {
   "display_name": "Python 3",
   "language": "python",
   "name": "python3"
  },
  "language_info": {
   "codemirror_mode": {
    "name": "ipython",
    "version": 3
   },
   "file_extension": ".py",
   "mimetype": "text/x-python",
   "name": "python",
   "nbconvert_exporter": "python",
   "pygments_lexer": "ipython3",
   "version": "3.7.3"
  }
 },
 "nbformat": 4,
 "nbformat_minor": 2
}
