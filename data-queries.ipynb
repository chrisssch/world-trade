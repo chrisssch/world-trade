{
 "cells": [
  {
   "cell_type": "markdown",
   "metadata": {},
   "source": [
    "# World Trade: Queries"
   ]
  },
  {
   "cell_type": "code",
   "execution_count": 1,
   "metadata": {},
   "outputs": [],
   "source": [
    "# Initialization and configuration\n",
    "import findspark\n",
    "findspark.init()\n",
    "\n",
    "from pyspark import SparkConf, SparkContext, SQLContext\n",
    "from pyspark.sql import SparkSession\n",
    "\n",
    "# Spark\n",
    "from pyspark.sql.types import *\n",
    "from pyspark.sql.functions import *"
   ]
  },
  {
   "cell_type": "markdown",
   "metadata": {},
   "source": [
    "## Initialize and configure Spark\n",
    "\n",
    "http://localhost:4040/"
   ]
  },
  {
   "cell_type": "code",
   "execution_count": 2,
   "metadata": {},
   "outputs": [],
   "source": [
    "# Configuration\n",
    "conf = SparkConf().setAppName(\"WorldTrade\").setMaster(\"local[6]\")\n",
    "conf.set(\"spark.driver.maxResultSize\", \"2g\")\n",
    "conf.set(\"spark.driver.memory\", \"2g\")\n",
    "conf.set(\"spark.executor.memory\", \"2g\") \n",
    "conf.set(\"spark.executor.pyspark.memory\", \"2g\")\n",
    "\n",
    "# Initialization\n",
    "sc = SparkContext(conf=conf)\n",
    "sqlc = SQLContext(sc)\n",
    "spark = SparkSession(sc)"
   ]
  },
  {
   "cell_type": "markdown",
   "metadata": {},
   "source": [
    "## Read reporter, partner, product names (= dimensions)"
   ]
  },
  {
   "cell_type": "code",
   "execution_count": 4,
   "metadata": {},
   "outputs": [],
   "source": [
    "# Reporters\n",
    "\n",
    "schema = StructType([\n",
    "    StructField(\"REPORTER\", IntegerType(), True),\n",
    "    StructField(\"START_DATE\", StringType(), True),\n",
    "    StructField(\"END_DATE\", StringType(), True),\n",
    "    StructField(\"REPORTER_NAME\", StringType(), True),\n",
    "    StructField(\"_c1\", StringType(), True),\n",
    "    StructField(\"_c2\", StringType(), True)\n",
    "])\n",
    "\n",
    "reporters = spark.read.csv(\"data/metadata/REPORTERS.txt\", sep=\"\\t\", header=False, schema=schema) \\\n",
    "    .select(\"REPORTER\", \"REPORTER_NAME\")\n",
    "reporters = reporters.withColumn(\"REPORTER_NAME\", trim(reporters[\"REPORTER_NAME\"])) \\\n",
    "    .cache() # how to chain?"
   ]
  },
  {
   "cell_type": "code",
   "execution_count": 5,
   "metadata": {},
   "outputs": [
    {
     "name": "stdout",
     "output_type": "stream",
     "text": [
      "+--------+--------------+\n",
      "|REPORTER| REPORTER_NAME|\n",
      "+--------+--------------+\n",
      "|       1|        France|\n",
      "|       2|   Belg.-Luxbg|\n",
      "|       3|   Netherlands|\n",
      "|       4|    Fr Germany|\n",
      "|       5|         Italy|\n",
      "|       6|  Utd. Kingdom|\n",
      "|       7|       Ireland|\n",
      "|       8|       Denmark|\n",
      "|       9|        Greece|\n",
      "|      10|      Portugal|\n",
      "|      11|         Spain|\n",
      "|      17|       Belgium|\n",
      "|      18|    Luxembourg|\n",
      "|      30|        Sweden|\n",
      "|      32|       Finland|\n",
      "|      38|       Austria|\n",
      "|      46|         Malta|\n",
      "|      53|       Estonia|\n",
      "|      54|        Latvia|\n",
      "|      55|     Lithuania|\n",
      "|      60|        Poland|\n",
      "|      61|Czech Republic|\n",
      "|      63|      Slovakia|\n",
      "|      64|       Hungary|\n",
      "|      66|       Romania|\n",
      "|      68|      Bulgaria|\n",
      "|      91|      Slovenia|\n",
      "|      92|       Croatia|\n",
      "|     600|        Cyprus|\n",
      "+--------+--------------+\n",
      "\n"
     ]
    }
   ],
   "source": [
    "reporters.show(30)"
   ]
  },
  {
   "cell_type": "code",
   "execution_count": 9,
   "metadata": {},
   "outputs": [],
   "source": [
    "# Partners\n",
    "\n",
    "schema = StructType([\n",
    "    StructField(\"PARTNER\", IntegerType(), True),\n",
    "    StructField(\"START_DATE\", StringType(), True),\n",
    "    StructField(\"END_DATE\", StringType(), True),\n",
    "    StructField(\"PARTNER_NAME\", StringType(), True),\n",
    "    StructField(\"_c1\", StringType(), True),\n",
    "    StructField(\"_c2\", StringType(), True)\n",
    "])\n",
    "\n",
    "partners = spark.read.csv(\"data/metadata/PARTNERS.txt\", sep=\"\\t\", header=False, schema=schema)\n",
    "partners = partners.filter(partners[\"END_DATE\"] == \"31/12/2500\") \\\n",
    "    .withColumn(\"PARTNER_NAME\", trim(partners[\"PARTNER_NAME\"])) \\\n",
    "    .cache()   # how to chain?\n",
    "\n",
    "\n",
    "# filter out territorries that don't legally exist anymore"
   ]
  },
  {
   "cell_type": "code",
   "execution_count": 11,
   "metadata": {},
   "outputs": [
    {
     "data": {
      "text/plain": [
       "249"
      ]
     },
     "execution_count": 11,
     "metadata": {},
     "output_type": "execute_result"
    }
   ],
   "source": [
    "partners.count()"
   ]
  },
  {
   "cell_type": "code",
   "execution_count": 10,
   "metadata": {},
   "outputs": [
    {
     "name": "stdout",
     "output_type": "stream",
     "text": [
      "+-------+----------+----------+--------------+----------+----------+\n",
      "|PARTNER|START_DATE|  END_DATE|  PARTNER_NAME|       _c1|       _c2|\n",
      "+-------+----------+----------+--------------+----------+----------+\n",
      "|      1|01/01/1997|31/12/2500|        France|01/01/1997|31/12/2500|\n",
      "|      3|01/01/1976|31/12/2500|   Netherlands|01/01/1976|31/12/2500|\n",
      "|      4|01/01/1991|31/12/2500|       Germany|01/01/1991|31/12/2500|\n",
      "|      5|01/01/1994|31/12/2500|         Italy|01/01/1994|31/12/2500|\n",
      "|      6|01/01/1976|31/12/2500|United Kingdom|01/01/1976|31/12/2500|\n",
      "+-------+----------+----------+--------------+----------+----------+\n",
      "only showing top 5 rows\n",
      "\n"
     ]
    }
   ],
   "source": [
    "partners.show(5)"
   ]
  },
  {
   "cell_type": "code",
   "execution_count": null,
   "metadata": {},
   "outputs": [],
   "source": []
  },
  {
   "cell_type": "code",
   "execution_count": 13,
   "metadata": {},
   "outputs": [],
   "source": [
    "# Products\n",
    "\n",
    "schema = StructType([\n",
    "    StructField(\"PRODUCT_NC\", StringType(), True),\n",
    "    StructField(\"START_DATE\", StringType(), True),\n",
    "    StructField(\"END_DATE\", StringType(), True),\n",
    "    StructField(\"_c1\", StringType(), True),\n",
    "    StructField(\"PRODUCT_NAME\", StringType(), True),\n",
    "    StructField(\"_c2\", StringType(), True),\n",
    "    StructField(\"_c3\", StringType(), True)   \n",
    "])\n",
    "\n",
    "products = spark.read.csv(\"data/metadata/CN.txt\", sep=\"\\t\", header=False, schema=schema) \\\n",
    "    .select(\"PRODUCT_NC\", \"PRODUCT_NAME\")\n",
    "products = products.withColumn(\"PRODUCT_NAME\", trim(products[\"PRODUCT_NAME\"])) \\\n",
    "    .withColumn(\"PRODUCT_NC_2D\", products.PRODUCT_NC.substr(1, 2)) \\\n",
    "    .cache()   # how to chain?"
   ]
  },
  {
   "cell_type": "code",
   "execution_count": 14,
   "metadata": {},
   "outputs": [
    {
     "data": {
      "text/plain": [
       "31154"
      ]
     },
     "execution_count": 14,
     "metadata": {},
     "output_type": "execute_result"
    }
   ],
   "source": [
    "products.count()"
   ]
  },
  {
   "cell_type": "code",
   "execution_count": 15,
   "metadata": {},
   "outputs": [
    {
     "name": "stdout",
     "output_type": "stream",
     "text": [
      "+----------+--------------------+-------------+\n",
      "|PRODUCT_NC|        PRODUCT_NAME|PRODUCT_NC_2D|\n",
      "+----------+--------------------+-------------+\n",
      "|        01|        LIVE ANIMALS|           01|\n",
      "|      0101|LIVE HORSES, ASSE...|           01|\n",
      "|    010110|PURE-BRED BREEDIN...|           01|\n",
      "|  01011010|PURE-BRED BREEDIN...|           01|\n",
      "|  01011090|PURE-BRED BREEDIN...|           01|\n",
      "+----------+--------------------+-------------+\n",
      "only showing top 5 rows\n",
      "\n"
     ]
    }
   ],
   "source": [
    "products.show(5)"
   ]
  },
  {
   "cell_type": "markdown",
   "metadata": {},
   "source": [
    "## Query examples\n",
    "\n",
    "### Load and cache all data for just one year (for the sake of speed)\n",
    "\n",
    "\n",
    "### Read trade flow data\n",
    "\n",
    "Code:  *TO BE UPDATED!*\n",
    "```python\n",
    "\n",
    "flows = spark.read.parquet(\"data_parquet/full2018.parquet\") \\\n",
    "    .select(\"REPORTER\", \"REPORTER_ISO\", \"PARTNER\", \"PARTNER_ISO\", \"TRADE_TYPE\", \"PRODUCT_NC\", \"FLOW\", \"PERIOD\", \"VALUE_IN_EUROS\")\n",
    "flows = flows.withColumn(\"YEAR\", flows.PERIOD.substr(1, 4).cast(IntegerType())) \\\n",
    "    .groupBy(\"REPORTER\", \"REPORTER_ISO\", \"PARTNER\", \"PARTNER_ISO\", \"TRADE_TYPE\", \"PRODUCT_NC\", \"FLOW\", \"YEAR\").agg({\"VALUE_IN_EUROS\": \"sum\"}) \\\n",
    "    .groupBy(\"REPORTER\", \"REPORTER_ISO\", \"PARTNER\", \"PARTNER_ISO\", \"TRADE_TYPE\", \"PRODUCT_NC\", \"YEAR\") \\\n",
    "    .pivot(\"FLOW\", [1, 2]).sum(\"sum(VALUE_IN_EUROS)\") \\\n",
    "    .withColumnRenamed(\"1\", \"IMPORTS\").withColumnRenamed(\"2\", \"EXPORTS\")\n",
    "\n",
    "\n",
    "```\n",
    "\n",
    "What's going on here:\n",
    "1. Read from parquet files\n",
    "2. Select relevnat columns\n",
    "3. Generate column \"YEAR\"; probably better to use date functions\n",
    "4. Aggregate values for all months over each year as well as all other columns\n",
    "5. Pivot: Generate columns \"1\" and \"2\" from \"sum(VALUE_IN_EUROS)\" and the categories of \"FLOW\"\n",
    "6. Rename \"1\" and \"2\" to \"IMPORTS and \"EXPORTS\n",
    "\n"
   ]
  },
  {
   "cell_type": "code",
   "execution_count": 17,
   "metadata": {},
   "outputs": [
    {
     "name": "stdout",
     "output_type": "stream",
     "text": [
      "root\n",
      " |-- REPORTER: integer (nullable = true)\n",
      " |-- REPORTER_ISO: string (nullable = true)\n",
      " |-- PARTNER: integer (nullable = true)\n",
      " |-- PARTNER_ISO: string (nullable = true)\n",
      " |-- TRADE_TYPE: string (nullable = true)\n",
      " |-- PRODUCT_NC: string (nullable = true)\n",
      " |-- PRODUCT_SITC: string (nullable = true)\n",
      " |-- PRODUCT_CPA2002: string (nullable = true)\n",
      " |-- PRODUCT_CPA2008: string (nullable = true)\n",
      " |-- PRODUCT_CPA2_1: string (nullable = true)\n",
      " |-- PRODUCT_BEC: string (nullable = true)\n",
      " |-- PRODUCT_SECTION: string (nullable = true)\n",
      " |-- FLOW: integer (nullable = true)\n",
      " |-- STAT_REGIME: integer (nullable = true)\n",
      " |-- SUPP_UNIT: string (nullable = true)\n",
      " |-- PERIOD: string (nullable = true)\n",
      " |-- VALUE_IN_EUROS: long (nullable = true)\n",
      " |-- QUANTITY_IN_KG: long (nullable = true)\n",
      " |-- SUP_QUANTITY: integer (nullable = true)\n",
      "\n"
     ]
    }
   ],
   "source": [
    "spark.read.parquet(\"data/parquet/full2018.parquet\").printSchema()"
   ]
  },
  {
   "cell_type": "code",
   "execution_count": 18,
   "metadata": {},
   "outputs": [],
   "source": [
    "flows = spark.read.parquet(\"data/parquet/full2018.parquet\")\n",
    "\n",
    "flows = flows \\\n",
    "    .withColumn(\"YEAR\", flows[\"PERIOD\"].substr(1, 4).cast(IntegerType())) \\\n",
    "    .select(\"REPORTER\", \"REPORTER_ISO\", \"PARTNER\", \"PARTNER_ISO\", \"TRADE_TYPE\", \"PRODUCT_NC\", \"FLOW\", \"YEAR\", \"VALUE_IN_EUROS\") \\\n",
    "    .filter(flows[\"PRODUCT_NC\"] != \"TOTAL\") \\\n",
    "    .groupBy(\"REPORTER\", \"REPORTER_ISO\", \"PARTNER\", \"PARTNER_ISO\", \"TRADE_TYPE\", \"PRODUCT_NC\", \"FLOW\", \"YEAR\").agg({\"VALUE_IN_EUROS\": \"sum\"}) \\\n",
    "    .groupBy(\"REPORTER\", \"REPORTER_ISO\", \"PARTNER\", \"PARTNER_ISO\", \"TRADE_TYPE\", \"PRODUCT_NC\", \"YEAR\").pivot(\"FLOW\", [1, 2]).sum(\"sum(VALUE_IN_EUROS)\") \\\n",
    "    .withColumnRenamed(\"1\", \"IMPORTS\").withColumnRenamed(\"2\", \"EXPORTS\") \\\n",
    "    .cache()   \n",
    "    \n",
    "### how to chain?\n",
    "### combine into one groupby"
   ]
  },
  {
   "cell_type": "code",
   "execution_count": 19,
   "metadata": {},
   "outputs": [
    {
     "name": "stdout",
     "output_type": "stream",
     "text": [
      "root\n",
      " |-- REPORTER: integer (nullable = true)\n",
      " |-- REPORTER_ISO: string (nullable = true)\n",
      " |-- PARTNER: integer (nullable = true)\n",
      " |-- PARTNER_ISO: string (nullable = true)\n",
      " |-- TRADE_TYPE: string (nullable = true)\n",
      " |-- PRODUCT_NC: string (nullable = true)\n",
      " |-- YEAR: integer (nullable = true)\n",
      " |-- IMPORTS: long (nullable = true)\n",
      " |-- EXPORTS: long (nullable = true)\n",
      "\n"
     ]
    }
   ],
   "source": [
    "flows.printSchema()"
   ]
  },
  {
   "cell_type": "code",
   "execution_count": 20,
   "metadata": {},
   "outputs": [
    {
     "data": {
      "text/plain": [
       "200"
      ]
     },
     "execution_count": 20,
     "metadata": {},
     "output_type": "execute_result"
    }
   ],
   "source": [
    "flows.rdd.getNumPartitions()"
   ]
  },
  {
   "cell_type": "code",
   "execution_count": 21,
   "metadata": {},
   "outputs": [
    {
     "data": {
      "text/plain": [
       "6744086"
      ]
     },
     "execution_count": 21,
     "metadata": {},
     "output_type": "execute_result"
    }
   ],
   "source": [
    "flows.count()"
   ]
  },
  {
   "cell_type": "code",
   "execution_count": 22,
   "metadata": {},
   "outputs": [
    {
     "name": "stdout",
     "output_type": "stream",
     "text": [
      "+--------+------------+-------+-----------+----------+----------+----+-------+-------+\n",
      "|REPORTER|REPORTER_ISO|PARTNER|PARTNER_ISO|TRADE_TYPE|PRODUCT_NC|YEAR|IMPORTS|EXPORTS|\n",
      "+--------+------------+-------+-----------+----------+----------+----+-------+-------+\n",
      "|       1|          FR|      6|         GB|         I|  68159100|2018| 451553|    923|\n",
      "|       1|          FR|     17|         BE|         I|  44199010|2018| 565042|  12173|\n",
      "|       1|          FR|     30|         SE|         I|  96132000|2018|   null|   7134|\n",
      "|       1|          FR|     39|         CH|         E|  15159060|2018|   8608| 109757|\n",
      "|       1|          FR|     60|         PL|         I|  84804900|2018| 303859|   null|\n",
      "+--------+------------+-------+-----------+----------+----------+----+-------+-------+\n",
      "only showing top 5 rows\n",
      "\n"
     ]
    }
   ],
   "source": [
    "flows.show(5)"
   ]
  },
  {
   "cell_type": "code",
   "execution_count": 23,
   "metadata": {},
   "outputs": [
    {
     "data": {
      "text/plain": [
       "28"
      ]
     },
     "execution_count": 23,
     "metadata": {},
     "output_type": "execute_result"
    }
   ],
   "source": [
    "flows.select(\"REPORTER\").distinct().count()"
   ]
  },
  {
   "cell_type": "code",
   "execution_count": 24,
   "metadata": {},
   "outputs": [
    {
     "data": {
      "text/plain": [
       "246"
      ]
     },
     "execution_count": 24,
     "metadata": {},
     "output_type": "execute_result"
    }
   ],
   "source": [
    "flows.select(\"PARTNER\").distinct().count()"
   ]
  },
  {
   "cell_type": "code",
   "execution_count": 25,
   "metadata": {},
   "outputs": [
    {
     "data": {
      "text/plain": [
       "9964"
      ]
     },
     "execution_count": 25,
     "metadata": {},
     "output_type": "execute_result"
    }
   ],
   "source": [
    "flows.select(\"PRODUCT_NC\").distinct().count()"
   ]
  },
  {
   "cell_type": "markdown",
   "metadata": {},
   "source": [
    "### Example: Total German exports in 2018"
   ]
  },
  {
   "cell_type": "code",
   "execution_count": 142,
   "metadata": {},
   "outputs": [
    {
     "name": "stdout",
     "output_type": "stream",
     "text": [
      "+------------+-------------+----+-----------+\n",
      "|REPORTER_ISO|REPORTER_NAME|YEAR|EXPORTS_MN |\n",
      "+------------+-------------+----+-----------+\n",
      "|DE          |Fr Germany   |2018|1320837.948|\n",
      "+------------+-------------+----+-----------+\n",
      "\n"
     ]
    }
   ],
   "source": [
    "query = flows \\\n",
    "    .filter(flows[\"REPORTER_ISO\"] == \"DE\") \\\n",
    "    .filter(flows[\"YEAR\"] == 2018) \\\n",
    "    .select(\"REPORTER\", \"REPORTER_ISO\", \"YEAR\", \"EXPORTS\") \\\n",
    "    .groupBy(\"REPORTER\", \"REPORTER_ISO\", \"YEAR\").agg({\"EXPORTS\": \"sum\"})\n",
    "\n",
    "query = query.withColumn(\"EXPORTS_MN\", round(query[\"sum(EXPORTS)\"]/1e6, 3)) \\\n",
    "    .drop(\"sum(EXPORTS)\") \\\n",
    "    .join(broadcast(reporters), \"REPORTER\", how=\"left\") \\\n",
    "    .select(\"REPORTER_ISO\", \"REPORTER_NAME\", \"YEAR\", \"EXPORTS_MN\")\n",
    "\n",
    "query.orderBy(query[\"EXPORTS_MN\"].desc()).show(10, truncate=False)"
   ]
  },
  {
   "cell_type": "markdown",
   "metadata": {},
   "source": [
    "### Example: German exports, imports, trade balance (total & by country)"
   ]
  },
  {
   "cell_type": "code",
   "execution_count": null,
   "metadata": {},
   "outputs": [],
   "source": [
    "# TBD"
   ]
  },
  {
   "cell_type": "markdown",
   "metadata": {},
   "source": [
    "### Example: EU exports, imports, trade balance"
   ]
  },
  {
   "cell_type": "code",
   "execution_count": null,
   "metadata": {},
   "outputs": [],
   "source": [
    "# TBD"
   ]
  },
  {
   "cell_type": "markdown",
   "metadata": {},
   "source": [
    "### Example: Top 10 German export destinations in 2018"
   ]
  },
  {
   "cell_type": "code",
   "execution_count": 140,
   "metadata": {},
   "outputs": [
    {
     "name": "stdout",
     "output_type": "stream",
     "text": [
      "+------------+-------------+-----------+------------------------+----+----------+\n",
      "|REPORTER_ISO|REPORTER_NAME|PARTNER_ISO|PARTNER_NAME            |YEAR|EXPORTS_MN|\n",
      "+------------+-------------+-----------+------------------------+----+----------+\n",
      "|DE          |Fr Germany   |US         |United States of America|2018|114480.812|\n",
      "|DE          |Fr Germany   |FR         |France                  |2018|105138.035|\n",
      "|DE          |Fr Germany   |CN         |China                   |2018|93680.025 |\n",
      "|DE          |Fr Germany   |NL         |Netherlands             |2018|84295.499 |\n",
      "|DE          |Fr Germany   |GB         |United Kingdom          |2018|81773.801 |\n",
      "|DE          |Fr Germany   |IT         |Italy                   |2018|69716.726 |\n",
      "|DE          |Fr Germany   |AT         |Austria                 |2018|63726.179 |\n",
      "|DE          |Fr Germany   |PL         |Poland                  |2018|63290.487 |\n",
      "|DE          |Fr Germany   |CH         |Switzerland             |2018|53626.716 |\n",
      "|DE          |Fr Germany   |BE         |Belgium                 |2018|44238.104 |\n",
      "+------------+-------------+-----------+------------------------+----+----------+\n",
      "only showing top 10 rows\n",
      "\n"
     ]
    }
   ],
   "source": [
    "query = flows \\\n",
    "    .filter(flows[\"REPORTER_ISO\"] == \"DE\") \\\n",
    "    .filter(flows[\"YEAR\"] == 2018) \\\n",
    "    .select(\"REPORTER\", \"REPORTER_ISO\", \"PARTNER\", \"PARTNER_ISO\", \"YEAR\", \"EXPORTS\") \\\n",
    "    .groupBy(\"REPORTER\", \"REPORTER_ISO\", \"PARTNER\", \"PARTNER_ISO\", \"YEAR\").agg({\"EXPORTS\": \"sum\"})\n",
    "\n",
    "query = query.withColumn(\"EXPORTS_MN\", round(query[\"sum(EXPORTS)\"]/1e6, 3)) \\\n",
    "    .drop(\"sum(EXPORTS)\") \\\n",
    "    .join(broadcast(reporters), \"REPORTER\", how=\"left\") \\\n",
    "    .join(broadcast(partners), \"PARTNER\", how=\"left\") \\\n",
    "    .select(\"REPORTER_ISO\", \"REPORTER_NAME\", \"PARTNER_ISO\", \"PARTNER_NAME\", \"YEAR\", \"EXPORTS_MN\")\n",
    "\n",
    "query.orderBy(query[\"EXPORTS_MN\"].desc()).show(10, truncate=False)"
   ]
  },
  {
   "cell_type": "markdown",
   "metadata": {},
   "source": [
    "### Partner by reporter, ranked by exports"
   ]
  },
  {
   "cell_type": "code",
   "execution_count": 157,
   "metadata": {},
   "outputs": [],
   "source": [
    "from pyspark.sql.window import Window\n",
    "import pyspark.sql.functions as F"
   ]
  },
  {
   "cell_type": "code",
   "execution_count": 170,
   "metadata": {},
   "outputs": [
    {
     "name": "stdout",
     "output_type": "stream",
     "text": [
      "+------------+--------+-------------+-----------+-------+--------------------+----+----------+\n",
      "|REPORTER_ISO|REPORTER|REPORTER_NAME|PARTNER_ISO|PARTNER|        PARTNER_NAME|RANK|EXPORTS_MN|\n",
      "+------------+--------+-------------+-----------+-------+--------------------+----+----------+\n",
      "|          DK|       8|      Denmark|         DE|      4|             Germany|   1| 13729.969|\n",
      "|          DK|       8|      Denmark|         SE|     30|              Sweden|   2|  9669.942|\n",
      "|          DK|       8|      Denmark|         QZ|    979|Countries and ter...|   3|  9203.426|\n",
      "|          DK|       8|      Denmark|         GB|      6|      United Kingdom|   4|  5888.923|\n",
      "|          DK|       8|      Denmark|         QY|    978|Countries and ter...|   5|  5356.036|\n",
      "|          DK|       8|      Denmark|         NO|     28|              Norway|   6|  5164.612|\n",
      "|          DK|       8|      Denmark|         NL|      3|         Netherlands|   7|  4121.748|\n",
      "|          DK|       8|      Denmark|         US|    400|United States of ...|   8|  3971.658|\n",
      "|          DK|       8|      Denmark|         FR|      1|              France|   9|  3017.698|\n",
      "|          DK|       8|      Denmark|         CN|    720|               China|  10|  2661.984|\n",
      "|          DK|       8|      Denmark|         PL|     60|              Poland|  11|  2568.846|\n",
      "|          DK|       8|      Denmark|         IT|      5|               Italy|  12|  2163.766|\n",
      "|          DK|       8|      Denmark|         ES|     11|               Spain|  13|  1761.926|\n",
      "|          DK|       8|      Denmark|         FI|     32|             Finland|  14|  1742.318|\n",
      "|          DK|       8|      Denmark|         BE|     17|             Belgium|  15|  1549.156|\n",
      "|          DK|       8|      Denmark|         JP|    732|               Japan|  16|  1232.052|\n",
      "|          DK|       8|      Denmark|         AU|    800|           Australia|  17|   810.183|\n",
      "|          DK|       8|      Denmark|         RU|     75|              Russia|  18|   683.057|\n",
      "|          DK|       8|      Denmark|         TR|     52|              Turkey|  19|   676.246|\n",
      "|          DK|       8|      Denmark|         AT|     38|             Austria|  20|   656.427|\n",
      "|          DK|       8|      Denmark|         CH|     39|         Switzerland|  21|   648.907|\n",
      "|          DK|       8|      Denmark|         HK|    740|           Hong Kong|  22|   614.454|\n",
      "|          DK|       8|      Denmark|         KR|    728| Korea (Republic of)|  23|   601.391|\n",
      "|          DK|       8|      Denmark|         IE|      7|             Ireland|  24|   589.758|\n",
      "|          DK|       8|      Denmark|         CZ|     61|      Czech Republic|  25|   566.818|\n",
      "|          DK|       8|      Denmark|         FO|     41|       Faroe islands|  26|    535.67|\n",
      "|          DK|       8|      Denmark|         SA|    632|        Saudi Arabia|  27|   524.529|\n",
      "|          DK|       8|      Denmark|         CA|    404|              Canada|  28|   519.033|\n",
      "|          DK|       8|      Denmark|         HU|     64|             Hungary|  29|   502.043|\n",
      "|          DK|       8|      Denmark|         IS|     24|             Iceland|  30|   485.367|\n",
      "|          DK|       8|      Denmark|         LT|     55|           Lithuania|  31|   450.922|\n",
      "|          DK|       8|      Denmark|         GL|    406|           Greenland|  32|   417.038|\n",
      "|          DK|       8|      Denmark|         GR|      9|              Greece|  33|   400.565|\n",
      "|          DK|       8|      Denmark|         SG|    706|           Singapore|  34|   400.199|\n",
      "|          DK|       8|      Denmark|         IN|    664|               India|  35|    383.56|\n",
      "|          DK|       8|      Denmark|         TH|    680|            Thailand|  36|   327.497|\n",
      "|          DK|       8|      Denmark|         AE|    647|United Arab Emirates|  37|   323.759|\n",
      "|          DK|       8|      Denmark|         MX|    412|              Mexico|  38|   321.087|\n",
      "|          DK|       8|      Denmark|         MH|    824|    Marshall islands|  39|   301.023|\n",
      "|          DK|       8|      Denmark|         BR|    508|              Brazil|  40|   281.637|\n",
      "|          DK|       8|      Denmark|         LV|     54|              Latvia|  41|   263.519|\n",
      "|          DK|       8|      Denmark|         QS|    952|Stores and provis...|  42|   260.557|\n",
      "|          DK|       8|      Denmark|         EE|     53|             Estonia|  43|   258.235|\n",
      "|          DK|       8|      Denmark|         PT|     10|            Portugal|  44|   256.522|\n",
      "|          DK|       8|      Denmark|         VN|    690|             Vietnam|  45|   253.197|\n",
      "|          DK|       8|      Denmark|         RO|     66|             Romania|  46|   252.601|\n",
      "|          DK|       8|      Denmark|         QW|    960|Countries and ter...|  47|   250.505|\n",
      "|          DK|       8|      Denmark|         UA|     72|             Ukraine|  48|   238.728|\n",
      "|          DK|       8|      Denmark|         TW|    736|              Taiwan|  49|   230.457|\n",
      "|          DK|       8|      Denmark|         SK|     63|            Slovakia|  50|   225.935|\n",
      "+------------+--------+-------------+-----------+-------+--------------------+----+----------+\n",
      "only showing top 50 rows\n",
      "\n"
     ]
    }
   ],
   "source": [
    "query = flows \\\n",
    "    .filter(flows[\"YEAR\"] == 2018) \\\n",
    "    .select(\"REPORTER\", \"REPORTER_ISO\", \"PARTNER\", \"PARTNER_ISO\", \"EXPORTS\") \\\n",
    "    .groupBy(\"REPORTER\", \"REPORTER_ISO\", \"PARTNER\", \"PARTNER_ISO\").agg({\"EXPORTS\": \"sum\"})\n",
    "\n",
    "query = query \\\n",
    "    .withColumn(\"EXPORTS_MN\", round(query[\"sum(EXPORTS)\"]/1e6, 3)) \\\n",
    "    .select(\"REPORTER\", \"REPORTER_ISO\", \"PARTNER\", \"PARTNER_ISO\", \"EXPORTS_MN\")\n",
    "\n",
    "query = query.withColumn(\"RANK\", F.rank().over(\n",
    "        Window.partitionBy(query[\"REPORTER_ISO\"]).orderBy(query[\"EXPORTS_MN\"].desc())\n",
    "    )) \\\n",
    "    .join(broadcast(reporters), \"REPORTER\", how=\"left\") \\\n",
    "    .join(broadcast(partners), \"PARTNER\", how=\"left\") \\\n",
    "    .select(\"REPORTER_ISO\", \"REPORTER\", \"REPORTER_NAME\", \"PARTNER_ISO\", \"PARTNER\", \"PARTNER_NAME\", \"RANK\", \"EXPORTS_MN\")\n",
    "\n",
    "query.filter(query[\"REPORTER_ISO\"] == \"DK\").orderBy(query[\"RANK\"]).show(50)"
   ]
  },
  {
   "cell_type": "code",
   "execution_count": null,
   "metadata": {},
   "outputs": [],
   "source": []
  },
  {
   "cell_type": "code",
   "execution_count": 167,
   "metadata": {},
   "outputs": [
    {
     "name": "stdout",
     "output_type": "stream",
     "text": [
      "+------------+-----------+----------+----+\n",
      "|REPORTER_ISO|PARTNER_ISO|EXPORTS_MN|RANK|\n",
      "+------------+-----------+----------+----+\n",
      "|          AT|         DE| 45962.192|   1|\n",
      "|          AT|         US|  9929.259|   2|\n",
      "|          AT|         IT|  9818.516|   3|\n",
      "|          AT|         SK|  7357.566|   4|\n",
      "|          AT|         CH|  7140.668|   5|\n",
      "|          AT|         FR|  6536.109|   6|\n",
      "|          AT|         CZ|  5689.183|   7|\n",
      "|          AT|         HU|  5193.854|   8|\n",
      "|          AT|         PL|  5088.566|   9|\n",
      "|          AT|         CN|  4246.576|  10|\n",
      "|          AT|         GB|  4225.856|  11|\n",
      "|          AT|         SI|  3119.872|  12|\n",
      "|          AT|         NL|   3019.41|  13|\n",
      "|          AT|         ES|  2682.828|  14|\n",
      "|          AT|         RO|  2663.557|  15|\n",
      "|          AT|         BE|   2255.95|  16|\n",
      "|          AT|         RU|   2108.85|  17|\n",
      "|          AT|         SE|  1753.033|  18|\n",
      "|          AT|         JP|   1472.87|  19|\n",
      "|          AT|         HR|   1339.12|  20|\n",
      "|          AT|         TR|  1336.443|  21|\n",
      "|          AT|         MX|  1296.965|  22|\n",
      "|          AT|         AU|  1231.162|  23|\n",
      "|          AT|         CA|  1175.574|  24|\n",
      "|          AT|         KR|   964.834|  25|\n",
      "|          AT|         IN|   953.748|  26|\n",
      "|          AT|         BR|   835.665|  27|\n",
      "|          AT|         BG|   770.096|  28|\n",
      "|          AT|         DK|   742.219|  29|\n",
      "|          AT|         XS|   691.096|  30|\n",
      "|          AT|         FI|   672.489|  31|\n",
      "|          AT|         QY|    649.85|  32|\n",
      "|          AT|         ZA|   599.065|  33|\n",
      "|          AT|         NO|   587.442|  34|\n",
      "|          AT|         AE|   561.743|  35|\n",
      "|          AT|         MY|   545.351|  36|\n",
      "|          AT|         UA|   524.877|  37|\n",
      "|          AT|         TW|   524.159|  38|\n",
      "|          AT|         HK|   491.264|  39|\n",
      "|          AT|         LI|   453.285|  40|\n",
      "|          AT|         GR|    430.97|  41|\n",
      "|          AT|         PT|   419.302|  42|\n",
      "|          AT|         SG|   411.405|  43|\n",
      "|          AT|         BA|   403.936|  44|\n",
      "|          AT|         IL|   383.262|  45|\n",
      "|          AT|         SA|   354.542|  46|\n",
      "|          AT|         IE|   315.005|  47|\n",
      "|          AT|         TH|   287.758|  48|\n",
      "|          AT|         DZ|   261.832|  49|\n",
      "|          AT|         IR|   261.592|  50|\n",
      "+------------+-----------+----------+----+\n",
      "only showing top 50 rows\n",
      "\n"
     ]
    }
   ],
   "source": [
    "query = flows \\\n",
    "    .filter(flows[\"YEAR\"] == 2018) \\\n",
    "    .select(\"REPORTER_ISO\", \"PARTNER_ISO\", \"EXPORTS\") \\\n",
    "    .groupBy(\"REPORTER_ISO\", \"PARTNER_ISO\").agg({\"EXPORTS\": \"sum\"})\n",
    "\n",
    "query = query \\\n",
    "    .withColumn(\"EXPORTS_MN\", round(query[\"sum(EXPORTS)\"]/1e6, 3)) \\\n",
    "    .select(\"REPORTER_ISO\", \"PARTNER_ISO\", \"EXPORTS_MN\")\n",
    "\n",
    "query = query.withColumn(\"RANK\", F.rank().over(\n",
    "        Window.partitionBy(query[\"REPORTER_ISO\"]).orderBy(query[\"EXPORTS_MN\"].desc())\n",
    "    ))\n",
    "\n",
    "query.orderBy(query[\"REPORTER_ISO\"], query[\"RANK\"]).show(50)"
   ]
  },
  {
   "cell_type": "markdown",
   "metadata": {},
   "source": [
    "### Example: Top 10 German exports (8-digit categories)"
   ]
  },
  {
   "cell_type": "code",
   "execution_count": 156,
   "metadata": {},
   "outputs": [
    {
     "name": "stdout",
     "output_type": "stream",
     "text": [
      "+----------+-------------------------------------------------------------------------------------------------------------------------------------------------------------------------------------------------------------------------------------------------------------------------------------------------------------------------------------------------------------------------------------------------------------------------------------------------------------------------------------------------------------------------------------------------------------+----------+\n",
      "|PRODUCT_NC|PRODUCT_NAME                                                                                                                                                                                                                                                                                                                                                                                                                                                                                                                                                 |EXPORTS_MN|\n",
      "+----------+-------------------------------------------------------------------------------------------------------------------------------------------------------------------------------------------------------------------------------------------------------------------------------------------------------------------------------------------------------------------------------------------------------------------------------------------------------------------------------------------------------------------------------------------------------------+----------+\n",
      "|87032319  |MOTOR CARS AND OTHER MOTOR VEHICLES PRINCIPALLY DESIGNED FOR THE TRANSPORT OF 1 TO 9 PERSONS, INCL. STATION WAGONS AND RACING CARS, WITH SPARK-IGNITION INTERNAL COMBUSTION RECIPROCATING PISTON ENGINE, OF A CYLINDER CAPACITY > 1.500 CM³ BUT <= 3.000 CM³, NEW (EXCL. THOSE OF SUBHEADING 8703 10 AND MOTOR CARAVANS)                                                                                                                                                                                                                                     |55569.464 |\n",
      "|87032319  |MOTOR CARS AND OTHER MOTOR VEHICLES PRINCIPALLY DESIGNED FOR THE TRANSPORT OF <10 PERSONS, INCL. STATION WAGONS AND RACING CARS, WITH ONLY SPARK-IGNITION INTERNAL COMBUSTION RECIPROCATING PISTON ENGINE, OF A CYLINDER CAPACITY > 1.500 CM├É┬│ BUT <= 3.000 CM├É┬│, NEW (EXCL. THOSE OF SUBHEADING 8703.10 AND MOTOR CARAVANS)                                                                                                                                                                                                                             |55569.464 |\n",
      "|30049000  |MEDICAMENTS CONSISTING OF MIXED OR UNMIXED PRODUCTS FOR THERAPEUTIC OR PROPHYLACTIC PURPOSES, PUT UP IN MEASURED DOSES \"INCL. THOSE IN THE FORM OF TRANSDERMAL ADMINISTRATION\" OR IN FORMS OR PACKINGS FOR RETAIL SALE (EXCL. MEDICAMENTS CONTAINING ANTIBIOTICS, MEDICAMENTS CONTAINING HORMONES OR STEROIDS USED AS HORMONES, BUT NOT CONTAINING ANTIBIOTICS, MEDICAMENTS CONTAINING ALKALOIDS OR DERIVATIVES THEREOF BUT NOT CONTAINING HORMONES OR ANTIBIOTICS AND MEDICAMENTS CONTAINING  PROVITAMINS, VITAMINS OR DERIVATIVES THEREOF USED AS VITAMINS)|38125.22  |\n",
      "|30049000  |MEDICAMENTS CONSISTING OF MIXED OR UNMIXED PRODUCTS FOR THERAPEUTIC OR PROPHYLACTIC PURPOSES, PUT UP IN MEASURED DOSES \"INCL. THOSE FOR TRANSDERMAL ADMINISTRATION\" OR IN FORMS OR PACKINGS FOR RETAIL SALE (EXCL. CONTAINING ANTIBIOTICS, HORMONES OR STEROIDS USED AS HORMONES, ALKALOIDS, PROVITAMINS, VITAMINS, THEIR DERIVATIVES OR ANTIMALARIAL ACTIVE PRINCIPLES)                                                                                                                                                                                     |38125.22  |\n",
      "|30049000  |OTHER                                                                                                                                                                                                                                                                                                                                                                                                                                                                                                                                                        |38125.22  |\n",
      "|87033219  |MOTOR CARS AND OTHER MOTOR VEHICLES, PRINCIPALLY DESIGNED FOR THE TRANSPORT OF <10 PERSONS, INCL. STATION WAGONS, WITH ONLY DIESEL ENGINE OF A CYLINDER CAPACITY > 1.500 CM├É┬│ BUT <= 2.500 CM├É┬│, NEW (EXCL. MOTOR CARAVANS AND VEHICLES FOR TRAVELLING ON SNOW AND OTHER SPECIALLY DESIGNED VEHICLES OF SUBHEADING 8703.10)                                                                                                                                                                                                                              |28355.121 |\n",
      "|87033219  |MOTOR CARS AND OTHER MOTOR VEHICLES, PRINCIPALLY DESIGNED FOR THE TRANSPORT OF PERSONS, INCL. STATION WAGONS, WITH COMPRESSION-IGNITION INTERNAL COMBUSTION PISTON ENGINE \"DIESEL OR SEMI-DIESEL ENGINE\" OF A CYLINDER CAPACITY > 1.500 CM³ BUT <= 2.500 CM³, NEW (EXCL. MOTOR CARAVANS AND VEHICLES SPECIALLY DESIGNED FOR TRAVELLING ON SNOW AND OTHER SPECIAL PURPOSE VEHICLES OF SUBHEADING 8703.10)                                                                                                                                                     |28355.121 |\n",
      "|88024000  |AEROPLANES AND OTHER POWERED AIRCRAFT OF AN OF AN UNLADEN WEIGHT > 15.000 KG (EXCL. HELICOPTERS AND DIRIGIBLES)                                                                                                                                                                                                                                                                                                                                                                                                                                              |24534.105 |\n",
      "|30021500  |IMMUNOLOGICAL PRODUCTS, PUT UP IN MEASURED DOSES OR IN FORMS OR PACKINGS FOR RETAIL SALE                                                                                                                                                                                                                                                                                                                                                                                                                                                                     |18349.19  |\n",
      "|87032210  |MOTOR CARS AND OTHER MOTOR VEHICLES PRINCIPALLY DESIGNED FOR THE TRANSPORT OF <10 PERSONS, INCL. STATION WAGONS AND RACING CARS, WITH ONLY SPARK-IGNITION INTERNAL COMBUSTION RECIPROCATING PISTON ENGINE, OF A CYLINDER CAPACITY > 1.000 CM├É┬│ BUT <= 1.500 CM├É┬│, NEW (EXCL. VEHICLES FOR TRAVELLING ON SNOW AND SIMILAR VEHICLES OF SUBHEADING 8703.10)                                                                                                                                                                                                 |12296.544 |\n",
      "+----------+-------------------------------------------------------------------------------------------------------------------------------------------------------------------------------------------------------------------------------------------------------------------------------------------------------------------------------------------------------------------------------------------------------------------------------------------------------------------------------------------------------------------------------------------------------------+----------+\n",
      "only showing top 10 rows\n",
      "\n"
     ]
    }
   ],
   "source": [
    "query = flows \\\n",
    "    .filter(flows[\"REPORTER_ISO\"] == \"DE\") \\\n",
    "    .filter(flows[\"YEAR\"] == 2018) \\\n",
    "    .select(\"REPORTER\", \"REPORTER_ISO\", \"PRODUCT_NC\", \"YEAR\", \"EXPORTS\") \\\n",
    "    .groupBy(\"REPORTER\", \"REPORTER_ISO\", \"PRODUCT_NC\", \"YEAR\").agg({\"EXPORTS\": \"sum\"})\n",
    "\n",
    "query = query.withColumn(\"EXPORTS_MN\", round(query[\"sum(EXPORTS)\"]/1e6, 3)) \\\n",
    "    .drop(\"sum(EXPORTS)\") \\\n",
    "    .join(broadcast(reporters), \"REPORTER\", how=\"left\") \\\n",
    "    .join(broadcast(products), \"PRODUCT_NC\", how=\"left\") \\\n",
    "    .select(\"PRODUCT_NC\", \"PRODUCT_NAME\", \"EXPORTS_MN\")\n",
    "\n",
    "query.orderBy(query[\"EXPORTS_MN\"].desc()).show(10, truncate=False)"
   ]
  },
  {
   "cell_type": "markdown",
   "metadata": {},
   "source": [
    "### Example: Top 10 German exports (2-digit categories)"
   ]
  },
  {
   "cell_type": "code",
   "execution_count": 155,
   "metadata": {},
   "outputs": [
    {
     "name": "stdout",
     "output_type": "stream",
     "text": [
      "+-------------+---------------------------------------------------------------------------------------------------------------------------------------------------------------------------------------+----------+\n",
      "|PRODUCT_NC_2D|PRODUCT_NAME                                                                                                                                                                           |EXPORTS_MN|\n",
      "+-------------+---------------------------------------------------------------------------------------------------------------------------------------------------------------------------------------+----------+\n",
      "|87           |VEHICLES OTHER THAN RAILWAY OR TRAMWAY ROLLING-STOCK, AND PARTS AND ACCESSORIES THEREOF                                                                                                |373834.398|\n",
      "|84           |NUCLEAR REACTORS, BOILERS, MACHINERY AND MECHANICAL APPLIANCES; PARTS THEREOF                                                                                                          |309959.654|\n",
      "|85           |ELECTRICAL MACHINERY AND EQUIPMENT AND PARTS THEREOF; SOUND RECORDERS AND REPRODUCERS, TELEVISION IMAGE AND SOUND RECORDERS AND REPRODUCERS, AND PARTS AND ACCESSORIES OF SUCH ARTICLES|176858.144|\n",
      "|30           |PHARMACEUTICAL PRODUCTS                                                                                                                                                                |168710.8  |\n",
      "|39           |PLASTICS AND ARTICLES THEREOF                                                                                                                                                          |81006.425 |\n",
      "|90           |OPTICAL, PHOTOGRAPHIC, CINEMATOGRAPHIC, MEASURING, CHECKING, PRECISION, MEDICAL OR SURGICAL INSTRUMENTS AND APPARATUS; PARTS AND ACCESSORIES THEREOF                                   |77057.0   |\n",
      "|73           |ARTICLES OF IRON OR STEEL                                                                                                                                                              |44438.537 |\n",
      "|38           |MISCELLANEOUS CHEMICAL PRODUCTS                                                                                                                                                        |38392.05  |\n",
      "|88           |AIRCRAFT, SPACECRAFT, AND PARTS THEREOF                                                                                                                                                |37452.51  |\n",
      "|29           |ORGANIC CHEMICALS                                                                                                                                                                      |35324.696 |\n",
      "+-------------+---------------------------------------------------------------------------------------------------------------------------------------------------------------------------------------+----------+\n",
      "only showing top 10 rows\n",
      "\n"
     ]
    }
   ],
   "source": [
    "query = flows \\\n",
    "    .filter(flows[\"REPORTER_ISO\"] == \"DE\") \\\n",
    "    .filter(flows[\"YEAR\"] == 2018) \\\n",
    "    .join(broadcast(products), \"PRODUCT_NC\", how=\"left\") \\\n",
    "    .select(\"REPORTER\", \"REPORTER_ISO\", \"PRODUCT_NC_2D\", \"YEAR\", \"EXPORTS\") \\\n",
    "    .groupBy(\"REPORTER\", \"REPORTER_ISO\", \"PRODUCT_NC_2D\", \"YEAR\").agg({\"EXPORTS\": \"sum\"})\n",
    "\n",
    "query = query.withColumn(\"EXPORTS_MN\", round(query[\"sum(EXPORTS)\"]/1e6, 3)) \\\n",
    "    .drop(\"sum(EXPORTS)\") \\\n",
    "    .join(broadcast(reporters), \"REPORTER\", how=\"left\") \\\n",
    "    .join(broadcast(products), query[\"PRODUCT_NC_2d\"] == products[\"PRODUCT_NC\"], how=\"left\") \\\n",
    "    .select(query[\"PRODUCT_NC_2D\"], \"PRODUCT_NAME\", \"EXPORTS_MN\")\n",
    "\n",
    "query.orderBy(query[\"EXPORTS_MN\"].desc()).show(10, truncate=False)"
   ]
  },
  {
   "cell_type": "markdown",
   "metadata": {},
   "source": [
    "# vvv TBD vvv"
   ]
  },
  {
   "cell_type": "markdown",
   "metadata": {},
   "source": [
    "### Example Export from Denmark to the Netherlands >= X mn"
   ]
  },
  {
   "cell_type": "code",
   "execution_count": 65,
   "metadata": {},
   "outputs": [
    {
     "name": "stdout",
     "output_type": "stream",
     "text": [
      "+-----------+----+---------+\n",
      "|PARTNER_ISO|YEAR|  EXPORTS|\n",
      "+-----------+----+---------+\n",
      "|         DE|2018|28277.164|\n",
      "|         SE|2018|20296.471|\n",
      "|         GB|2018|12264.675|\n",
      "|         US|2018| 11498.81|\n",
      "|         NO|2018|10817.759|\n",
      "|         QZ|2018| 9203.426|\n",
      "|         NL|2018| 8537.012|\n",
      "|         FR|2018| 6525.947|\n",
      "|         CN|2018| 6459.382|\n",
      "|         PL|2018| 5367.782|\n",
      "+-----------+----+---------+\n",
      "only showing top 10 rows\n",
      "\n"
     ]
    }
   ],
   "source": [
    "query = flows \\\n",
    "    .filter(flows[\"REPORTER_ISO\"] == \"DK\") \\\n",
    "    .filter(flows[\"YEAR\"] == 2018) \\\n",
    "    .select(\"PARTNER\", \"PARTNER_ISO\", \"YEAR\", \"EXPORTS\") \\\n",
    "    .groupBy(\"PARTNER\", \"PARTNER_ISO\", \"YEAR\").agg({\"EXPORTS\": \"sum\"})\n",
    "query = query.withColumn(\"EXPORTS\", round(query[\"sum(EXPORTS)\"]/1e6, 3)) \\\n",
    "    .drop(\"sum(EXPORTS)\") \\\n",
    "    .drop(\"PARTNER\")  # how to chain?\n",
    "\n",
    "query.orderBy(query[\"EXPORTS\"].desc()).show(10)"
   ]
  },
  {
   "cell_type": "markdown",
   "metadata": {},
   "source": [
    "### Example: Top 10 exports from Argentina to Germany"
   ]
  },
  {
   "cell_type": "code",
   "execution_count": 79,
   "metadata": {},
   "outputs": [
    {
     "name": "stdout",
     "output_type": "stream",
     "text": [
      "+----------+------------+-------+\n",
      "|PRODUCT_NC|sum(IMPORTS)|IMPORTS|\n",
      "+----------+------------+-------+\n",
      "|     TOTAL|   983441306|983.441|\n",
      "|  26030000|   198439966| 198.44|\n",
      "|  02013000|   194604795|194.605|\n",
      "|  29371900|    85198660| 85.199|\n",
      "|  51052900|    46657958| 46.658|\n",
      "|  23040000|    34440129|  34.44|\n",
      "|  04090000|    34256382| 34.256|\n",
      "|  87082990|    28150679| 28.151|\n",
      "|  71069100|    27794690| 27.795|\n",
      "|  23080040|    21072345| 21.072|\n",
      "+----------+------------+-------+\n",
      "only showing top 10 rows\n",
      "\n"
     ]
    }
   ],
   "source": [
    "query = flows \\\n",
    "    .filter(flows[\"REPORTER_ISO\"] == \"DE\") \\\n",
    "    .filter(flows[\"PARTNER_ISO\"] == \"AR\") \\\n",
    "    .filter(flows[\"YEAR\"] == 2018) \\\n",
    "    .select(\"PRODUCT_NC\", \"IMPORTS\") \\\n",
    "    .groupBy(\"PRODUCT_NC\").agg({\"IMPORTS\": \"sum\"})\n",
    "query = query.withColumn(\"IMPORTS\", round(query[\"sum(IMPORTS)\"]/1e6, 3))\n",
    "\n",
    "query.orderBy(query[\"IMPORTS\"].desc()).show(10)"
   ]
  },
  {
   "cell_type": "code",
   "execution_count": 75,
   "metadata": {},
   "outputs": [
    {
     "name": "stdout",
     "output_type": "stream",
     "text": [
      "root\n",
      " |-- REPORTER: integer (nullable = true)\n",
      " |-- REPORTER_ISO: string (nullable = true)\n",
      " |-- PARTNER: integer (nullable = true)\n",
      " |-- PARTNER_ISO: string (nullable = true)\n",
      " |-- TRADE_TYPE: string (nullable = true)\n",
      " |-- PRODUCT_NC: string (nullable = true)\n",
      " |-- YEAR: integer (nullable = true)\n",
      " |-- IMPORTS: long (nullable = true)\n",
      " |-- EXPORTS: long (nullable = true)\n",
      "\n"
     ]
    }
   ],
   "source": [
    "flows.printSchema()"
   ]
  },
  {
   "cell_type": "markdown",
   "metadata": {},
   "source": [
    "### Example: Trade balance of all EU countries"
   ]
  },
  {
   "cell_type": "code",
   "execution_count": 80,
   "metadata": {},
   "outputs": [],
   "source": [
    "# TBD"
   ]
  },
  {
   "cell_type": "markdown",
   "metadata": {},
   "source": [
    "### Example: All exports from the EU"
   ]
  },
  {
   "cell_type": "code",
   "execution_count": 81,
   "metadata": {},
   "outputs": [],
   "source": [
    "# TBD"
   ]
  },
  {
   "cell_type": "markdown",
   "metadata": {},
   "source": [
    "### Example: Imports from Argentina to the EU by year"
   ]
  },
  {
   "cell_type": "code",
   "execution_count": null,
   "metadata": {},
   "outputs": [],
   "source": [
    "# TBD"
   ]
  },
  {
   "cell_type": "markdown",
   "metadata": {},
   "source": [
    "## SparkSQL"
   ]
  },
  {
   "cell_type": "code",
   "execution_count": 66,
   "metadata": {},
   "outputs": [],
   "source": [
    "flows.createOrReplaceTempView(\"trade\")"
   ]
  },
  {
   "cell_type": "markdown",
   "metadata": {},
   "source": [
    "### Example: Total exports of Germany in 2018"
   ]
  },
  {
   "cell_type": "code",
   "execution_count": 72,
   "metadata": {},
   "outputs": [
    {
     "name": "stdout",
     "output_type": "stream",
     "text": [
      "+-------------+\n",
      "| sum(EXPORTS)|\n",
      "+-------------+\n",
      "|2641675895152|\n",
      "+-------------+\n",
      "\n"
     ]
    }
   ],
   "source": [
    "sqlc.sql(\"select sum(EXPORTS) from trade where REPORTER_ISO = 'DE' and YEAR = 2018\").show()\n",
    "\n",
    "# result is wrong"
   ]
  },
  {
   "cell_type": "code",
   "execution_count": 73,
   "metadata": {},
   "outputs": [
    {
     "data": {
      "text/plain": [
       "2641.675895152"
      ]
     },
     "execution_count": 73,
     "metadata": {},
     "output_type": "execute_result"
    }
   ],
   "source": [
    "2641675895152/1e9"
   ]
  },
  {
   "cell_type": "markdown",
   "metadata": {},
   "source": []
  }
 ],
 "metadata": {
  "kernelspec": {
   "display_name": "Python 3",
   "language": "python",
   "name": "python3"
  },
  "language_info": {
   "codemirror_mode": {
    "name": "ipython",
    "version": 3
   },
   "file_extension": ".py",
   "mimetype": "text/x-python",
   "name": "python",
   "nbconvert_exporter": "python",
   "pygments_lexer": "ipython3",
   "version": "3.7.4"
  }
 },
 "nbformat": 4,
 "nbformat_minor": 2
}
