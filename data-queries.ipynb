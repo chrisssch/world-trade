{
 "cells": [
  {
   "cell_type": "markdown",
   "metadata": {},
   "source": [
    "# World Trade: Queries"
   ]
  },
  {
   "cell_type": "code",
   "execution_count": 191,
   "metadata": {},
   "outputs": [],
   "source": [
    "# Initialization and configuration\n",
    "import findspark\n",
    "findspark.init()\n",
    "\n",
    "from pyspark import SparkConf, SparkContext, SQLContext\n",
    "from pyspark.sql import SparkSession\n",
    "\n",
    "# Spark\n",
    "from pyspark.sql.types import *\n",
    "import pyspark.sql.functions as F\n",
    "from pyspark.sql.window import Window"
   ]
  },
  {
   "cell_type": "markdown",
   "metadata": {},
   "source": [
    "## Initialize and configure Spark\n",
    "\n",
    "http://localhost:4040/"
   ]
  },
  {
   "cell_type": "code",
   "execution_count": 2,
   "metadata": {},
   "outputs": [],
   "source": [
    "# Configuration\n",
    "conf = SparkConf().setAppName(\"WorldTrade\").setMaster(\"local[4]\")\n",
    "conf.set(\"spark.driver.maxResultSize\", \"2g\")\n",
    "conf.set(\"spark.driver.memory\", \"2g\")\n",
    "conf.set(\"spark.executor.memory\", \"2g\") \n",
    "conf.set(\"spark.executor.pyspark.memory\", \"2g\")\n",
    "\n",
    "# Initialization\n",
    "sc = SparkContext(conf=conf)\n",
    "sqlc = SQLContext(sc)\n",
    "spark = SparkSession(sc)"
   ]
  },
  {
   "cell_type": "markdown",
   "metadata": {},
   "source": [
    "## Load data\n",
    "\n",
    "* Facts: flows\n",
    "* Dimensions: reporters, partners, products\n",
    "\n",
    "\n",
    "### Reporters"
   ]
  },
  {
   "cell_type": "code",
   "execution_count": 36,
   "metadata": {},
   "outputs": [],
   "source": [
    "schema = StructType([\n",
    "    StructField(\"REPORTER\", IntegerType(), True),\n",
    "    StructField(\"START_DATE\", StringType(), True),\n",
    "    StructField(\"END_DATE\", StringType(), True),\n",
    "    StructField(\"REPORTER_NAME\", StringType(), True),\n",
    "    StructField(\"_c1\", StringType(), True),\n",
    "    StructField(\"_c2\", StringType(), True)\n",
    "])\n",
    "\n",
    "reporters = spark.read.csv(\"data/metadata/REPORTERS.txt\", sep=\"\\t\", header=False, schema=schema)\n",
    "reporters = reporters \\\n",
    "    .select(\"REPORTER\", \"REPORTER_NAME\") \\\n",
    "    .withColumn(\"REPORTER_NAME\", trim(reporters[\"REPORTER_NAME\"])) \\\n",
    "    .cache()   "
   ]
  },
  {
   "cell_type": "code",
   "execution_count": 37,
   "metadata": {},
   "outputs": [
    {
     "data": {
      "text/plain": [
       "29"
      ]
     },
     "execution_count": 37,
     "metadata": {},
     "output_type": "execute_result"
    }
   ],
   "source": [
    "reporters.count()"
   ]
  },
  {
   "cell_type": "code",
   "execution_count": 38,
   "metadata": {},
   "outputs": [
    {
     "name": "stdout",
     "output_type": "stream",
     "text": [
      "+--------+-------------+\n",
      "|REPORTER|REPORTER_NAME|\n",
      "+--------+-------------+\n",
      "|       1|       France|\n",
      "|       2|  Belg.-Luxbg|\n",
      "|       3|  Netherlands|\n",
      "|       4|   Fr Germany|\n",
      "|       5|        Italy|\n",
      "|       6| Utd. Kingdom|\n",
      "|       7|      Ireland|\n",
      "|       8|      Denmark|\n",
      "|       9|       Greece|\n",
      "|      10|     Portugal|\n",
      "+--------+-------------+\n",
      "only showing top 10 rows\n",
      "\n"
     ]
    }
   ],
   "source": [
    "reporters.show(10)"
   ]
  },
  {
   "cell_type": "markdown",
   "metadata": {},
   "source": [
    "### Partners\n",
    "\n",
    "* `partners.filter(partners[\"END_DATE\"] == \"31/12/2500\")`: Filters out countries or territories that don't exist as legal entities anymore"
   ]
  },
  {
   "cell_type": "code",
   "execution_count": 39,
   "metadata": {},
   "outputs": [],
   "source": [
    "schema = StructType([\n",
    "    StructField(\"PARTNER\", IntegerType(), True),\n",
    "    StructField(\"START_DATE\", StringType(), True),\n",
    "    StructField(\"END_DATE\", StringType(), True),\n",
    "    StructField(\"PARTNER_NAME\", StringType(), True),\n",
    "    StructField(\"_c1\", StringType(), True),\n",
    "    StructField(\"_c2\", StringType(), True)\n",
    "])\n",
    "\n",
    "partners = spark.read.csv(\"data/metadata/PARTNERS.txt\", sep=\"\\t\", header=False, schema=schema)\n",
    "partners = partners.filter(partners[\"END_DATE\"] == \"31/12/2500\") \\\n",
    "    .withColumn(\"PARTNER_NAME\", trim(partners[\"PARTNER_NAME\"])) \\\n",
    "    .cache()"
   ]
  },
  {
   "cell_type": "code",
   "execution_count": 40,
   "metadata": {},
   "outputs": [
    {
     "data": {
      "text/plain": [
       "249"
      ]
     },
     "execution_count": 40,
     "metadata": {},
     "output_type": "execute_result"
    }
   ],
   "source": [
    "partners.count()"
   ]
  },
  {
   "cell_type": "code",
   "execution_count": 41,
   "metadata": {},
   "outputs": [
    {
     "name": "stdout",
     "output_type": "stream",
     "text": [
      "+-------+----------+----------+--------------+----------+----------+\n",
      "|PARTNER|START_DATE|  END_DATE|  PARTNER_NAME|       _c1|       _c2|\n",
      "+-------+----------+----------+--------------+----------+----------+\n",
      "|      1|01/01/1997|31/12/2500|        France|01/01/1997|31/12/2500|\n",
      "|      3|01/01/1976|31/12/2500|   Netherlands|01/01/1976|31/12/2500|\n",
      "|      4|01/01/1991|31/12/2500|       Germany|01/01/1991|31/12/2500|\n",
      "|      5|01/01/1994|31/12/2500|         Italy|01/01/1994|31/12/2500|\n",
      "|      6|01/01/1976|31/12/2500|United Kingdom|01/01/1976|31/12/2500|\n",
      "|      7|01/01/1976|31/12/2500|       Ireland|01/01/1976|31/12/2500|\n",
      "|      8|01/01/1976|31/12/2500|       Denmark|01/01/1976|31/12/2500|\n",
      "|      9|01/01/1981|31/12/2500|        Greece|01/01/1981|31/12/2500|\n",
      "|     10|01/01/1986|31/12/2500|      Portugal|01/01/1986|31/12/2500|\n",
      "|     11|01/01/1997|31/12/2500|         Spain|01/01/1997|31/12/2500|\n",
      "+-------+----------+----------+--------------+----------+----------+\n",
      "only showing top 10 rows\n",
      "\n"
     ]
    }
   ],
   "source": [
    "partners.show(10)"
   ]
  },
  {
   "cell_type": "code",
   "execution_count": 42,
   "metadata": {},
   "outputs": [],
   "source": [
    "# Products\n",
    "\n",
    "schema = StructType([\n",
    "    StructField(\"PRODUCT_NC\", StringType(), True),\n",
    "    StructField(\"START_DATE\", StringType(), True),\n",
    "    StructField(\"END_DATE\", StringType(), True),\n",
    "    StructField(\"_c1\", StringType(), True),\n",
    "    StructField(\"PRODUCT_NC_NAME\", StringType(), True),\n",
    "    StructField(\"_c2\", StringType(), True),\n",
    "    StructField(\"_c3\", StringType(), True)   \n",
    "])\n",
    "\n",
    "products = spark.read.csv(\"data/metadata/CN.txt\", sep=\"\\t\", header=False, schema=schema)\n",
    "products = products \\\n",
    "    .select(\"PRODUCT_NC\", \"PRODUCT_NC_NAME\") \\\n",
    "    .withColumn(\"PRODUCT_NC_NAME\", trim(products[\"PRODUCT_NC_NAME\"])) \\\n",
    "    .withColumn(\"HS2\", products[\"PRODUCT_NC\"].substr(1, 2)) \\\n",
    "    .cache()"
   ]
  },
  {
   "cell_type": "code",
   "execution_count": 43,
   "metadata": {},
   "outputs": [
    {
     "data": {
      "text/plain": [
       "31154"
      ]
     },
     "execution_count": 43,
     "metadata": {},
     "output_type": "execute_result"
    }
   ],
   "source": [
    "products.count()"
   ]
  },
  {
   "cell_type": "code",
   "execution_count": 44,
   "metadata": {},
   "outputs": [
    {
     "name": "stdout",
     "output_type": "stream",
     "text": [
      "+----------+--------------------+---+\n",
      "|PRODUCT_NC|     PRODUCT_NC_NAME|HS2|\n",
      "+----------+--------------------+---+\n",
      "|        01|        LIVE ANIMALS| 01|\n",
      "|      0101|LIVE HORSES, ASSE...| 01|\n",
      "|    010110|PURE-BRED BREEDIN...| 01|\n",
      "|  01011010|PURE-BRED BREEDIN...| 01|\n",
      "|  01011090|PURE-BRED BREEDIN...| 01|\n",
      "+----------+--------------------+---+\n",
      "only showing top 5 rows\n",
      "\n"
     ]
    }
   ],
   "source": [
    "products.show(5)"
   ]
  },
  {
   "cell_type": "markdown",
   "metadata": {},
   "source": [
    "### GDP"
   ]
  },
  {
   "cell_type": "code",
   "execution_count": null,
   "metadata": {},
   "outputs": [],
   "source": [
    "# TBD"
   ]
  },
  {
   "cell_type": "markdown",
   "metadata": {},
   "source": [
    "### Trade flows"
   ]
  },
  {
   "cell_type": "markdown",
   "metadata": {},
   "source": [
    "### Product codes (Combined Nomenclature)\n",
    "\n",
    "* https://ec.europa.eu/taxation_customs/business/calculation-customs-duties/what-is-common-customs-tariff/combined-nomenclature_en\n",
    "\n",
    "* `.withColumn(\"HS2\", products[\"PRODUCT_NC\"].substr(1, 2))`: Matches all 8-digit categories with their broader 2-digit categories (Harmonized System Chapters)\n",
    "\n",
    "\n",
    "\n",
    "Code: *TO BE UPDATED*\n",
    "```python\n",
    "\n",
    "flows = spark.read.parquet(\"data/parquet/full2018.parquet\")\n",
    "\n",
    "flows = flows.withColumn(\"YEAR\", flows[\"PERIOD\"].substr(1, 4).cast(IntegerType()))\n",
    "flows = flows \\\n",
    "    .select(\"REPORTER\", \"REPORTER_ISO\", \"PARTNER\", \"PARTNER_ISO\", \"TRADE_TYPE\", \"PRODUCT_NC\", \"FLOW\", \"YEAR\", \"VALUE_IN_EUROS\") \\\n",
    "    .filter(flows[\"YEAR\"] == 2018) \\\n",
    "    .filter(flows[\"PRODUCT_NC\"] != \"TOTAL\") \\\n",
    "    .groupBy(\"REPORTER\", \"REPORTER_ISO\", \"PARTNER\", \"PARTNER_ISO\", \"TRADE_TYPE\", \"PRODUCT_NC\", \"FLOW\", \"YEAR\").agg({\"VALUE_IN_EUROS\": \"sum\"}) \\\n",
    "    .groupBy(\"REPORTER\", \"REPORTER_ISO\", \"PARTNER\", \"PARTNER_ISO\", \"TRADE_TYPE\", \"PRODUCT_NC\", \"YEAR\").pivot(\"FLOW\", [1, 2]).sum(\"sum(VALUE_IN_EUROS)\") \\\n",
    "    .withColumnRenamed(\"1\", \"IMPORTS\").withColumnRenamed(\"2\", \"EXPORTS\") \\\n",
    "    .cache()\n",
    "```\n",
    "\n",
    "What's going on here:\n",
    "1. Read from parquet files\n",
    "2. Select relevnat columns\n",
    "3. Generate column \"YEAR\"; probably better to use date functions\n",
    "4. Aggregate values for all months over each year as well as all other columns\n",
    "5. Pivot: Generate columns \"1\" and \"2\" from \"sum(VALUE_IN_EUROS)\" and the categories of \"FLOW\"\n",
    "6. Rename \"1\" and \"2\" to \"IMPORTS and \"EXPORTS\n",
    "\n",
    "\n",
    "\n"
   ]
  },
  {
   "cell_type": "code",
   "execution_count": 45,
   "metadata": {},
   "outputs": [
    {
     "name": "stdout",
     "output_type": "stream",
     "text": [
      "root\n",
      " |-- REPORTER: integer (nullable = true)\n",
      " |-- REPORTER_ISO: string (nullable = true)\n",
      " |-- PARTNER: integer (nullable = true)\n",
      " |-- PARTNER_ISO: string (nullable = true)\n",
      " |-- TRADE_TYPE: string (nullable = true)\n",
      " |-- PRODUCT_NC: string (nullable = true)\n",
      " |-- PRODUCT_SITC: string (nullable = true)\n",
      " |-- PRODUCT_CPA2002: string (nullable = true)\n",
      " |-- PRODUCT_CPA2008: string (nullable = true)\n",
      " |-- PRODUCT_CPA2_1: string (nullable = true)\n",
      " |-- PRODUCT_BEC: string (nullable = true)\n",
      " |-- PRODUCT_SECTION: string (nullable = true)\n",
      " |-- FLOW: integer (nullable = true)\n",
      " |-- STAT_REGIME: integer (nullable = true)\n",
      " |-- SUPP_UNIT: string (nullable = true)\n",
      " |-- PERIOD: string (nullable = true)\n",
      " |-- VALUE_IN_EUROS: long (nullable = true)\n",
      " |-- QUANTITY_IN_KG: long (nullable = true)\n",
      " |-- SUP_QUANTITY: integer (nullable = true)\n",
      "\n"
     ]
    }
   ],
   "source": [
    "spark.read.parquet(\"data/parquet/full2018.parquet\").printSchema()"
   ]
  },
  {
   "cell_type": "code",
   "execution_count": 51,
   "metadata": {},
   "outputs": [],
   "source": [
    "flows = spark.read.parquet(\"data/parquet/full2018.parquet\")\n",
    "\n",
    "flows = flows.withColumn(\"YEAR\", flows[\"PERIOD\"].substr(1, 4).cast(IntegerType()))\n",
    "flows = flows \\\n",
    "    .select(\"REPORTER\", \"REPORTER_ISO\", \"PARTNER\", \"PARTNER_ISO\", \"TRADE_TYPE\", \"PRODUCT_NC\", \"FLOW\", \"YEAR\", \"VALUE_IN_EUROS\") \\\n",
    "    .filter(flows[\"YEAR\"] == 2018) \\\n",
    "    .filter(flows[\"PRODUCT_NC\"] != \"TOTAL\") \\\n",
    "    .groupBy(\"REPORTER\", \"REPORTER_ISO\", \"PARTNER\", \"PARTNER_ISO\", \"TRADE_TYPE\", \"PRODUCT_NC\", \"FLOW\", \"YEAR\").agg({\"VALUE_IN_EUROS\": \"sum\"}) \\\n",
    "    .groupBy(\"REPORTER\", \"REPORTER_ISO\", \"PARTNER\", \"PARTNER_ISO\", \"TRADE_TYPE\", \"PRODUCT_NC\", \"YEAR\").pivot(\"FLOW\", [1, 2]).sum(\"sum(VALUE_IN_EUROS)\") \\\n",
    "    .withColumnRenamed(\"1\", \"IMPORTS\").withColumnRenamed(\"2\", \"EXPORTS\") \\\n",
    "    .cache()"
   ]
  },
  {
   "cell_type": "code",
   "execution_count": 52,
   "metadata": {},
   "outputs": [
    {
     "name": "stdout",
     "output_type": "stream",
     "text": [
      "root\n",
      " |-- REPORTER: integer (nullable = true)\n",
      " |-- REPORTER_ISO: string (nullable = true)\n",
      " |-- PARTNER: integer (nullable = true)\n",
      " |-- PARTNER_ISO: string (nullable = true)\n",
      " |-- TRADE_TYPE: string (nullable = true)\n",
      " |-- PRODUCT_NC: string (nullable = true)\n",
      " |-- YEAR: integer (nullable = true)\n",
      " |-- IMPORTS: long (nullable = true)\n",
      " |-- EXPORTS: long (nullable = true)\n",
      "\n"
     ]
    }
   ],
   "source": [
    "flows.printSchema()"
   ]
  },
  {
   "cell_type": "code",
   "execution_count": 53,
   "metadata": {},
   "outputs": [
    {
     "data": {
      "text/plain": [
       "200"
      ]
     },
     "execution_count": 53,
     "metadata": {},
     "output_type": "execute_result"
    }
   ],
   "source": [
    "flows.rdd.getNumPartitions()"
   ]
  },
  {
   "cell_type": "code",
   "execution_count": 54,
   "metadata": {},
   "outputs": [
    {
     "data": {
      "text/plain": [
       "6787984"
      ]
     },
     "execution_count": 54,
     "metadata": {},
     "output_type": "execute_result"
    }
   ],
   "source": [
    "flows.count()"
   ]
  },
  {
   "cell_type": "code",
   "execution_count": 55,
   "metadata": {},
   "outputs": [
    {
     "name": "stdout",
     "output_type": "stream",
     "text": [
      "+--------+------------+-------+-----------+----------+----------+----+-------+-------+\n",
      "|REPORTER|REPORTER_ISO|PARTNER|PARTNER_ISO|TRADE_TYPE|PRODUCT_NC|YEAR|IMPORTS|EXPORTS|\n",
      "+--------+------------+-------+-----------+----------+----------+----+-------+-------+\n",
      "|       1|          FR|      6|         GB|         I|  68159100|2018| 451553|    923|\n",
      "|       1|          FR|     17|         BE|         I|  44199010|2018| 565042|  12173|\n",
      "|       1|          FR|     30|         SE|         I|  96132000|2018|   null|   7134|\n",
      "|       1|          FR|     39|         CH|         E|  15159060|2018|   8608| 109757|\n",
      "|       1|          FR|     60|         PL|         I|  84804900|2018| 303859|   null|\n",
      "|       1|          FR|    212|         TN|         E|  39261000|2018|2472112| 388639|\n",
      "|       1|          FR|    346|         KE|         E|  84818063|2018|   null|  90489|\n",
      "|       1|          FR|    664|         IN|         E|  85051910|2018|  49750|  11527|\n",
      "|       1|          FR|    706|         SG|         E|  73202089|2018|    780|  67807|\n",
      "|       3|          NL|      7|         IE|         I|  29031100|2018|   null|    412|\n",
      "+--------+------------+-------+-----------+----------+----------+----+-------+-------+\n",
      "only showing top 10 rows\n",
      "\n"
     ]
    }
   ],
   "source": [
    "flows.show(10)"
   ]
  },
  {
   "cell_type": "code",
   "execution_count": 56,
   "metadata": {},
   "outputs": [
    {
     "data": {
      "text/plain": [
       "28"
      ]
     },
     "execution_count": 56,
     "metadata": {},
     "output_type": "execute_result"
    }
   ],
   "source": [
    "flows.select(\"REPORTER\").distinct().count()"
   ]
  },
  {
   "cell_type": "code",
   "execution_count": 57,
   "metadata": {},
   "outputs": [
    {
     "data": {
      "text/plain": [
       "246"
      ]
     },
     "execution_count": 57,
     "metadata": {},
     "output_type": "execute_result"
    }
   ],
   "source": [
    "flows.select(\"PARTNER\").distinct().count()"
   ]
  },
  {
   "cell_type": "code",
   "execution_count": 58,
   "metadata": {},
   "outputs": [
    {
     "data": {
      "text/plain": [
       "9965"
      ]
     },
     "execution_count": 58,
     "metadata": {},
     "output_type": "execute_result"
    }
   ],
   "source": [
    "flows.select(\"PRODUCT_NC\").distinct().count()"
   ]
  },
  {
   "cell_type": "markdown",
   "metadata": {},
   "source": [
    "## Query examples (Spark)"
   ]
  },
  {
   "cell_type": "markdown",
   "metadata": {},
   "source": [
    "### Total German exports, imports, and trade balance in 2018 in bn"
   ]
  },
  {
   "cell_type": "code",
   "execution_count": 174,
   "metadata": {},
   "outputs": [
    {
     "name": "stdout",
     "output_type": "stream",
     "text": [
      "+--------------+--------------+-------------+\n",
      "|    IMPORTS_BN|    EXPORTS_BN|   BALANCE_BN|\n",
      "+--------------+--------------+-------------+\n",
      "|1088.542025757|1320.837947576|232.295921819|\n",
      "+--------------+--------------+-------------+\n",
      "\n"
     ]
    }
   ],
   "source": [
    "query = flows \\\n",
    "    .filter(flows[\"REPORTER_ISO\"] == \"DE\") \\\n",
    "    .filter(flows[\"YEAR\"] == 2018) \\\n",
    "    .select(\"IMPORTS\", \"EXPORTS\") \\\n",
    "    .agg({\"IMPORTS\": \"sum\", \"EXPORTS\": \"sum\"})\n",
    "query = query \\\n",
    "    .withColumn(\"IMPORTS_BN\", query[\"sum(IMPORTS)\"]/1e9) \\\n",
    "    .withColumn(\"EXPORTS_BN\", query[\"sum(EXPORTS)\"]/1e9) \\\n",
    "    .withColumn(\"BALANCE_BN\", (query[\"sum(Exports)\"] -  query[\"sum(IMPORTS)\"])/1e9) \\\n",
    "    .select(\"IMPORTS_BN\", \"EXPORTS_BN\", \"BALANCE_BN\")\n",
    "\n",
    "query.show()"
   ]
  },
  {
   "cell_type": "markdown",
   "metadata": {},
   "source": [
    "### Example: Top 10 German export destinations in 2018"
   ]
  },
  {
   "cell_type": "code",
   "execution_count": 189,
   "metadata": {},
   "outputs": [
    {
     "name": "stdout",
     "output_type": "stream",
     "text": [
      "+-----------+--------------------+-------------+\n",
      "|PARTNER_ISO|        PARTNER_NAME|   EXPORTS_BN|\n",
      "+-----------+--------------------+-------------+\n",
      "|         US|United States of ...|114.480812071|\n",
      "|         FR|              France|105.138035193|\n",
      "|         CN|               China| 93.680024543|\n",
      "|         NL|         Netherlands| 84.295499168|\n",
      "|         GB|      United Kingdom| 81.773800994|\n",
      "|         IT|               Italy| 69.716726283|\n",
      "|         AT|             Austria| 63.726179308|\n",
      "|         PL|              Poland| 63.290486866|\n",
      "|         CH|         Switzerland| 53.626715897|\n",
      "|         BE|             Belgium| 44.238103706|\n",
      "|         ES|               Spain| 44.191095806|\n",
      "|         CZ|      Czech Republic| 43.866979153|\n",
      "|         SE|              Sweden| 26.219594626|\n",
      "|         HU|             Hungary| 26.171111058|\n",
      "|         RU|              Russia| 25.962639174|\n",
      "|         JP|               Japan| 20.816042712|\n",
      "|         DK|             Denmark| 19.988684314|\n",
      "|         TR|              Turkey| 19.647857859|\n",
      "|         KR| Korea (Republic of)| 17.774154386|\n",
      "|         RO|             Romania| 16.252048949|\n",
      "+-----------+--------------------+-------------+\n",
      "only showing top 20 rows\n",
      "\n"
     ]
    }
   ],
   "source": [
    "query = flows \\\n",
    "    .filter(flows[\"REPORTER_ISO\"] == \"DE\") \\\n",
    "    .filter(flows[\"YEAR\"] == 2018) \\\n",
    "    .groupBy(\"PARTNER\", \"PARTNER_ISO\").agg({\"EXPORTS\": \"sum\"}) \\\n",
    "    .join(broadcast(partners), \"PARTNER\", how=\"left\") \\\n",
    "    .select(\"PARTNER_ISO\", \"PARTNER_NAME\", \"sum(EXPORTS)\")\n",
    "\n",
    "query = query \\\n",
    "    .withColumn(\"EXPORTS_BN\", query[\"sum(EXPORTS)\"]/1e9) \\\n",
    "    .select(\"PARTNER_ISO\", \"PARTNER_NAME\", \"EXPORTS_BN\")\n",
    "\n",
    "query.orderBy(query[\"EXPORTS_BN\"].desc()).show()"
   ]
  },
  {
   "cell_type": "markdown",
   "metadata": {},
   "source": [
    "### Top 10 countries with the highest trade deficit with Germany in 2018 in bn"
   ]
  },
  {
   "cell_type": "code",
   "execution_count": 142,
   "metadata": {},
   "outputs": [
    {
     "name": "stdout",
     "output_type": "stream",
     "text": [
      "+-----------+--------------------+----------+----------+----------+\n",
      "|PARTNER_ISO|        PARTNER_NAME|EXPORTS_BN|IMPORTS_BN|BALANCE_BN|\n",
      "+-----------+--------------------+----------+----------+----------+\n",
      "|         US|United States of ...|114.480834| 48.559429| 65.921338|\n",
      "|         GB|      United Kingdom| 81.773771| 40.509202| 41.264567|\n",
      "|         FR|              France|105.137964| 69.173274| 35.964740|\n",
      "|         CN|               China| 93.680048| 75.466817| 18.213171|\n",
      "|         AT|             Austria| 63.726222| 45.955059| 17.771104|\n",
      "|         ES|               Spain| 44.191083| 32.897243| 11.293842|\n",
      "|         CH|         Switzerland| 53.626724| 42.857159| 10.769528|\n",
      "|         SE|              Sweden| 26.219577| 15.966888| 10.252658|\n",
      "|         IT|               Italy| 69.716666| 60.399467|  9.317248|\n",
      "|         KR| Korea (Republic of)| 17.774181|  9.191087|  8.583074|\n",
      "|         AU|           Australia| 10.090758|  1.718844|  8.371927|\n",
      "|         MX|              Mexico| 13.986662|  6.596369|  7.390323|\n",
      "|         AE|United Arab Emirates|  8.242698|  1.097420|  7.145232|\n",
      "|         CA|              Canada| 10.257298|  3.926883|  6.330395|\n",
      "|         TR|              Turkey| 19.647851| 13.954839|  5.693026|\n",
      "|         IN|               India| 12.502497|  7.088233|  5.414211|\n",
      "|         DK|             Denmark| 19.988692| 14.645903|  5.342741|\n",
      "|         SA|        Saudi Arabia|  6.228817|  0.888422|  5.340416|\n",
      "|         HK|           Hong Kong|  6.050518|  1.465019|  4.585502|\n",
      "|         BR|              Brazil|  9.449423|  4.938916|  4.510523|\n",
      "+-----------+--------------------+----------+----------+----------+\n",
      "only showing top 20 rows\n",
      "\n"
     ]
    }
   ],
   "source": [
    "query = flows \\\n",
    "    .filter(flows[\"REPORTER_ISO\"] == \"DE\") \\\n",
    "    .filter(flows[\"YEAR\"] == 2018) \\\n",
    "    .groupBy(\"PARTNER\", \"PARTNER_ISO\").agg({\"EXPORTS\": \"sum\"}) \\\n",
    "    .join(broadcast(partners), \"PARTNER\", how=\"left\") \\\n",
    "    .select(\"PARTNER_ISO\", \"PARTNER_NAME\", \"sum(EXPORTS)\")\n",
    "\n",
    "query = query \\\n",
    "    .withColumn(\"EXPORTS_BN\", query[\"sum(EXPORTS)\"]/1e9) \\\n",
    "    .select(\"PARTNER_ISO\", \"PARTNER_NAME\", \"EXPORTS_BN\")\n",
    "\n",
    "query.orderBy(query[\"EXPORTS_BN\"].desc()).show()"
   ]
  },
  {
   "cell_type": "markdown",
   "metadata": {},
   "source": [
    "### Example: EU exports, imports, trade balance"
   ]
  },
  {
   "cell_type": "code",
   "execution_count": 190,
   "metadata": {},
   "outputs": [
    {
     "name": "stdout",
     "output_type": "stream",
     "text": [
      "+--------------+--------------+-------------+\n",
      "|    IMPORTS_BN|    EXPORTS_BN|   BALANCE_BN|\n",
      "+--------------+--------------+-------------+\n",
      "|1979.238119304|1956.362157891|-22.875961413|\n",
      "+--------------+--------------+-------------+\n",
      "\n"
     ]
    }
   ],
   "source": [
    "query = flows \\\n",
    "    .filter(flows[\"TRADE_TYPE\"] == \"E\") \\\n",
    "    .filter(flows[\"YEAR\"] == 2018) \\\n",
    "    .select(\"IMPORTS\", \"EXPORTS\") \\\n",
    "    .agg({\"IMPORTS\": \"sum\", \"EXPORTS\": \"sum\"})\n",
    "query = query \\\n",
    "    .withColumn(\"IMPORTS_BN\", query[\"sum(IMPORTS)\"]/1e9) \\\n",
    "    .withColumn(\"EXPORTS_BN\", query[\"sum(EXPORTS)\"]/1e9) \\\n",
    "    .withColumn(\"BALANCE_BN\", (query[\"sum(Exports)\"] -  query[\"sum(IMPORTS)\"])/1e9) \\\n",
    "    .select(\"IMPORTS_BN\", \"EXPORTS_BN\", \"BALANCE_BN\")\n",
    "\n",
    "query.show()"
   ]
  },
  {
   "cell_type": "markdown",
   "metadata": {},
   "source": [
    "### Example with ranks: Partner by reporter, ranked by exports"
   ]
  },
  {
   "cell_type": "code",
   "execution_count": 197,
   "metadata": {},
   "outputs": [],
   "source": [
    "query = flows \\\n",
    "    .filter(flows[\"YEAR\"] == 2018) \\\n",
    "    .groupBy(\"REPORTER\", \"REPORTER_ISO\", \"PARTNER\", \"PARTNER_ISO\").agg({\"EXPORTS\": \"sum\"})\n",
    "\n",
    "query = query \\\n",
    "    .withColumn(\"EXPORTS_MN\", query[\"sum(EXPORTS)\"]/1e6) \\\n",
    "    .select(\"REPORTER\", \"REPORTER_ISO\", \"PARTNER\", \"PARTNER_ISO\", \"EXPORTS_MN\")\n",
    "\n",
    "query = query.withColumn(\"RANK\", F.rank().over(\n",
    "        Window.partitionBy(query[\"REPORTER_ISO\"]).orderBy(query[\"EXPORTS_MN\"].desc())\n",
    "    )) \\\n",
    "    .join(broadcast(reporters), \"REPORTER\", how=\"left\") \\\n",
    "    .join(broadcast(partners), \"PARTNER\", how=\"left\") \\\n",
    "    .select(\"REPORTER_ISO\", \"REPORTER_NAME\", \"PARTNER_ISO\", \"PARTNER_NAME\", \"RANK\", \"EXPORTS_MN\")"
   ]
  },
  {
   "cell_type": "code",
   "execution_count": 198,
   "metadata": {},
   "outputs": [
    {
     "name": "stdout",
     "output_type": "stream",
     "text": [
      "+------------+-------------+-----------+--------------------+----+------------+\n",
      "|REPORTER_ISO|REPORTER_NAME|PARTNER_ISO|        PARTNER_NAME|RANK|  EXPORTS_MN|\n",
      "+------------+-------------+-----------+--------------------+----+------------+\n",
      "|          DK|      Denmark|         DE|             Germany|   1|13729.969159|\n",
      "|          DK|      Denmark|         SE|              Sweden|   2|   9669.9423|\n",
      "|          DK|      Denmark|         QZ|Countries and ter...|   3| 9203.425962|\n",
      "|          DK|      Denmark|         GB|      United Kingdom|   4| 5888.922523|\n",
      "|          DK|      Denmark|         QY|Countries and ter...|   5| 5356.035594|\n",
      "|          DK|      Denmark|         NO|              Norway|   6| 5164.612013|\n",
      "|          DK|      Denmark|         NL|         Netherlands|   7|  4121.74832|\n",
      "|          DK|      Denmark|         US|United States of ...|   8| 3971.658074|\n",
      "|          DK|      Denmark|         FR|              France|   9| 3017.698442|\n",
      "|          DK|      Denmark|         CN|               China|  10| 2661.983877|\n",
      "|          DK|      Denmark|         PL|              Poland|  11| 2568.846072|\n",
      "|          DK|      Denmark|         IT|               Italy|  12| 2163.765999|\n",
      "|          DK|      Denmark|         ES|               Spain|  13| 1761.926458|\n",
      "|          DK|      Denmark|         FI|             Finland|  14| 1742.318024|\n",
      "|          DK|      Denmark|         BE|             Belgium|  15| 1549.155916|\n",
      "|          DK|      Denmark|         JP|               Japan|  16| 1232.051995|\n",
      "|          DK|      Denmark|         AU|           Australia|  17|  810.183493|\n",
      "|          DK|      Denmark|         RU|              Russia|  18|  683.056547|\n",
      "|          DK|      Denmark|         TR|              Turkey|  19|  676.246322|\n",
      "|          DK|      Denmark|         AT|             Austria|  20|  656.427459|\n",
      "+------------+-------------+-----------+--------------------+----+------------+\n",
      "only showing top 20 rows\n",
      "\n"
     ]
    }
   ],
   "source": [
    "# Example: Denmark\n",
    "query.filter(query[\"REPORTER_ISO\"] == \"DK\").orderBy(query[\"RANK\"]).show()"
   ]
  },
  {
   "cell_type": "code",
   "execution_count": 199,
   "metadata": {},
   "outputs": [
    {
     "name": "stdout",
     "output_type": "stream",
     "text": [
      "+------------+-------------+-----------+--------------------+----+------------+\n",
      "|REPORTER_ISO|REPORTER_NAME|PARTNER_ISO|        PARTNER_NAME|RANK|  EXPORTS_MN|\n",
      "+------------+-------------+-----------+--------------------+----+------------+\n",
      "|          NL|  Netherlands|         DE|             Germany|   1|139203.49707|\n",
      "|          NL|  Netherlands|         BE|             Belgium|   2|65860.847258|\n",
      "|          NL|  Netherlands|         FR|              France|   3|50603.713855|\n",
      "|          NL|  Netherlands|         GB|      United Kingdom|   4|48783.012722|\n",
      "|          NL|  Netherlands|         US|United States of ...|   5|26576.845099|\n",
      "|          NL|  Netherlands|         IT|               Italy|   6|23599.327679|\n",
      "|          NL|  Netherlands|         ES|               Spain|   7|18453.018886|\n",
      "|          NL|  Netherlands|         QY|Countries and ter...|   8|16394.810753|\n",
      "|          NL|  Netherlands|         PL|              Poland|   9|14989.288489|\n",
      "|          NL|  Netherlands|         SE|              Sweden|  10|13939.051803|\n",
      "|          NL|  Netherlands|         CN|               China|  11|10669.750254|\n",
      "|          NL|  Netherlands|         CZ|      Czech Republic|  12|10438.342816|\n",
      "|          NL|  Netherlands|         AT|             Austria|  13| 8229.187105|\n",
      "|          NL|  Netherlands|         DK|             Denmark|  14| 7344.015396|\n",
      "|          NL|  Netherlands|         CH|         Switzerland|  15| 7154.237393|\n",
      "|          NL|  Netherlands|         RU|              Russia|  16| 5887.323395|\n",
      "|          NL|  Netherlands|         TR|              Turkey|  17| 5867.865348|\n",
      "|          NL|  Netherlands|         FI|             Finland|  18| 5841.078941|\n",
      "|          NL|  Netherlands|         SG|           Singapore|  19| 5664.341879|\n",
      "|          NL|  Netherlands|         KR| Korea (Republic of)|  20| 5337.757212|\n",
      "+------------+-------------+-----------+--------------------+----+------------+\n",
      "only showing top 20 rows\n",
      "\n"
     ]
    }
   ],
   "source": [
    "# Example: Netherlands\n",
    "query.filter(query[\"REPORTER_ISO\"] == \"NL\").orderBy(query[\"RANK\"]).show()"
   ]
  },
  {
   "cell_type": "markdown",
   "metadata": {},
   "source": [
    "### Exports from Argentina to Germany (CN8)"
   ]
  },
  {
   "cell_type": "code",
   "execution_count": 204,
   "metadata": {},
   "outputs": [
    {
     "name": "stdout",
     "output_type": "stream",
     "text": [
      "+----------+--------------------+----------+\n",
      "|PRODUCT_NC|     PRODUCT_NC_NAME|IMPORTS_MN|\n",
      "+----------+--------------------+----------+\n",
      "|  26030000|COPPER ORES AND C...|198.439966|\n",
      "|  02013000|FRESH OR CHILLED ...|194.604795|\n",
      "|  29371900|POLYPEPTIDE HORMO...|  85.19866|\n",
      "|  51052900|WOOL, COMBED (EXC...| 46.657958|\n",
      "|  23040000|OILCAKE AND OTHER...| 34.440129|\n",
      "|  04090000|       NATURAL HONEY| 34.256382|\n",
      "|  87082990|PARTS AND ACCESSO...| 28.150679|\n",
      "|  71069100|SILVER, INCL. SIL...|  27.79469|\n",
      "|  23080040|ACORNS AND HORSE-...| 21.072345|\n",
      "|  38231990|FATTY ACIDS, INDU...| 19.457899|\n",
      "+----------+--------------------+----------+\n",
      "only showing top 10 rows\n",
      "\n"
     ]
    }
   ],
   "source": [
    "query = flows \\\n",
    "    .filter(flows[\"YEAR\"] == 2018) \\\n",
    "    .filter(flows[\"REPORTER_ISO\"] == \"DE\") \\\n",
    "    .filter(flows[\"PARTNER_ISO\"] == \"AR\") \\\n",
    "    .groupBy(\"PRODUCT_NC\").agg({\"IMPORTS\": \"sum\"})\n",
    "\n",
    "query = query.withColumn(\"IMPORTS_MN\", query[\"sum(IMPORTS)\"]/1e6) \\\n",
    "    .join(broadcast(products), \"PRODUCT_NC\", how=\"left\") \\\n",
    "    .select(\"PRODUCT_NC\", \"PRODUCT_NC_NAME\", \"IMPORTS_MN\")\n",
    "\n",
    "query.orderBy(query[\"IMPORTS_MN\"].desc()).show(10, truncate=True)"
   ]
  },
  {
   "cell_type": "code",
   "execution_count": 203,
   "metadata": {},
   "outputs": [
    {
     "name": "stdout",
     "output_type": "stream",
     "text": [
      "+----------+---------------------------------------------------------------------------------------------------------------------------------------------------------------------------------------------------------------------------------------------------------------------------------------------------------------------------------------------------------------------------------------------------------------------------------------+----------+\n",
      "|PRODUCT_NC|PRODUCT_NC_NAME                                                                                                                                                                                                                                                                                                                                                                                                                        |IMPORTS_MN|\n",
      "+----------+---------------------------------------------------------------------------------------------------------------------------------------------------------------------------------------------------------------------------------------------------------------------------------------------------------------------------------------------------------------------------------------------------------------------------------------+----------+\n",
      "|26030000  |COPPER ORES AND CONCENTRATES                                                                                                                                                                                                                                                                                                                                                                                                           |198.439966|\n",
      "|02013000  |FRESH OR CHILLED BOVINE MEAT, BONELESS                                                                                                                                                                                                                                                                                                                                                                                                 |194.604795|\n",
      "|29371900  |POLYPEPTIDE HORMONES, PROTEIN HORMONES AND GLYCOPROTEIN HORMONES, THEIR DERIVATIVES AND STRUCTURAL ANALOGUES, USED PRIMARILY AS HORMONES (EXCL. SOMATROPIN, ITS DERIVATIVES AND STRUCTURAL ANALOGUES, AND INSULIN AND ITS SALTS)                                                                                                                                                                                                       |85.19866  |\n",
      "|51052900  |WOOL, COMBED (EXCL. THAT IN FRAGMENTS \"OPEN TOPS\")                                                                                                                                                                                                                                                                                                                                                                                     |46.657958 |\n",
      "|23040000  |OILCAKE AND OTHER SOLID RESIDUES, WHETHER OR NOT GROUND OR IN THE FORM OF PELLETS, RESULTING FROM THE EXTRACTION OF SOYA-BEAN OIL                                                                                                                                                                                                                                                                                                      |34.440129 |\n",
      "|04090000  |NATURAL HONEY                                                                                                                                                                                                                                                                                                                                                                                                                          |34.256382 |\n",
      "|87082990  |PARTS AND ACCESSORIES FOR THE INDUSTRIAL ASSEMBLY OF BODIES OF: TRACTORS, MOTOR VEHICLES FOR THE TRANSPORT OF >= 10 PERSONS, MOTOR CARS AND VEHICLES PRINCIPALLY DESIGNED FOR THE TRANSPORT OF PERSONS, MOTOR VEHICLES FOR THE TRANSPORT OF GOODS, SPECIAL PURPOSE MOTOR VEHICLES (EXCL. BUMPERS AND PARTS THEREOF, SAFETY SEAT BELTS AND PARTS AND ACCESSORIES FOR THE INDUSTRIAL ASSEMBLY OF MOTOR VEHICLES OF SUBHEADING 8708.29.10)|28.150679 |\n",
      "|71069100  |SILVER, INCL. SILVER PLATED WITH GOLD OR PLATINUM, UNWROUGHT (EXCL. SILVER IN POWDER FORM)                                                                                                                                                                                                                                                                                                                                             |27.79469  |\n",
      "|23080040  |ACORNS AND HORSE-CHESTNUTS AND POMACE OR MARC OF FRUIT, FOR ANIMAL FEEDING, WHETHER OR NOT IN THE FORM OF PELLETS (EXCL. GRAPE MARC)                                                                                                                                                                                                                                                                                                   |21.072345 |\n",
      "|38231990  |FATTY ACIDS, INDUSTRIAL, MONOCARBOXYLIC; ACID OILS FROM REFINING (EXCL. STEARIC ACID, OLEIC ACID AND TALL OIL FATTY ACIDS, DISTILLED FATTY ACIDS AND FATTY ACID DISTILLATE)                                                                                                                                                                                                                                                            |19.457899 |\n",
      "+----------+---------------------------------------------------------------------------------------------------------------------------------------------------------------------------------------------------------------------------------------------------------------------------------------------------------------------------------------------------------------------------------------------------------------------------------------+----------+\n",
      "only showing top 10 rows\n",
      "\n"
     ]
    }
   ],
   "source": [
    "query = flows \\\n",
    "    .filter(flows[\"YEAR\"] == 2018) \\\n",
    "    .filter(flows[\"REPORTER_ISO\"] == \"DE\") \\\n",
    "    .filter(flows[\"PARTNER_ISO\"] == \"AR\") \\\n",
    "    .groupBy(\"PRODUCT_NC\").agg({\"IMPORTS\": \"sum\"})\n",
    "\n",
    "query = query.withColumn(\"IMPORTS_MN\", query[\"sum(IMPORTS)\"]/1e6) \\\n",
    "    .join(broadcast(products), \"PRODUCT_NC\", how=\"left\") \\\n",
    "    .select(\"PRODUCT_NC\", \"PRODUCT_NC_NAME\", \"IMPORTS_MN\")\n",
    "\n",
    "query.orderBy(query[\"IMPORTS_MN\"].desc()).show(10, truncate=False)"
   ]
  },
  {
   "cell_type": "markdown",
   "metadata": {},
   "source": [
    "### Exports from Argentina to Germany (HS2)"
   ]
  },
  {
   "cell_type": "code",
   "execution_count": 209,
   "metadata": {},
   "outputs": [
    {
     "name": "stdout",
     "output_type": "stream",
     "text": [
      "+---+---------------------------------------------------------------------------------------------------------------------------------------------------------------+----------+\n",
      "|HS2|HS2_NAME                                                                                                                                                       |IMPORTS_MN|\n",
      "+---+---------------------------------------------------------------------------------------------------------------------------------------------------------------+----------+\n",
      "|26 |ORES, SLAG AND ASH                                                                                                                                             |217.186164|\n",
      "|02 |MEAT AND EDIBLE MEAT OFFAL                                                                                                                                     |198.467026|\n",
      "|87 |VEHICLES OTHER THAN RAILWAY OR TRAMWAY ROLLING-STOCK, AND PARTS AND ACCESSORIES THEREOF                                                                        |96.47269  |\n",
      "|29 |ORGANIC CHEMICALS                                                                                                                                              |87.133348 |\n",
      "|23 |RESIDUES AND WASTE FROM THE FOOD INDUSTRIES; PREPARED ANIMAL FODDER                                                                                            |55.51482  |\n",
      "|51 |WOOL, FINE OR COARSE ANIMAL HAIR; HORSEHAIR YARN AND WOVEN FABRIC                                                                                              |48.437369 |\n",
      "|22 |BEVERAGES, SPIRITS AND VINEGAR                                                                                                                                 |39.100959 |\n",
      "|04 |DAIRY PRODUCE; BIRDS' EGGS; NATURAL HONEY; EDIBLE PRODUCTS OF ANIMAL ORIGIN, NOT ELSEWHERE SPECIFIED OR INCLUDED                                               |34.256823 |\n",
      "|84 |NUCLEAR REACTORS, BOILERS, MACHINERY AND MECHANICAL APPLIANCES; PARTS THEREOF                                                                                  |34.110421 |\n",
      "|71 |NATURAL OR CULTURED PEARLS, PRECIOUS OR SEMI-PRECIOUS STONES, PRECIOUS METALS, METALS CLAD WITH PRECIOUS METAL, AND ARTICLES THEREOF; IMITATION JEWELLERY; COIN|29.720306 |\n",
      "+---+---------------------------------------------------------------------------------------------------------------------------------------------------------------+----------+\n",
      "only showing top 10 rows\n",
      "\n"
     ]
    }
   ],
   "source": [
    "query = flows \\\n",
    "    .filter(flows[\"YEAR\"] == 2018) \\\n",
    "    .filter(flows[\"REPORTER_ISO\"] == \"DE\") \\\n",
    "    .filter(flows[\"PARTNER_ISO\"] == \"AR\") \\\n",
    "    .join(broadcast(products), \"PRODUCT_NC\", how=\"left\") \\\n",
    "    .groupBy(\"HS2\").agg({\"IMPORTS\": \"sum\"})\n",
    "\n",
    "query = query.withColumn(\"IMPORTS_MN\", query[\"sum(IMPORTS)\"]/1e6) \\\n",
    "    .join(broadcast(products), query[\"HS2\"] == products[\"PRODUCT_NC\"], how=\"left\") \\\n",
    "    .select(query[\"HS2\"], \"PRODUCT_NC_NAME\", \"IMPORTS_MN\") \\\n",
    "    .withColumnRenamed(\"PRODUCT_NC_NAME\", \"HS2_NAME\")\n",
    "\n",
    "query.orderBy(query[\"IMPORTS_MN\"].desc()).show(10, truncate=False)"
   ]
  },
  {
   "cell_type": "markdown",
   "metadata": {},
   "source": [
    "### Openness of each EU economy"
   ]
  },
  {
   "cell_type": "code",
   "execution_count": 212,
   "metadata": {},
   "outputs": [],
   "source": [
    "# TBD"
   ]
  },
  {
   "cell_type": "markdown",
   "metadata": {},
   "source": [
    "### Exports from Argentina to the EU >= X mn"
   ]
  },
  {
   "cell_type": "code",
   "execution_count": 210,
   "metadata": {},
   "outputs": [],
   "source": [
    "# TBD"
   ]
  },
  {
   "cell_type": "markdown",
   "metadata": {},
   "source": [
    "## Query examples (SQL)\n",
    "\n",
    "### Register views"
   ]
  },
  {
   "cell_type": "code",
   "execution_count": 137,
   "metadata": {},
   "outputs": [],
   "source": [
    "flows.createOrReplaceTempView(\"flows\")\n",
    "reporters.createOrReplaceTempView(\"reporters\")\n",
    "partners.createOrReplaceTempView(\"partners\")\n",
    "products.createOrReplaceTempView(\"products\")"
   ]
  },
  {
   "cell_type": "markdown",
   "metadata": {},
   "source": [
    "### Total German exports, imports, and trade balance in 2018 in bn"
   ]
  },
  {
   "cell_type": "code",
   "execution_count": 139,
   "metadata": {},
   "outputs": [
    {
     "name": "stdout",
     "output_type": "stream",
     "text": [
      "+-----------+-----------+----------+\n",
      "| EXPORTS_BN| IMPORTS_BN|BALANCE_BN|\n",
      "+-----------+-----------+----------+\n",
      "|1320.840158|1088.541680|232.295922|\n",
      "+-----------+-----------+----------+\n",
      "\n"
     ]
    }
   ],
   "source": [
    "query = \"\"\"\n",
    "    select\n",
    "        sum(EXPORTS/1e9) as EXPORTS_BN,\n",
    "        sum(IMPORTS/1e9) as IMPORTS_BN,\n",
    "        (sum(EXPORTS) - sum(IMPORTS))/1e9 as BALANCE_BN \n",
    "    from flows \n",
    "    where \n",
    "        REPORTER_ISO = 'DE' and\n",
    "        YEAR = 2018 \n",
    "\"\"\"\n",
    "sqlc.sql(query).show()"
   ]
  },
  {
   "cell_type": "markdown",
   "metadata": {},
   "source": [
    "### Example: Top 10 German export destinations in 2018"
   ]
  },
  {
   "cell_type": "code",
   "execution_count": 144,
   "metadata": {},
   "outputs": [
    {
     "name": "stdout",
     "output_type": "stream",
     "text": [
      "+-----------+--------------------+----------+\n",
      "|PARTNER_ISO|        PARTNER_NAME|EXPORTS_BN|\n",
      "+-----------+--------------------+----------+\n",
      "|         US|United States of ...|114.480834|\n",
      "|         FR|              France|105.137964|\n",
      "|         CN|               China| 93.680048|\n",
      "|         NL|         Netherlands| 84.295506|\n",
      "|         GB|      United Kingdom| 81.773771|\n",
      "|         IT|               Italy| 69.716666|\n",
      "|         AT|             Austria| 63.726222|\n",
      "|         PL|              Poland| 63.290483|\n",
      "|         CH|         Switzerland| 53.626724|\n",
      "|         BE|             Belgium| 44.238112|\n",
      "+-----------+--------------------+----------+\n",
      "only showing top 10 rows\n",
      "\n"
     ]
    }
   ],
   "source": [
    "query = \"\"\"\n",
    "    select\n",
    "        PARTNER_ISO,\n",
    "        PARTNER_NAME,\n",
    "        sum(EXPORTS/1e9) as EXPORTS_BN\n",
    "    from flows \n",
    "    join partners on partners.PARTNER = flows.PARTNER\n",
    "    where \n",
    "        REPORTER_ISO = 'DE' and\n",
    "        YEAR = 2018 \n",
    "    group by\n",
    "        PARTNER_ISO,\n",
    "        PARTNER_NAME\n",
    "    order by EXPORTS_BN desc\n",
    "\"\"\"\n",
    "sqlc.sql(query).show(10)"
   ]
  },
  {
   "cell_type": "markdown",
   "metadata": {},
   "source": [
    "### Top 10 countries with the highest trade deficit with Germany in 2018 in bn"
   ]
  },
  {
   "cell_type": "code",
   "execution_count": 142,
   "metadata": {},
   "outputs": [
    {
     "name": "stdout",
     "output_type": "stream",
     "text": [
      "+-----------+--------------------+----------+----------+----------+\n",
      "|PARTNER_ISO|        PARTNER_NAME|EXPORTS_BN|IMPORTS_BN|BALANCE_BN|\n",
      "+-----------+--------------------+----------+----------+----------+\n",
      "|         US|United States of ...|114.480834| 48.559429| 65.921338|\n",
      "|         GB|      United Kingdom| 81.773771| 40.509202| 41.264567|\n",
      "|         FR|              France|105.137964| 69.173274| 35.964740|\n",
      "|         CN|               China| 93.680048| 75.466817| 18.213171|\n",
      "|         AT|             Austria| 63.726222| 45.955059| 17.771104|\n",
      "|         ES|               Spain| 44.191083| 32.897243| 11.293842|\n",
      "|         CH|         Switzerland| 53.626724| 42.857159| 10.769528|\n",
      "|         SE|              Sweden| 26.219577| 15.966888| 10.252658|\n",
      "|         IT|               Italy| 69.716666| 60.399467|  9.317248|\n",
      "|         KR| Korea (Republic of)| 17.774181|  9.191087|  8.583074|\n",
      "|         AU|           Australia| 10.090758|  1.718844|  8.371927|\n",
      "|         MX|              Mexico| 13.986662|  6.596369|  7.390323|\n",
      "|         AE|United Arab Emirates|  8.242698|  1.097420|  7.145232|\n",
      "|         CA|              Canada| 10.257298|  3.926883|  6.330395|\n",
      "|         TR|              Turkey| 19.647851| 13.954839|  5.693026|\n",
      "|         IN|               India| 12.502497|  7.088233|  5.414211|\n",
      "|         DK|             Denmark| 19.988692| 14.645903|  5.342741|\n",
      "|         SA|        Saudi Arabia|  6.228817|  0.888422|  5.340416|\n",
      "|         HK|           Hong Kong|  6.050518|  1.465019|  4.585502|\n",
      "|         BR|              Brazil|  9.449423|  4.938916|  4.510523|\n",
      "+-----------+--------------------+----------+----------+----------+\n",
      "only showing top 20 rows\n",
      "\n"
     ]
    }
   ],
   "source": [
    "query = \"\"\"\n",
    "    select\n",
    "        PARTNER_ISO,\n",
    "        PARTNER_NAME,\n",
    "        sum(EXPORTS/1e9) as EXPORTS_BN,\n",
    "        sum(IMPORTS/1e9) as IMPORTS_BN,\n",
    "        (sum(EXPORTS) - sum(IMPORTS))/1e9 as BALANCE_BN \n",
    "    from flows \n",
    "    join partners on partners.PARTNER = flows.PARTNER\n",
    "    where \n",
    "        REPORTER_ISO = 'DE' and\n",
    "        YEAR = 2018 \n",
    "    group by\n",
    "        PARTNER_ISO,\n",
    "        PARTNER_NAME\n",
    "    order by BALANCE_BN desc\n",
    "\"\"\"\n",
    "sqlc.sql(query).show(20)"
   ]
  },
  {
   "cell_type": "markdown",
   "metadata": {},
   "source": [
    "### Example: EU exports, imports, trade balance"
   ]
  },
  {
   "cell_type": "code",
   "execution_count": 152,
   "metadata": {},
   "outputs": [
    {
     "name": "stdout",
     "output_type": "stream",
     "text": [
      "+-----------+-----------+----------+\n",
      "| EXPORTS_BN| IMPORTS_BN|BALANCE_BN|\n",
      "+-----------+-----------+----------+\n",
      "|1956.318791|1979.205124|-22.875961|\n",
      "+-----------+-----------+----------+\n",
      "\n"
     ]
    }
   ],
   "source": [
    "query = \"\"\"\n",
    "    select\n",
    "        sum(EXPORTS/1e9) as EXPORTS_BN,\n",
    "        sum(IMPORTS/1e9) as IMPORTS_BN,\n",
    "        (sum(EXPORTS) - sum(IMPORTS))/1e9 as BALANCE_BN \n",
    "    from flows \n",
    "    where \n",
    "        TRADE_TYPE = 'E' and\n",
    "        YEAR = 2018 \n",
    "\"\"\"\n",
    "sqlc.sql(query).show()"
   ]
  },
  {
   "cell_type": "markdown",
   "metadata": {},
   "source": [
    "### Example with ranks: Partner by reporter, ranked by exports"
   ]
  },
  {
   "cell_type": "code",
   "execution_count": null,
   "metadata": {},
   "outputs": [],
   "source": [
    "# TBD"
   ]
  },
  {
   "cell_type": "markdown",
   "metadata": {},
   "source": [
    "### Exports from Argentina to Germany (CN8)"
   ]
  },
  {
   "cell_type": "code",
   "execution_count": null,
   "metadata": {},
   "outputs": [],
   "source": [
    "# TBD"
   ]
  },
  {
   "cell_type": "markdown",
   "metadata": {},
   "source": [
    "### Exports from Argentina to Germany (HS2)"
   ]
  },
  {
   "cell_type": "code",
   "execution_count": null,
   "metadata": {},
   "outputs": [],
   "source": [
    "# TBD"
   ]
  },
  {
   "cell_type": "markdown",
   "metadata": {},
   "source": [
    "### Exports from Argentina to the EU >= X mn"
   ]
  },
  {
   "cell_type": "code",
   "execution_count": 211,
   "metadata": {},
   "outputs": [],
   "source": [
    "# TBD"
   ]
  },
  {
   "cell_type": "markdown",
   "metadata": {},
   "source": [
    "### Openness of each EU economy"
   ]
  },
  {
   "cell_type": "code",
   "execution_count": null,
   "metadata": {},
   "outputs": [],
   "source": [
    "# TBD"
   ]
  }
 ],
 "metadata": {
  "kernelspec": {
   "display_name": "Python 3",
   "language": "python",
   "name": "python3"
  },
  "language_info": {
   "codemirror_mode": {
    "name": "ipython",
    "version": 3
   },
   "file_extension": ".py",
   "mimetype": "text/x-python",
   "name": "python",
   "nbconvert_exporter": "python",
   "pygments_lexer": "ipython3",
   "version": "3.7.3"
  }
 },
 "nbformat": 4,
 "nbformat_minor": 2
}
